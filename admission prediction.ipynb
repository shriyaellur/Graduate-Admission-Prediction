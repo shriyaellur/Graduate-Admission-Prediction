{
 "cells": [
  {
   "cell_type": "markdown",
   "metadata": {
    "slideshow": {
     "slide_type": "slide"
    }
   },
   "source": [
    "<table align=\"center\" width=100%>\n",
    "    <tr>\n",
    "        <td width=\"14%\">\n",
    "            <img src=\"gRAD.png\">\n",
    "        </td>\n",
    "        <td>\n",
    "            <div align=\"center\">\n",
    "                <font color=\"purple\" size=50%>\n",
    "                    <b>GRADUATE ADMISSION PREDICTION\n",
    "                    </b>\n",
    "                </font>\n",
    "            </div>\n",
    "        </td>\n",
    "    </tr>\n",
    "</table>"
   ]
  },
  {
   "cell_type": "markdown",
   "metadata": {},
   "source": [
    "## Problem Statement\n",
    "\n",
    "Students are often worried about their chances of admission in graduate school. The aim of this machine learning model is to help students in shortlisting universities with their profiles. The predicted output gives them a fair idea about their admission chances in a particular university. This will assist students to know in advance if they have a chance to get accepted."
   ]
  },
  {
   "cell_type": "markdown",
   "metadata": {
    "slideshow": {
     "slide_type": "slide"
    }
   },
   "source": [
    "## Data Definition\n",
    "\n",
    "**GRE Score:** Graduate Record Exam (GRE) score. The score will be out of 340 points (numeric)\n",
    "\n",
    "**TOEFL Score:** Test of English as a Foreigner Language2 (TOEFL) score, which will be out of 120 points (numeric)\n",
    "\n",
    "**University Rating:** University Rating (Uni.Rating) that indicates the Bachelor University ranking among the other\n",
    "                       universities. The score will be out of 5 (numeric)\n",
    "\n",
    "**SOP:** Statement of purpose (SOP) which is a document written to show the candidate's life, ambitious and the motivations for\n",
    "         the chosen degree/ university. The score will be out of 5 points (numeric)\n",
    "\n",
    "**LOR:** Letter of Recommendation Strength (LOR) which verifies the candidate professional experience, builds credibility,\n",
    "         boosts confidence and ensures your competency. The score is out of 5 points (numeric) \n",
    "\n",
    "**CGPA:** Undergraduate GPA (CGPA) out of 10 (numeric)\n",
    "\n",
    "**Research:** Research Experience that can support the application, such as publishing research papers in conferences, working               as research assistant with university professor (either yes or no) (categorical)\n",
    "\n",
    "**Chance of Admit:** One dependent variable can be predicted which is chance of admission, that is according to the input given                      will be ranging from 0 to 1 (numeric)."
   ]
  },
  {
   "cell_type": "markdown",
   "metadata": {
    "slideshow": {
     "slide_type": "skip"
    }
   },
   "source": [
    "## Table of Contents\n",
    "\n",
    "1. **[Import Libraries](#import_lib)**\n",
    "2. **[Set Options](#set_options)**\n",
    "3. **[Read Data](#Read_Data)**\n",
    "4. **[Data Preprocessing](#data_preparation)**\n",
    "    - 4.1 - [Data Dimension](#Data_Shape)\n",
    "    - 4.2 - [Data Types](#Data_Types)\n",
    "    - 4.3 - [Missing Values](#Missing_Values)\n",
    "    - 4.4 - [Summary Statistics](#Summary_Statistics)\n",
    "    - 4.5 - [Analyze Categorical Variables](#categorical)\n",
    "    - 4.6 - [Discover Outliers](#outliers)\n",
    "    - 4.7 - [Correlation](#correlation)\n",
    "    - 4.8 - [Analyze Relationships Between Variables](#categorical_numerical)\n",
    "    - 4.9 - [Dummy Encoding of Categorical Variables](#dummy)\n",
    "5. **[Linear Regression (OLS)](#LinearRegression)**\n",
    "    - 5.1 - [Multiple Linear Regression - Full Model(OLS)](#withLog)\n",
    "    - 5.2 - [Dealing with Multicollinearity](#multideal)\n",
    "    - 5.3 - [Linear Regression Using Feature Scaling ](#linearreg)\n",
    "    - 5.4 - [Check the Assumptions of Linear Regression](#Assumptions)\n",
    "         - 5.4.1 - [Detecting Autocorrelation](#Autocorrelation)\n",
    "         - 5.4.2 - [Detecting Heteroskedasticity](#Heteroskedasticity)\n",
    "         - 5.4.3 - [Linearity of Residuals](#Linearity_of_Residuals)\n",
    "         - 5.4.4 - [Normality of Residuals](#Normality_of_Residuals)\n",
    "    - 5.5 - [Linear Regression With Significant Variable (OLS)](#RemovingInsignificantVariable_scaleddata)\n",
    "    - 5.6 - [Linear Regression Using Backward Elimination](#Interaction)\n",
    "6. **[Model Performance](#model_perf)**  \n",
    "7. **[Model Optimization](#model_opt)** \n",
    "    - 7.1 - [Model Validation (Cross Validation)](#Model_val)\n",
    "         - 7.1.1 - [K-Fold Cross Validation](#kfold)\n",
    "         - 7.1.2 - [Leave One Out Cross Validation (LOOCV)](#LOOCV)\n",
    "    - 7.2 - [Stochastic Gradient Descent - SGD](#sgd)\n",
    "    - 7.3   [Regularization (OLS)](#regularization)\n",
    "         - 7.3.1 - [Ridge Regression Model (OLS)](#Ridge_Regression)\n",
    "         - 7.3.2 - [Lasso Regression Model (OLS)](#Lasso_Regression)\n",
    "         - 7.3.3 - [Elastic Net Regression Model (OLS)](#Elastic_Net)\n",
    "8. **[Conclusion](#rmse_and_r-squared)**    "
   ]
  },
  {
   "cell_type": "markdown",
   "metadata": {
    "slideshow": {
     "slide_type": "slide"
    }
   },
   "source": [
    "<a id='import_lib'></a>\n",
    "## 1. Import Libraries"
   ]
  },
  {
   "cell_type": "markdown",
   "metadata": {
    "slideshow": {
     "slide_type": "fragment"
    }
   },
   "source": [
    "**Let us import the required libraries and functions**"
   ]
  },
  {
   "cell_type": "code",
   "execution_count": 1,
   "metadata": {
    "slideshow": {
     "slide_type": "slide"
    }
   },
   "outputs": [],
   "source": [
    "# supress warnings \n",
    "from warnings import filterwarnings\n",
    "filterwarnings('ignore')\n",
    "\n",
    "# 'Os' module provides functions for interacting with the operating system \n",
    "import os\n",
    "\n",
    "# 'Pandas' is used for data manipulation and analysis\n",
    "import pandas as pd \n",
    "\n",
    "# 'Numpy' is used for mathematical operations on large, multi-dimensional arrays and matrices\n",
    "import numpy as np\n",
    "\n",
    "# 'Matplotlib' is a data visualization library for 2D and 3D plots, built on numpy\n",
    "import matplotlib.pyplot as plt\n",
    "%matplotlib inline\n",
    "\n",
    "# 'Seaborn' is based on matplotlib; used for plotting statistical graphics\n",
    "import seaborn as sns\n",
    "\n",
    "# 'Scikit-learn' (sklearn) emphasizes various regression, classification and clustering algorithms\n",
    "from sklearn.model_selection import train_test_split\n",
    "from sklearn.metrics import mean_squared_error, mean_absolute_error, r2_score\n",
    "from sklearn.model_selection import GridSearchCV\n",
    "from sklearn.linear_model import ElasticNet\n",
    "\n",
    "# 'Statsmodels' is used to build and analyze various statistical models\n",
    "import statsmodels\n",
    "import statsmodels.api as sm\n",
    "import statsmodels.stats.api as sms\n",
    "from statsmodels.tools.eval_measures import rmse\n",
    "from statsmodels.compat import lzip\n",
    "from statsmodels.graphics.gofplots import ProbPlot\n",
    "\n",
    "# 'SciPy' is used to perform scientific computations\n",
    "from scipy.stats import jarque_bera\n",
    "from scipy import stats\n",
    "from sklearn.model_selection import LeaveOneOut\n",
    "from sklearn.model_selection import cross_val_score\n",
    "from sklearn.model_selection import KFold\n",
    "from sklearn.linear_model import Lasso\n",
    "from sklearn.linear_model import ElasticNet\n",
    "from sklearn.linear_model import Ridge"
   ]
  },
  {
   "cell_type": "markdown",
   "metadata": {
    "slideshow": {
     "slide_type": "slide"
    }
   },
   "source": [
    "<a id='set_options'></a>\n",
    "## 2. Set Options"
   ]
  },
  {
   "cell_type": "code",
   "execution_count": 2,
   "metadata": {
    "slideshow": {
     "slide_type": "fragment"
    }
   },
   "outputs": [],
   "source": [
    "# the path for reading the data file\n",
    "# Note: Set your path accordingly\n",
    "#os.chdir('/Users/Dippies/GL DSE Deliveries/Regression/Nov 22')\n",
    "\n",
    "# display all columns of the dataframe\n",
    "pd.options.display.max_columns = None\n",
    "\n",
    "# display all rows of the dataframe\n",
    "pd.options.display.max_rows = None\n",
    "\n",
    "# return an output value upto 6 decimals\n",
    "pd.options.display.float_format = '{:.6f}'.format"
   ]
  },
  {
   "cell_type": "markdown",
   "metadata": {
    "slideshow": {
     "slide_type": "slide"
    }
   },
   "source": [
    "<a id='Read_Data'></a>\n",
    "## 3. Read Data"
   ]
  },
  {
   "cell_type": "markdown",
   "metadata": {
    "slideshow": {
     "slide_type": "fragment"
    }
   },
   "source": [
    "<table align=\"left\">\n",
    "    <tr>\n",
    "        <td width=\"8%\">\n",
    "            <img src=\"read1.png\">\n",
    "        </td>\n",
    "        <td>\n",
    "            <div align=\"left\", style=\"font-size:120%\">\n",
    "                <font color=\"#21618C\">\n",
    "                    <b>Read and display data to get insights from the data<br> \n",
    "                </font>\n",
    "            </div>\n",
    "        </td>\n",
    "    </tr>\n",
    "</table>"
   ]
  },
  {
   "cell_type": "code",
   "execution_count": 3,
   "metadata": {
    "scrolled": true,
    "slideshow": {
     "slide_type": "fragment"
    }
   },
   "outputs": [
    {
     "data": {
      "text/html": [
       "<div>\n",
       "<style scoped>\n",
       "    .dataframe tbody tr th:only-of-type {\n",
       "        vertical-align: middle;\n",
       "    }\n",
       "\n",
       "    .dataframe tbody tr th {\n",
       "        vertical-align: top;\n",
       "    }\n",
       "\n",
       "    .dataframe thead th {\n",
       "        text-align: right;\n",
       "    }\n",
       "</style>\n",
       "<table border=\"1\" class=\"dataframe\">\n",
       "  <thead>\n",
       "    <tr style=\"text-align: right;\">\n",
       "      <th></th>\n",
       "      <th>GRE Score</th>\n",
       "      <th>TOEFL Score</th>\n",
       "      <th>University Rating</th>\n",
       "      <th>SOP</th>\n",
       "      <th>LOR</th>\n",
       "      <th>CGPA</th>\n",
       "      <th>Research</th>\n",
       "      <th>Chance of Admit</th>\n",
       "    </tr>\n",
       "  </thead>\n",
       "  <tbody>\n",
       "    <tr>\n",
       "      <th>0</th>\n",
       "      <td>337</td>\n",
       "      <td>118</td>\n",
       "      <td>4</td>\n",
       "      <td>4.500000</td>\n",
       "      <td>4.500000</td>\n",
       "      <td>9.650000</td>\n",
       "      <td>yes</td>\n",
       "      <td>0.920000</td>\n",
       "    </tr>\n",
       "    <tr>\n",
       "      <th>1</th>\n",
       "      <td>324</td>\n",
       "      <td>107</td>\n",
       "      <td>4</td>\n",
       "      <td>4.000000</td>\n",
       "      <td>4.500000</td>\n",
       "      <td>8.870000</td>\n",
       "      <td>yes</td>\n",
       "      <td>0.760000</td>\n",
       "    </tr>\n",
       "    <tr>\n",
       "      <th>2</th>\n",
       "      <td>316</td>\n",
       "      <td>104</td>\n",
       "      <td>3</td>\n",
       "      <td>3.000000</td>\n",
       "      <td>3.500000</td>\n",
       "      <td>8.000000</td>\n",
       "      <td>yes</td>\n",
       "      <td>0.720000</td>\n",
       "    </tr>\n",
       "    <tr>\n",
       "      <th>3</th>\n",
       "      <td>322</td>\n",
       "      <td>110</td>\n",
       "      <td>3</td>\n",
       "      <td>3.500000</td>\n",
       "      <td>2.500000</td>\n",
       "      <td>8.670000</td>\n",
       "      <td>yes</td>\n",
       "      <td>0.800000</td>\n",
       "    </tr>\n",
       "    <tr>\n",
       "      <th>4</th>\n",
       "      <td>314</td>\n",
       "      <td>103</td>\n",
       "      <td>2</td>\n",
       "      <td>2.000000</td>\n",
       "      <td>3.000000</td>\n",
       "      <td>8.210000</td>\n",
       "      <td>No</td>\n",
       "      <td>0.650000</td>\n",
       "    </tr>\n",
       "  </tbody>\n",
       "</table>\n",
       "</div>"
      ],
      "text/plain": [
       "   GRE Score  TOEFL Score  University Rating      SOP      LOR     CGPA  \\\n",
       "0        337          118                  4 4.500000 4.500000 9.650000   \n",
       "1        324          107                  4 4.000000 4.500000 8.870000   \n",
       "2        316          104                  3 3.000000 3.500000 8.000000   \n",
       "3        322          110                  3 3.500000 2.500000 8.670000   \n",
       "4        314          103                  2 2.000000 3.000000 8.210000   \n",
       "\n",
       "  Research  Chance of Admit  \n",
       "0      yes         0.920000  \n",
       "1      yes         0.760000  \n",
       "2      yes         0.720000  \n",
       "3      yes         0.800000  \n",
       "4       No         0.650000  "
      ]
     },
     "execution_count": 3,
     "metadata": {},
     "output_type": "execute_result"
    }
   ],
   "source": [
    "# read csv file using pandas\n",
    "df_adm = pd.read_csv(\"admission.csv\")\n",
    "\n",
    "\n",
    "# display the top 5 rows of the dataframe\n",
    "df_adm.head()\n",
    "\n",
    "# Note: In order to display more rows, example 10, use head(10)"
   ]
  },
  {
   "cell_type": "markdown",
   "metadata": {
    "slideshow": {
     "slide_type": "slide"
    }
   },
   "source": [
    "<a id='data_preparation'></a>\n",
    "## 4. Data Analysis and Preparation\n"
   ]
  },
  {
   "cell_type": "markdown",
   "metadata": {
    "slideshow": {
     "slide_type": "fragment"
    }
   },
   "source": [
    "<table align=\"left\">\n",
    "    <tr>\n",
    "        <td width=\"15%\">\n",
    "            <img src=\"analysis1.png\">\n",
    "        </td>\n",
    "        <td>\n",
    "            <div align=\"left\", style=\"font-size:120%\">\n",
    "                <font color=\"#21618C\">\n",
    "                    <b>Data preparation is the process of cleaning and transforming raw data prior to building predictive models. <br><br>\n",
    "                        Here we will analyze and prepare data to perform regression analysis:<br>\n",
    "                        1. Check dimensions of the dataframe in terms of rows and columns <Br>\n",
    "                        2. Check the data types. Refer data definition to ensure your data types are correct  <br>\n",
    "                        3. If data types are not as per business context, change the data types as per requirement <br>\n",
    "                        4. Study summary statistics<br>\n",
    "                        5. Check for missing values<br>\n",
    "                        6. Study correlation<br>\n",
    "                        7. Analyze categorical variables<br>\n",
    "                        8. Analyze relationship between target variable and categorical variables<br>\n",
    "                        9. Perform feature engineering<br>\n",
    "                       10. Detect outliers<br>\n",
    "                       11. Recheck the correlation<br><br>\n",
    "                        Note: It is an art to explore data and one will need more and more practice to gain expertise in this area.\n",
    "                    </b>\n",
    "                </font>\n",
    "            </div>\n",
    "        </td>\n",
    "    </tr>\n",
    "</table>"
   ]
  },
  {
   "cell_type": "markdown",
   "metadata": {
    "slideshow": {
     "slide_type": "fragment"
    }
   },
   "source": [
    "<a id='Data_Shape'></a>\n",
    "### 4.1. Data Dimension"
   ]
  },
  {
   "cell_type": "markdown",
   "metadata": {
    "slideshow": {
     "slide_type": "fragment"
    }
   },
   "source": [
    "To know the dimensions of the data:"
   ]
  },
  {
   "cell_type": "code",
   "execution_count": 4,
   "metadata": {
    "slideshow": {
     "slide_type": "fragment"
    }
   },
   "outputs": [
    {
     "data": {
      "text/plain": [
       "(400, 8)"
      ]
     },
     "execution_count": 4,
     "metadata": {},
     "output_type": "execute_result"
    }
   ],
   "source": [
    "# .shape returns the dimension of the data\n",
    "df_adm.shape"
   ]
  },
  {
   "cell_type": "markdown",
   "metadata": {
    "slideshow": {
     "slide_type": "fragment"
    }
   },
   "source": [
    "We see the dataframe has 8 columns and 400 observations."
   ]
  },
  {
   "cell_type": "markdown",
   "metadata": {
    "slideshow": {
     "slide_type": "slide"
    }
   },
   "source": [
    "<a id='Data_Types'></a>\n",
    "### 4.2 Data Types\n",
    "Data has a variety of data types. The main types stored in pandas dataframes are object, float, int64, bool and datetime64. In order to learn about each attribute, it is always good for us to know the data type of each column."
   ]
  },
  {
   "cell_type": "markdown",
   "metadata": {
    "slideshow": {
     "slide_type": "fragment"
    }
   },
   "source": [
    "<table align=\"left\">\n",
    "    <tr>\n",
    "        <td width=\"8%\">\n",
    "            <img src=\"data.png\">\n",
    "        </td>\n",
    "        <td>\n",
    "            <div align=\"left\", style=\"font-size:120%\">\n",
    "                <font color=\"#21618C\">\n",
    "                    <b> In this section we will: <br>  \n",
    "                        1. Check data types<br>\n",
    "                    </b>\n",
    "                </font>\n",
    "            </div>\n",
    "        </td>\n",
    "    </tr>\n",
    "</table>"
   ]
  },
  {
   "cell_type": "markdown",
   "metadata": {
    "slideshow": {
     "slide_type": "slide"
    }
   },
   "source": [
    "**1. Check data types**"
   ]
  },
  {
   "cell_type": "code",
   "execution_count": 5,
   "metadata": {
    "slideshow": {
     "slide_type": "fragment"
    }
   },
   "outputs": [
    {
     "data": {
      "text/plain": [
       "GRE Score              int64\n",
       "TOEFL Score            int64\n",
       "University Rating      int64\n",
       "SOP                  float64\n",
       "LOR                  float64\n",
       "CGPA                 float64\n",
       "Research              object\n",
       "Chance of Admit      float64\n",
       "dtype: object"
      ]
     },
     "execution_count": 5,
     "metadata": {},
     "output_type": "execute_result"
    }
   ],
   "source": [
    "# use .dtypes to view the data type of a variable\n",
    "df_adm.dtypes"
   ]
  },
  {
   "cell_type": "markdown",
   "metadata": {
    "slideshow": {
     "slide_type": "fragment"
    }
   },
   "source": [
    "<table align='left'>\n",
    "    <tr>\n",
    "        <td width='8%'>\n",
    "            <img src='solution.png'>\n",
    "        </td>\n",
    "        <td>\n",
    "            <div align='left', style='font-size:120%'>\n",
    "                <font color='#21618C'>\n",
    "                    <b>From the above output, we see that data types are as per the data definition. Now we can proceed with the analysis.<br></b>\n",
    "                </font>\n",
    "            </div>\n",
    "        </td>\n",
    "    </tr>\n",
    "</table>\n",
    "\n",
    "\n"
   ]
  },
  {
   "cell_type": "markdown",
   "metadata": {
    "slideshow": {
     "slide_type": "slide"
    }
   },
   "source": [
    "<a id='Missing_Values'></a>\n",
    "### 4.3 Missing Values"
   ]
  },
  {
   "cell_type": "markdown",
   "metadata": {
    "slideshow": {
     "slide_type": "subslide"
    }
   },
   "source": [
    "<table align=\"left\">\n",
    "    <tr>\n",
    "        <td width=\"8%\">\n",
    "            <img src=\"mis.png\">\n",
    "        </td>\n",
    "        <td>\n",
    "            <div align=\"left\", style=\"font-size:120%\">\n",
    "                <font color=\"#21618C\">\n",
    "                    <b>In order to get the count of missing values in each column, we use the in-built function .isnull().sum()\n",
    "                    </b>\n",
    "                </font>\n",
    "            </div>\n",
    "        </td>\n",
    "    </tr>\n",
    "</table>"
   ]
  },
  {
   "cell_type": "code",
   "execution_count": 6,
   "metadata": {
    "slideshow": {
     "slide_type": "slide"
    }
   },
   "outputs": [
    {
     "data": {
      "text/html": [
       "<div>\n",
       "<style scoped>\n",
       "    .dataframe tbody tr th:only-of-type {\n",
       "        vertical-align: middle;\n",
       "    }\n",
       "\n",
       "    .dataframe tbody tr th {\n",
       "        vertical-align: top;\n",
       "    }\n",
       "\n",
       "    .dataframe thead th {\n",
       "        text-align: right;\n",
       "    }\n",
       "</style>\n",
       "<table border=\"1\" class=\"dataframe\">\n",
       "  <thead>\n",
       "    <tr style=\"text-align: right;\">\n",
       "      <th></th>\n",
       "      <th>Total</th>\n",
       "      <th>Percentage of Missing Values</th>\n",
       "    </tr>\n",
       "  </thead>\n",
       "  <tbody>\n",
       "    <tr>\n",
       "      <th>Chance of Admit</th>\n",
       "      <td>0</td>\n",
       "      <td>0.000000</td>\n",
       "    </tr>\n",
       "    <tr>\n",
       "      <th>Research</th>\n",
       "      <td>0</td>\n",
       "      <td>0.000000</td>\n",
       "    </tr>\n",
       "    <tr>\n",
       "      <th>CGPA</th>\n",
       "      <td>0</td>\n",
       "      <td>0.000000</td>\n",
       "    </tr>\n",
       "    <tr>\n",
       "      <th>LOR</th>\n",
       "      <td>0</td>\n",
       "      <td>0.000000</td>\n",
       "    </tr>\n",
       "    <tr>\n",
       "      <th>SOP</th>\n",
       "      <td>0</td>\n",
       "      <td>0.000000</td>\n",
       "    </tr>\n",
       "    <tr>\n",
       "      <th>University Rating</th>\n",
       "      <td>0</td>\n",
       "      <td>0.000000</td>\n",
       "    </tr>\n",
       "    <tr>\n",
       "      <th>TOEFL Score</th>\n",
       "      <td>0</td>\n",
       "      <td>0.000000</td>\n",
       "    </tr>\n",
       "    <tr>\n",
       "      <th>GRE Score</th>\n",
       "      <td>0</td>\n",
       "      <td>0.000000</td>\n",
       "    </tr>\n",
       "  </tbody>\n",
       "</table>\n",
       "</div>"
      ],
      "text/plain": [
       "                   Total  Percentage of Missing Values\n",
       "Chance of Admit        0                      0.000000\n",
       "Research               0                      0.000000\n",
       "CGPA                   0                      0.000000\n",
       "LOR                    0                      0.000000\n",
       "SOP                    0                      0.000000\n",
       "University Rating      0                      0.000000\n",
       "TOEFL Score            0                      0.000000\n",
       "GRE Score              0                      0.000000"
      ]
     },
     "execution_count": 6,
     "metadata": {},
     "output_type": "execute_result"
    }
   ],
   "source": [
    "# obtain the total missing values for each variable\n",
    "# 'isnull().sum()' returns the number of missing values in each variable\n",
    "# sort the variables on the basis of total null values in the variable using sort_values()\n",
    "# 'ascending = False' sorts values in the descending order\n",
    "# the variable with highest number of missing values will appear first\n",
    "Total = df_adm.isnull().sum().sort_values(ascending=False) \n",
    "\n",
    "# 'isnull().sum()' returns the number of missing values in each variable\n",
    "# 'isnull().count()' returns the count of the data, i.e. count of outcomes 'True' and 'False' of isnull() \n",
    "# sort the variables on the basis of total null values in the variable using sort_values()\n",
    "# 'ascending = False' sorts values in the descending order\n",
    "# the variable with highest percentage of missing values will appear first\n",
    "Percent = (df_adm.isnull().sum()*100/df_adm.isnull().count()).sort_values(ascending=False)   \n",
    "\n",
    "# concat the 'Total' and 'Percent' columns using 'concat' function\n",
    "# keys:pass a list of column names in parameter  \n",
    "# axis = 1: concats along the columns\n",
    "missing_data = pd.concat([Total, Percent], axis = 1, keys = ['Total', 'Percentage of Missing Values'])\n",
    "\n",
    "# print the missing data\n",
    "missing_data"
   ]
  },
  {
   "cell_type": "markdown",
   "metadata": {},
   "source": [
    "# Visualize Missing Values using Heatmap"
   ]
  },
  {
   "cell_type": "code",
   "execution_count": 7,
   "metadata": {},
   "outputs": [
    {
     "data": {
      "image/png": "[encoded data removed]",
      "text/plain": [
       "<Figure size 1080x576 with 1 Axes>"
      ]
     },
     "metadata": {
      "needs_background": "light"
     },
     "output_type": "display_data"
    }
   ],
   "source": [
    "# set the figure size\n",
    "plt.figure(figsize=(15, 8))\n",
    "\n",
    "# plot heatmap to check null values\n",
    "# isnull(): returns 'True' for a missing value\n",
    "# cbar: specifies whether to draw a colorbar; draws the colorbar for 'True' \n",
    "sns.heatmap(df_adm.isnull(), cbar=False)\n",
    "\n",
    "# display the plot\n",
    "plt.show()"
   ]
  },
  {
   "cell_type": "markdown",
   "metadata": {},
   "source": [
    " We have the dataset with no missing values."
   ]
  },
  {
   "cell_type": "markdown",
   "metadata": {
    "slideshow": {
     "slide_type": "slide"
    }
   },
   "source": [
    "<a id='Summary_Statistics'></a>\n",
    "### 4.4 Summary Statistics"
   ]
  },
  {
   "cell_type": "markdown",
   "metadata": {
    "slideshow": {
     "slide_type": "fragment"
    }
   },
   "source": [
    "<table align=\"left\">\n",
    "    <tr>\n",
    "        <td width=\"8%\">\n",
    "            <img src=\"summ1.png\">\n",
    "        </td>\n",
    "        <td>\n",
    "            <div align=\"left\", style=\"font-size:120%\">\n",
    "                <font color=\"#21618C\">\n",
    "                    <b> In our dataset we have numerical and categorical variables. Now we check for summary statistics of all the variables<br>\n",
    "                        1. For numerical variables, we use .describe()<br>\n",
    "                        2. For categorical features, we use .describe(include=object) <br>\n",
    "                    </b>\n",
    "                </font>\n",
    "            </div>\n",
    "        </td>\n",
    "    </tr>\n",
    "</table>"
   ]
  },
  {
   "cell_type": "markdown",
   "metadata": {
    "slideshow": {
     "slide_type": "slide"
    }
   },
   "source": [
    "**1. For numerical variables, we use .describe()**"
   ]
  },
  {
   "cell_type": "code",
   "execution_count": 8,
   "metadata": {
    "slideshow": {
     "slide_type": "fragment"
    }
   },
   "outputs": [
    {
     "data": {
      "text/html": [
       "<div>\n",
       "<style scoped>\n",
       "    .dataframe tbody tr th:only-of-type {\n",
       "        vertical-align: middle;\n",
       "    }\n",
       "\n",
       "    .dataframe tbody tr th {\n",
       "        vertical-align: top;\n",
       "    }\n",
       "\n",
       "    .dataframe thead th {\n",
       "        text-align: right;\n",
       "    }\n",
       "</style>\n",
       "<table border=\"1\" class=\"dataframe\">\n",
       "  <thead>\n",
       "    <tr style=\"text-align: right;\">\n",
       "      <th></th>\n",
       "      <th>GRE Score</th>\n",
       "      <th>TOEFL Score</th>\n",
       "      <th>University Rating</th>\n",
       "      <th>SOP</th>\n",
       "      <th>LOR</th>\n",
       "      <th>CGPA</th>\n",
       "      <th>Chance of Admit</th>\n",
       "    </tr>\n",
       "  </thead>\n",
       "  <tbody>\n",
       "    <tr>\n",
       "      <th>count</th>\n",
       "      <td>400.000000</td>\n",
       "      <td>400.000000</td>\n",
       "      <td>400.000000</td>\n",
       "      <td>400.000000</td>\n",
       "      <td>400.000000</td>\n",
       "      <td>400.000000</td>\n",
       "      <td>400.000000</td>\n",
       "    </tr>\n",
       "    <tr>\n",
       "      <th>mean</th>\n",
       "      <td>316.807500</td>\n",
       "      <td>107.410000</td>\n",
       "      <td>3.087500</td>\n",
       "      <td>3.400000</td>\n",
       "      <td>3.452500</td>\n",
       "      <td>8.598925</td>\n",
       "      <td>0.724350</td>\n",
       "    </tr>\n",
       "    <tr>\n",
       "      <th>std</th>\n",
       "      <td>11.473646</td>\n",
       "      <td>6.069514</td>\n",
       "      <td>1.143728</td>\n",
       "      <td>1.006869</td>\n",
       "      <td>0.898478</td>\n",
       "      <td>0.596317</td>\n",
       "      <td>0.142609</td>\n",
       "    </tr>\n",
       "    <tr>\n",
       "      <th>min</th>\n",
       "      <td>290.000000</td>\n",
       "      <td>92.000000</td>\n",
       "      <td>1.000000</td>\n",
       "      <td>1.000000</td>\n",
       "      <td>1.000000</td>\n",
       "      <td>6.800000</td>\n",
       "      <td>0.340000</td>\n",
       "    </tr>\n",
       "    <tr>\n",
       "      <th>25%</th>\n",
       "      <td>308.000000</td>\n",
       "      <td>103.000000</td>\n",
       "      <td>2.000000</td>\n",
       "      <td>2.500000</td>\n",
       "      <td>3.000000</td>\n",
       "      <td>8.170000</td>\n",
       "      <td>0.640000</td>\n",
       "    </tr>\n",
       "    <tr>\n",
       "      <th>50%</th>\n",
       "      <td>317.000000</td>\n",
       "      <td>107.000000</td>\n",
       "      <td>3.000000</td>\n",
       "      <td>3.500000</td>\n",
       "      <td>3.500000</td>\n",
       "      <td>8.610000</td>\n",
       "      <td>0.730000</td>\n",
       "    </tr>\n",
       "    <tr>\n",
       "      <th>75%</th>\n",
       "      <td>325.000000</td>\n",
       "      <td>112.000000</td>\n",
       "      <td>4.000000</td>\n",
       "      <td>4.000000</td>\n",
       "      <td>4.000000</td>\n",
       "      <td>9.062500</td>\n",
       "      <td>0.830000</td>\n",
       "    </tr>\n",
       "    <tr>\n",
       "      <th>max</th>\n",
       "      <td>340.000000</td>\n",
       "      <td>120.000000</td>\n",
       "      <td>5.000000</td>\n",
       "      <td>5.000000</td>\n",
       "      <td>5.000000</td>\n",
       "      <td>9.920000</td>\n",
       "      <td>0.970000</td>\n",
       "    </tr>\n",
       "  </tbody>\n",
       "</table>\n",
       "</div>"
      ],
      "text/plain": [
       "       GRE Score  TOEFL Score  University Rating        SOP        LOR  \\\n",
       "count 400.000000   400.000000         400.000000 400.000000 400.000000   \n",
       "mean  316.807500   107.410000           3.087500   3.400000   3.452500   \n",
       "std    11.473646     6.069514           1.143728   1.006869   0.898478   \n",
       "min   290.000000    92.000000           1.000000   1.000000   1.000000   \n",
       "25%   308.000000   103.000000           2.000000   2.500000   3.000000   \n",
       "50%   317.000000   107.000000           3.000000   3.500000   3.500000   \n",
       "75%   325.000000   112.000000           4.000000   4.000000   4.000000   \n",
       "max   340.000000   120.000000           5.000000   5.000000   5.000000   \n",
       "\n",
       "            CGPA  Chance of Admit  \n",
       "count 400.000000       400.000000  \n",
       "mean    8.598925         0.724350  \n",
       "std     0.596317         0.142609  \n",
       "min     6.800000         0.340000  \n",
       "25%     8.170000         0.640000  \n",
       "50%     8.610000         0.730000  \n",
       "75%     9.062500         0.830000  \n",
       "max     9.920000         0.970000  "
      ]
     },
     "execution_count": 8,
     "metadata": {},
     "output_type": "execute_result"
    }
   ],
   "source": [
    "# describe the numerical data\n",
    "df_adm.describe()"
   ]
  },
  {
   "cell_type": "markdown",
   "metadata": {
    "slideshow": {
     "slide_type": "fragment"
    }
   },
   "source": [
    "<table align=\"left\">\n",
    "    <tr>\n",
    "        <td width=\"8%\">\n",
    "            <img src=\"solution.png\">\n",
    "        </td>\n",
    "        <td>\n",
    "            <div align=\"left\", style=\"font-size:120%\">\n",
    "                <font color=\"#21618C\">\n",
    "<b>The above output illustrates the summary statistics of all the numeric variables like the mean, median(50%), minimum, and maximum values, along with the standard deviation.<br>\n",
    "    Note, the average GRE Score is 316.8,average TOEFL SCore is 107.4 and average CGPA is 8.59.<br><br>\n",
    "    If we observe the count of all the variables, there is equal count for all the variables. So we can say that there are no missing values in these variables. </b>     </font>\n",
    "            </div>\n",
    "        </td>\n",
    "    </tr>\n",
    "</table>"
   ]
  },
  {
   "cell_type": "markdown",
   "metadata": {
    "slideshow": {
     "slide_type": "slide"
    }
   },
   "source": [
    "**2. For categorical features, we use .describe(include=object)**"
   ]
  },
  {
   "cell_type": "code",
   "execution_count": 9,
   "metadata": {
    "slideshow": {
     "slide_type": "fragment"
    }
   },
   "outputs": [
    {
     "data": {
      "text/html": [
       "<div>\n",
       "<style scoped>\n",
       "    .dataframe tbody tr th:only-of-type {\n",
       "        vertical-align: middle;\n",
       "    }\n",
       "\n",
       "    .dataframe tbody tr th {\n",
       "        vertical-align: top;\n",
       "    }\n",
       "\n",
       "    .dataframe thead th {\n",
       "        text-align: right;\n",
       "    }\n",
       "</style>\n",
       "<table border=\"1\" class=\"dataframe\">\n",
       "  <thead>\n",
       "    <tr style=\"text-align: right;\">\n",
       "      <th></th>\n",
       "      <th>Research</th>\n",
       "    </tr>\n",
       "  </thead>\n",
       "  <tbody>\n",
       "    <tr>\n",
       "      <th>count</th>\n",
       "      <td>400</td>\n",
       "    </tr>\n",
       "    <tr>\n",
       "      <th>unique</th>\n",
       "      <td>2</td>\n",
       "    </tr>\n",
       "    <tr>\n",
       "      <th>top</th>\n",
       "      <td>yes</td>\n",
       "    </tr>\n",
       "    <tr>\n",
       "      <th>freq</th>\n",
       "      <td>219</td>\n",
       "    </tr>\n",
       "  </tbody>\n",
       "</table>\n",
       "</div>"
      ],
      "text/plain": [
       "       Research\n",
       "count       400\n",
       "unique        2\n",
       "top         yes\n",
       "freq        219"
      ]
     },
     "execution_count": 9,
     "metadata": {},
     "output_type": "execute_result"
    }
   ],
   "source": [
    "# describe the categorical data\n",
    "# include=object: selects the categorical features\n",
    "df_adm.describe(include = object)\n",
    "\n",
    "# Note: If we pass 'include=object' to the .describe(),\n",
    "# it will return descriptive statistics for categorical variables only"
   ]
  },
  {
   "cell_type": "markdown",
   "metadata": {
    "slideshow": {
     "slide_type": "fragment"
    }
   },
   "source": [
    "<table align=\"left\">\n",
    "    <tr>\n",
    "        <td width=\"8%\">\n",
    "            <img src=\"solution.png\">\n",
    "        </td>\n",
    "        <td>\n",
    "            <div align=\"left\", style=\"font-size:120%\">\n",
    "                <font color=\"#21618C\">\n",
    "                    <b>The summary statistics for categorical variables can be interpreted as:<br><br>\n",
    "       count - Total number of observations<br>\n",
    "       unique - Number of unique classes in a variable<br>\n",
    "       top - The most repeated class<br>\n",
    "       freq - Frequency of most repeated class<br><br>\n",
    "       </b>\n",
    "                </font>\n",
    "            </div>\n",
    "        </td>\n",
    "    </tr>\n",
    "</table>"
   ]
  },
  {
   "cell_type": "markdown",
   "metadata": {},
   "source": [
    "<a id='categorical'></a>\n",
    "### 4.5 Analyze Categorical Variables\n",
    "\n",
    "Categorical variables are those in which the values are labeled categories. The values, distribution, and dispersion of categorical variables are best understood with bar plots."
   ]
  },
  {
   "cell_type": "markdown",
   "metadata": {},
   "source": [
    "First let us print the summary statistics of the categorical features."
   ]
  },
  {
   "cell_type": "code",
   "execution_count": 10,
   "metadata": {},
   "outputs": [
    {
     "data": {
      "text/html": [
       "<div>\n",
       "<style scoped>\n",
       "    .dataframe tbody tr th:only-of-type {\n",
       "        vertical-align: middle;\n",
       "    }\n",
       "\n",
       "    .dataframe tbody tr th {\n",
       "        vertical-align: top;\n",
       "    }\n",
       "\n",
       "    .dataframe thead th {\n",
       "        text-align: right;\n",
       "    }\n",
       "</style>\n",
       "<table border=\"1\" class=\"dataframe\">\n",
       "  <thead>\n",
       "    <tr style=\"text-align: right;\">\n",
       "      <th></th>\n",
       "      <th>Research</th>\n",
       "    </tr>\n",
       "  </thead>\n",
       "  <tbody>\n",
       "    <tr>\n",
       "      <th>count</th>\n",
       "      <td>400</td>\n",
       "    </tr>\n",
       "    <tr>\n",
       "      <th>unique</th>\n",
       "      <td>2</td>\n",
       "    </tr>\n",
       "    <tr>\n",
       "      <th>top</th>\n",
       "      <td>yes</td>\n",
       "    </tr>\n",
       "    <tr>\n",
       "      <th>freq</th>\n",
       "      <td>219</td>\n",
       "    </tr>\n",
       "  </tbody>\n",
       "</table>\n",
       "</div>"
      ],
      "text/plain": [
       "       Research\n",
       "count       400\n",
       "unique        2\n",
       "top         yes\n",
       "freq        219"
      ]
     },
     "execution_count": 10,
     "metadata": {},
     "output_type": "execute_result"
    }
   ],
   "source": [
    "# display the summary statistics of categorical variables\n",
    "# include=objec: selects the categoric features\n",
    "df_adm.describe(include=object)"
   ]
  },
  {
   "cell_type": "markdown",
   "metadata": {},
   "source": [
    "There is a single categorical variables. From the output we see that the variable 'Research' has 2 unique categories. \n",
    "\n"
   ]
  },
  {
   "cell_type": "markdown",
   "metadata": {},
   "source": [
    "<a id='outliers'></a>\n",
    "### 4.6 Discover Outliers"
   ]
  },
  {
   "cell_type": "markdown",
   "metadata": {},
   "source": [
    "#### Importance of detecting an outlier\n",
    "An outlier is an observation that appears to deviate distinctly from other observations in the data. If the outliers are not removed, the model accuracy may decrease.\n",
    "\n",
    "**Recollect that one of the assumptions of Linear Regression is there should be no outliers present in the data**"
   ]
  },
  {
   "cell_type": "markdown",
   "metadata": {},
   "source": [
    "<table align=\"left\">\n",
    "    <tr>\n",
    "        <td width=\"12%\">\n",
    "            <img src=\"outlier.png\">\n",
    "        </td>\n",
    "        <td>\n",
    "            <div align=\"left\", style=\"font-size:120%\">\n",
    "                <font color=\"#21618C\">\n",
    "                    <b>In order to detect outliers in numerical data, we perform the following:<br>\n",
    "                    1. Plot boxplot for numerical data<br>\n",
    "                    2. Note the variables for which outliers are present<br>\n",
    "                    3. Remove outliers by IQR method<br> \n",
    "                    4. Plot boxplot to recheck for outliers</b> <br><br>\n",
    "                </font>\n",
    "            </div>\n",
    "        </td>\n",
    "    </tr>\n",
    "</table>"
   ]
  },
  {
   "cell_type": "markdown",
   "metadata": {},
   "source": [
    "**1. Plot boxplot for numerical data**"
   ]
  },
  {
   "cell_type": "code",
   "execution_count": 11,
   "metadata": {},
   "outputs": [
    {
     "data": {
      "image/png": "[encoded data removed]",
      "text/plain": [
       "<Figure size 1080x576 with 6 Axes>"
      ]
     },
     "metadata": {
      "needs_background": "light"
     },
     "output_type": "display_data"
    },
    {
     "data": {
      "text/plain": [
       "<AxesSubplot:xlabel='Chance of Admit'>"
      ]
     },
     "execution_count": 11,
     "metadata": {},
     "output_type": "execute_result"
    },
    {
     "data": {
      "image/png": "[encoded data removed]",
      "text/plain": [
       "<Figure size 432x288 with 1 Axes>"
      ]
     },
     "metadata": {
      "needs_background": "light"
     },
     "output_type": "display_data"
    }
   ],
   "source": [
    "# plot the boxplot for each variable\n",
    "# subplots(): plot subplots\n",
    "# figsize(): set the figure size\n",
    "fig, ax = plt.subplots(2, 3, figsize=(15, 8))\n",
    "df_numeric_features=df_adm.select_dtypes(np.number)\n",
    "# plot the boxplot using boxplot() from seaborn\n",
    "# z: let the variable z define the boxplot\n",
    "# x: data for which the boxplot is to be plotted\n",
    "# orient: \"h\" specifies horizontal boxplot (for vertical boxplots use \"v\")\n",
    "# whis: proportion of the IQR past the low and high quartiles to extend the plot whiskers\n",
    "# ax: specifies the axes object to draw the plot onto\n",
    "# set_xlabel(): set the x-axis label\n",
    "# fontsize: sets the font size of the x-axis label\n",
    "for variable, subplot in zip(df_numeric_features.columns, ax.flatten()):\n",
    "    z = sns.boxplot(x = df_numeric_features[variable], orient = \"h\",whis=1.5 , ax=subplot) # plot the boxplot\n",
    "    z.set_xlabel(variable, fontsize = 20)  \n",
    "plt.show()\n",
    "sns.boxplot(x=df_numeric_features['Chance of Admit'])"
   ]
  },
  {
   "cell_type": "code",
   "execution_count": 12,
   "metadata": {},
   "outputs": [
    {
     "data": {
      "text/html": [
       "<div>\n",
       "<style scoped>\n",
       "    .dataframe tbody tr th:only-of-type {\n",
       "        vertical-align: middle;\n",
       "    }\n",
       "\n",
       "    .dataframe tbody tr th {\n",
       "        vertical-align: top;\n",
       "    }\n",
       "\n",
       "    .dataframe thead th {\n",
       "        text-align: right;\n",
       "    }\n",
       "</style>\n",
       "<table border=\"1\" class=\"dataframe\">\n",
       "  <thead>\n",
       "    <tr style=\"text-align: right;\">\n",
       "      <th></th>\n",
       "      <th>GRE Score</th>\n",
       "      <th>TOEFL Score</th>\n",
       "      <th>University Rating</th>\n",
       "      <th>SOP</th>\n",
       "      <th>LOR</th>\n",
       "      <th>CGPA</th>\n",
       "      <th>Chance of Admit</th>\n",
       "    </tr>\n",
       "  </thead>\n",
       "  <tbody>\n",
       "    <tr>\n",
       "      <th>0</th>\n",
       "      <td>337</td>\n",
       "      <td>118</td>\n",
       "      <td>4</td>\n",
       "      <td>4.500000</td>\n",
       "      <td>4.500000</td>\n",
       "      <td>9.650000</td>\n",
       "      <td>0.920000</td>\n",
       "    </tr>\n",
       "    <tr>\n",
       "      <th>1</th>\n",
       "      <td>324</td>\n",
       "      <td>107</td>\n",
       "      <td>4</td>\n",
       "      <td>4.000000</td>\n",
       "      <td>4.500000</td>\n",
       "      <td>8.870000</td>\n",
       "      <td>0.760000</td>\n",
       "    </tr>\n",
       "    <tr>\n",
       "      <th>2</th>\n",
       "      <td>316</td>\n",
       "      <td>104</td>\n",
       "      <td>3</td>\n",
       "      <td>3.000000</td>\n",
       "      <td>3.500000</td>\n",
       "      <td>8.000000</td>\n",
       "      <td>0.720000</td>\n",
       "    </tr>\n",
       "    <tr>\n",
       "      <th>3</th>\n",
       "      <td>322</td>\n",
       "      <td>110</td>\n",
       "      <td>3</td>\n",
       "      <td>3.500000</td>\n",
       "      <td>2.500000</td>\n",
       "      <td>8.670000</td>\n",
       "      <td>0.800000</td>\n",
       "    </tr>\n",
       "    <tr>\n",
       "      <th>4</th>\n",
       "      <td>314</td>\n",
       "      <td>103</td>\n",
       "      <td>2</td>\n",
       "      <td>2.000000</td>\n",
       "      <td>3.000000</td>\n",
       "      <td>8.210000</td>\n",
       "      <td>0.650000</td>\n",
       "    </tr>\n",
       "  </tbody>\n",
       "</table>\n",
       "</div>"
      ],
      "text/plain": [
       "   GRE Score  TOEFL Score  University Rating      SOP      LOR     CGPA  \\\n",
       "0        337          118                  4 4.500000 4.500000 9.650000   \n",
       "1        324          107                  4 4.000000 4.500000 8.870000   \n",
       "2        316          104                  3 3.000000 3.500000 8.000000   \n",
       "3        322          110                  3 3.500000 2.500000 8.670000   \n",
       "4        314          103                  2 2.000000 3.000000 8.210000   \n",
       "\n",
       "   Chance of Admit  \n",
       "0         0.920000  \n",
       "1         0.760000  \n",
       "2         0.720000  \n",
       "3         0.800000  \n",
       "4         0.650000  "
      ]
     },
     "execution_count": 12,
     "metadata": {},
     "output_type": "execute_result"
    }
   ],
   "source": [
    "df_numeric_features.head()"
   ]
  },
  {
   "cell_type": "markdown",
   "metadata": {},
   "source": [
    "**2. Note the variables for which outliers are present**"
   ]
  },
  {
   "cell_type": "markdown",
   "metadata": {},
   "source": [
    "<table align=\"left\">\n",
    "    <tr>\n",
    "        <td width=\"8%\">\n",
    "            <img src=\"solution.png\">\n",
    "        </td>\n",
    "        <td>\n",
    "            <div align=\"left\", style=\"font-size:120%\">\n",
    "                <font color=\"#21618C\">\n",
    "                    <b>From the above plot, we notice that for the variable 'LOR','CGPA' and 'Chance of Admit' have outliers<br>\n",
    "\n",
    "Let us use the IQR method to remove the outliers</br></b>\n",
    "                </font>\n",
    "            </div>\n",
    "        </td>\n",
    "    </tr>\n",
    "</table>\n",
    "\n"
   ]
  },
  {
   "cell_type": "markdown",
   "metadata": {},
   "source": [
    "**3. Remove outliers by IQR method**"
   ]
  },
  {
   "cell_type": "code",
   "execution_count": 13,
   "metadata": {},
   "outputs": [
    {
     "name": "stdout",
     "output_type": "stream",
     "text": [
      "GRE Score           17.000000\n",
      "TOEFL Score          9.000000\n",
      "University Rating    2.000000\n",
      "SOP                  1.500000\n",
      "LOR                  1.000000\n",
      "CGPA                 0.892500\n",
      "Chance of Admit      0.190000\n",
      "dtype: float64\n"
     ]
    }
   ],
   "source": [
    "# calculate interquartile range \n",
    "\n",
    "# compute the first quartile using quantile(0.25)\n",
    "# axis=1: specifies that the labels are dropped from the columns\n",
    "Q1 = df_numeric_features.quantile(0.25)\n",
    "\n",
    "# compute the first quartile using quantile(0.75)\n",
    "# axis=1: specifies that the labels are dropped from the columns\n",
    "Q3 = df_numeric_features.quantile(0.75)\n",
    "\n",
    "# calculate of interquartile range \n",
    "IQR = Q3 - Q1\n",
    "\n",
    "# print the IQR values for numeric variables\n",
    "print(IQR)"
   ]
  },
  {
   "cell_type": "code",
   "execution_count": 14,
   "metadata": {},
   "outputs": [],
   "source": [
    "# filter out the outlier values\n",
    "# ~ : selects all rows which do not satisfy the condition\n",
    "# |: bitwise operator OR in python\n",
    "# any() : returns whether any element is True over the columns\n",
    "# axis : \"1\" indicates columns should be altered (use \"0\" for 'index')\n",
    "df_adm = df_adm[~((df_adm < (Q1 - 1.5 * IQR)) | (df_adm > (Q3 + 1.5 * IQR))).any(axis=1)]"
   ]
  },
  {
   "cell_type": "markdown",
   "metadata": {},
   "source": [
    "A simple way to know whether the outliers have been removed or not is to check the dimensions of the data. If the dimensions are reduced that implies outliers are removed"
   ]
  },
  {
   "cell_type": "code",
   "execution_count": 15,
   "metadata": {
    "scrolled": true
   },
   "outputs": [
    {
     "data": {
      "text/plain": [
       "(396, 8)"
      ]
     },
     "execution_count": 15,
     "metadata": {},
     "output_type": "execute_result"
    }
   ],
   "source": [
    "# check the shape of data using shape\n",
    "df_adm.shape"
   ]
  },
  {
   "cell_type": "markdown",
   "metadata": {},
   "source": [
    "<table align=\"left\">\n",
    "    <tr>\n",
    "        <td width=\"8%\">\n",
    "            <img src=\"solution.png\">\n",
    "        </td>\n",
    "        <td>\n",
    "            <div align=\"left\", style=\"font-size:120%\">\n",
    "                <font color=\"#21618C\">\n",
    "                    <b>So that the above output shows there is a reduction in the number of rows(from 400 to 396). Now, to confirm that the outliers have been removed let us visualize using a boxplot.</b>\n",
    "                </font>\n",
    "            </div>\n",
    "        </td>\n",
    "    </tr>\n",
    "</table>"
   ]
  },
  {
   "cell_type": "markdown",
   "metadata": {},
   "source": [
    "**4. Plot boxplot to recheck for outliers**"
   ]
  },
  {
   "cell_type": "code",
   "execution_count": 16,
   "metadata": {
    "scrolled": false
   },
   "outputs": [
    {
     "data": {
      "image/png": "[encoded data removed]",
      "text/plain": [
       "<Figure size 1080x576 with 6 Axes>"
      ]
     },
     "metadata": {
      "needs_background": "light"
     },
     "output_type": "display_data"
    },
    {
     "data": {
      "text/plain": [
       "<AxesSubplot:xlabel='Chance of Admit'>"
      ]
     },
     "execution_count": 16,
     "metadata": {},
     "output_type": "execute_result"
    },
    {
     "data": {
      "image/png": "[encoded data removed]",
      "text/plain": [
       "<Figure size 432x288 with 1 Axes>"
      ]
     },
     "metadata": {
      "needs_background": "light"
     },
     "output_type": "display_data"
    }
   ],
   "source": [
    "# plot the boxplot for each variable\n",
    "# subplots(): plot subplots\n",
    "# figsize(): set the figure size\n",
    "fig, ax = plt.subplots(2, 3, figsize=(15, 8))\n",
    "df_numeric_features=df_adm.select_dtypes(np.number)\n",
    "# plot the boxplot using boxplot() from seaborn\n",
    "# z: let the variable z define the boxplot\n",
    "# x: data for which the boxplot is to be plotted\n",
    "# orient: \"h\" specifies horizontal boxplot (for vertical boxplots use \"v\")\n",
    "# whis: proportion of the IQR past the low and high quartiles to extend the plot whiskers\n",
    "# ax: specifies the axes object to draw the plot onto\n",
    "# set_xlabel(): set the x-axis label\n",
    "# fontsize: sets the font size of the x-axis label\n",
    "for variable, subplot in zip(df_numeric_features.columns, ax.flatten()):\n",
    "    z = sns.boxplot(x = df_numeric_features[variable], orient = \"h\",whis=1.5 , ax=subplot) # plot the boxplot\n",
    "    z.set_xlabel(variable, fontsize = 20) \n",
    "plt.show()\n",
    "sns.boxplot(x=df_numeric_features['Chance of Admit'])"
   ]
  },
  {
   "cell_type": "markdown",
   "metadata": {},
   "source": [
    "Observing the range of the boxplot, we say that the outliers are removed from the original data. The new 'outliers' that you see are moderate outliers that lie within the min/max range before removing the actual outliers"
   ]
  },
  {
   "cell_type": "markdown",
   "metadata": {},
   "source": [
    "<a id='correlation'></a>\n",
    "### 4.7 Correlation"
   ]
  },
  {
   "cell_type": "markdown",
   "metadata": {},
   "source": [
    "<ul>\n",
    "    <li>Correlation is the extent of linear relationship among numeric variables</li>\n",
    "    <li>It indicates the extent to which two variables increase or decrease in parallel</li>\n",
    "    <li>The value of a correlation coefficient ranges between -1 and 1</li>\n",
    "    <li> Correlation among multiple variables can be represented in the form of a matrix. This allows us to see which pairs are correlated</li>\n",
    "    </ul>\n",
    "    "
   ]
  },
  {
   "cell_type": "markdown",
   "metadata": {},
   "source": [
    "<table align=\"left\">\n",
    "    <tr>\n",
    "        <td width=\"8%\">\n",
    "            <img src=\"corr1.png\">\n",
    "        </td>\n",
    "        <td>\n",
    "            <div align=\"left\", style=\"font-size:120%\">\n",
    "                <font color=\"#21618C\">\n",
    "                    <b>In order to compute the correlation matrix, we perform the following:<br>\n",
    "                    1. Filter out only the numeric variables from the dataframe using select_dtypes() function<br>\n",
    "                    2. Call the corr() function which will return the correlation matrix of numeric variables <br>\n",
    "                    3. Pass the correlation matrix to the heatmap() function of the seaborn library to plot the heatmap of the correlation matrix\n",
    "                    </b>\n",
    "                </font>\n",
    "            </div>\n",
    "        </td>\n",
    "    </tr>\n",
    "</table>"
   ]
  },
  {
   "cell_type": "markdown",
   "metadata": {},
   "source": [
    "**1. Filter out only the numeric variables from the dataframe**"
   ]
  },
  {
   "cell_type": "code",
   "execution_count": 17,
   "metadata": {},
   "outputs": [
    {
     "data": {
      "text/plain": [
       "Index(['GRE Score', 'TOEFL Score', 'University Rating', 'SOP', 'LOR', 'CGPA',\n",
       "       'Chance of Admit'],\n",
       "      dtype='object')"
      ]
     },
     "execution_count": 17,
     "metadata": {},
     "output_type": "execute_result"
    }
   ],
   "source": [
    "# filter the numerical features in the dataset\n",
    "# include=np.number: selects the numeric features\n",
    "df_numeric_features = df_adm.select_dtypes(include=np.number)\n",
    "\n",
    "# display the numeric features\n",
    "df_numeric_features.columns"
   ]
  },
  {
   "cell_type": "markdown",
   "metadata": {},
   "source": [
    "**2.  Call the corr() function which will return the correlation matrix of numeric variables**"
   ]
  },
  {
   "cell_type": "code",
   "execution_count": 18,
   "metadata": {},
   "outputs": [
    {
     "data": {
      "text/html": [
       "<div>\n",
       "<style scoped>\n",
       "    .dataframe tbody tr th:only-of-type {\n",
       "        vertical-align: middle;\n",
       "    }\n",
       "\n",
       "    .dataframe tbody tr th {\n",
       "        vertical-align: top;\n",
       "    }\n",
       "\n",
       "    .dataframe thead th {\n",
       "        text-align: right;\n",
       "    }\n",
       "</style>\n",
       "<table border=\"1\" class=\"dataframe\">\n",
       "  <thead>\n",
       "    <tr style=\"text-align: right;\">\n",
       "      <th></th>\n",
       "      <th>GRE Score</th>\n",
       "      <th>TOEFL Score</th>\n",
       "      <th>University Rating</th>\n",
       "      <th>SOP</th>\n",
       "      <th>LOR</th>\n",
       "      <th>CGPA</th>\n",
       "      <th>Chance of Admit</th>\n",
       "    </tr>\n",
       "  </thead>\n",
       "  <tbody>\n",
       "    <tr>\n",
       "      <th>GRE Score</th>\n",
       "      <td>1.000000</td>\n",
       "      <td>0.831680</td>\n",
       "      <td>0.662604</td>\n",
       "      <td>0.613904</td>\n",
       "      <td>0.547715</td>\n",
       "      <td>0.831085</td>\n",
       "      <td>0.798145</td>\n",
       "    </tr>\n",
       "    <tr>\n",
       "      <th>TOEFL Score</th>\n",
       "      <td>0.831680</td>\n",
       "      <td>1.000000</td>\n",
       "      <td>0.689227</td>\n",
       "      <td>0.657775</td>\n",
       "      <td>0.555149</td>\n",
       "      <td>0.825385</td>\n",
       "      <td>0.785519</td>\n",
       "    </tr>\n",
       "    <tr>\n",
       "      <th>University Rating</th>\n",
       "      <td>0.662604</td>\n",
       "      <td>0.689227</td>\n",
       "      <td>1.000000</td>\n",
       "      <td>0.735329</td>\n",
       "      <td>0.652626</td>\n",
       "      <td>0.740944</td>\n",
       "      <td>0.707278</td>\n",
       "    </tr>\n",
       "    <tr>\n",
       "      <th>SOP</th>\n",
       "      <td>0.613904</td>\n",
       "      <td>0.657775</td>\n",
       "      <td>0.735329</td>\n",
       "      <td>1.000000</td>\n",
       "      <td>0.726971</td>\n",
       "      <td>0.722563</td>\n",
       "      <td>0.686728</td>\n",
       "    </tr>\n",
       "    <tr>\n",
       "      <th>LOR</th>\n",
       "      <td>0.547715</td>\n",
       "      <td>0.555149</td>\n",
       "      <td>0.652626</td>\n",
       "      <td>0.726971</td>\n",
       "      <td>1.000000</td>\n",
       "      <td>0.660154</td>\n",
       "      <td>0.662595</td>\n",
       "    </tr>\n",
       "    <tr>\n",
       "      <th>CGPA</th>\n",
       "      <td>0.831085</td>\n",
       "      <td>0.825385</td>\n",
       "      <td>0.740944</td>\n",
       "      <td>0.722563</td>\n",
       "      <td>0.660154</td>\n",
       "      <td>1.000000</td>\n",
       "      <td>0.870913</td>\n",
       "    </tr>\n",
       "    <tr>\n",
       "      <th>Chance of Admit</th>\n",
       "      <td>0.798145</td>\n",
       "      <td>0.785519</td>\n",
       "      <td>0.707278</td>\n",
       "      <td>0.686728</td>\n",
       "      <td>0.662595</td>\n",
       "      <td>0.870913</td>\n",
       "      <td>1.000000</td>\n",
       "    </tr>\n",
       "  </tbody>\n",
       "</table>\n",
       "</div>"
      ],
      "text/plain": [
       "                   GRE Score  TOEFL Score  University Rating      SOP  \\\n",
       "GRE Score           1.000000     0.831680           0.662604 0.613904   \n",
       "TOEFL Score         0.831680     1.000000           0.689227 0.657775   \n",
       "University Rating   0.662604     0.689227           1.000000 0.735329   \n",
       "SOP                 0.613904     0.657775           0.735329 1.000000   \n",
       "LOR                 0.547715     0.555149           0.652626 0.726971   \n",
       "CGPA                0.831085     0.825385           0.740944 0.722563   \n",
       "Chance of Admit     0.798145     0.785519           0.707278 0.686728   \n",
       "\n",
       "                       LOR     CGPA  Chance of Admit  \n",
       "GRE Score         0.547715 0.831085         0.798145  \n",
       "TOEFL Score       0.555149 0.825385         0.785519  \n",
       "University Rating 0.652626 0.740944         0.707278  \n",
       "SOP               0.726971 0.722563         0.686728  \n",
       "LOR               1.000000 0.660154         0.662595  \n",
       "CGPA              0.660154 1.000000         0.870913  \n",
       "Chance of Admit   0.662595 0.870913         1.000000  "
      ]
     },
     "execution_count": 18,
     "metadata": {},
     "output_type": "execute_result"
    }
   ],
   "source": [
    "# generate the correlation matrix \n",
    "corr =  df_numeric_features.corr()\n",
    "\n",
    "# print the correlation matrix\n",
    "corr"
   ]
  },
  {
   "cell_type": "markdown",
   "metadata": {},
   "source": [
    "**3. Pass the correlation matrix to the heatmap() function of the seaborn library to plot the heatmap of the correlation matrix**"
   ]
  },
  {
   "cell_type": "code",
   "execution_count": 19,
   "metadata": {
    "scrolled": false
   },
   "outputs": [
    {
     "data": {
      "image/png": "[encoded data removed]",
      "text/plain": [
       "<Figure size 1080x576 with 2 Axes>"
      ]
     },
     "metadata": {
      "needs_background": "light"
     },
     "output_type": "display_data"
    }
   ],
   "source": [
    "# set the figure size\n",
    "plt.figure(figsize=(15, 8))\n",
    "\n",
    "# plot the heat map\n",
    "# corr: give the correlation matrix\n",
    "# cmap: colour code used for plotting\n",
    "# vmax: gives maximum range of values for the chart\n",
    "# vmin: gives minimum range of values for the chart\n",
    "# annot: prints the correlation values in the chart\n",
    "# annot_kws: sets the font size of the annotation\n",
    "sns.heatmap(corr, cmap='YlGnBu' ,vmax=1.0, vmin=-1.0, annot = True, annot_kws={\"size\": 15})\n",
    "\n",
    "# specify name of the plot\n",
    "plt.title('Correlation between numeric features')\n",
    "\n",
    "# display the plot\n",
    "plt.show()"
   ]
  },
  {
   "cell_type": "markdown",
   "metadata": {},
   "source": [
    "<table align=\"left\">\n",
    "    <tr>\n",
    "        <td width=\"8%\">\n",
    "            <img src=\"solution.png\">\n",
    "        </td>\n",
    "        <td>\n",
    "            <div align=\"left\", style=\"font-size:120%\">\n",
    "                <font color=\"#21618C\">\n",
    "                    <b> Most of the variables are positively correlated. The target variable.i.e. Chance of Admit have strong correlation with all numeric variables.<br><br>\n",
    "                       <br></b>\n",
    "                </font>\n",
    "            </div>\n",
    "        </td>\n",
    "    </tr>\n",
    "</table>"
   ]
  },
  {
   "cell_type": "markdown",
   "metadata": {},
   "source": [
    "<table align=\"left\">\n",
    "    <tr>\n",
    "        <td width=\"8%\">\n",
    "            <img src=\"note1.png\">\n",
    "        </td>\n",
    "        <td>\n",
    "            <div align=\"left\", style=\"font-size:120%\">\n",
    "                <font color=\"#21618C\">\n",
    "                    <b>So, We can expect there may be a strong multicollinearity between the independent variables.</b> <br><br>\n",
    "                </font>\n",
    "            </div>\n",
    "        </td>\n",
    "    </tr>\n",
    "</table>"
   ]
  },
  {
   "cell_type": "markdown",
   "metadata": {},
   "source": [
    "<a id='categorical_numerical'></a>\n",
    "### 4.8 Analyze Relationship Between Variables\n",
    "The box-and-whisker plot is commonly used for visualizing relationships between numerical variables and categorical variables."
   ]
  },
  {
   "cell_type": "markdown",
   "metadata": {},
   "source": [
    "<table align=\"left\">\n",
    "    <tr>\n",
    "        <td width=\"8%\">\n",
    "            <img src=\"read1.png\">\n",
    "        </td>\n",
    "        <td>\n",
    "            <div align=\"left\", style=\"font-size:120%\">\n",
    "                <font color=\"#21618C\">\n",
    "                    <b>Let’s start by creating box-and-whisker plots with seaborn’s boxplot method:\n",
    "                    </b>\n",
    "                </font>\n",
    "            </div>\n",
    "        </td>\n",
    "    </tr>\n",
    "</table>"
   ]
  },
  {
   "cell_type": "markdown",
   "metadata": {},
   "source": [
    "**Analysis of relationship between GRE score and research**"
   ]
  },
  {
   "cell_type": "code",
   "execution_count": 20,
   "metadata": {},
   "outputs": [
    {
     "data": {
      "image/png": "[encoded data removed]",
      "text/plain": [
       "<Figure size 1152x432 with 1 Axes>"
      ]
     },
     "metadata": {
      "needs_background": "light"
     },
     "output_type": "display_data"
    }
   ],
   "source": [
    "plt.figure(figsize=(16,6))\n",
    "sns.countplot(data=df_adm,x=\"GRE Score\",saturation=1,hue='Research')\n",
    "plt.xticks(rotation=45,size=12)\n",
    "plt.grid()\n",
    "plt.tight_layout()"
   ]
  },
  {
   "cell_type": "markdown",
   "metadata": {},
   "source": [
    "<table align=\"left\">\n",
    "    <tr>\n",
    "        <td width=\"8%\">\n",
    "            <img src=\"solution.png\">\n",
    "        </td>\n",
    "        <td>\n",
    "            <div align=\"left\", style=\"font-size:120%\">\n",
    "                <font color=\"#21618C\">\n",
    "                    <b> Most of the students who has done research are those with good GRE score.\n",
    "</b>\n",
    "                </font>\n",
    "            </div>\n",
    "        </td>\n",
    "    </tr>\n",
    "</table>\n"
   ]
  },
  {
   "cell_type": "markdown",
   "metadata": {},
   "source": [
    "**Analysis of relationship between TOEFL score and research**"
   ]
  },
  {
   "cell_type": "code",
   "execution_count": 21,
   "metadata": {},
   "outputs": [
    {
     "data": {
      "image/png": "[encoded data removed]",
      "text/plain": [
       "<Figure size 1152x432 with 1 Axes>"
      ]
     },
     "metadata": {
      "needs_background": "light"
     },
     "output_type": "display_data"
    }
   ],
   "source": [
    "plt.figure(figsize=(16,6))\n",
    "sns.countplot(data=df_adm,x=\"TOEFL Score\",saturation=1,hue='Research')\n",
    "plt.xticks(rotation=45,size=12)\n",
    "plt.grid()\n",
    "plt.tight_layout()"
   ]
  },
  {
   "cell_type": "markdown",
   "metadata": {},
   "source": [
    "<table align=\"left\">\n",
    "    <tr>\n",
    "        <td width=\"8%\">\n",
    "            <img src=\"solution.png\">\n",
    "        </td>\n",
    "        <td>\n",
    "            <div align=\"left\", style=\"font-size:120%\">\n",
    "                <font color=\"#21618C\">\n",
    "                    <b>Most of the students who has done research are those with good TOEFL score\n",
    "</b>\n",
    "                </font>\n",
    "            </div>\n",
    "        </td>\n",
    "    </tr>\n",
    "</table>"
   ]
  },
  {
   "cell_type": "markdown",
   "metadata": {},
   "source": [
    "**Analysis of SOP score based on research**"
   ]
  },
  {
   "cell_type": "code",
   "execution_count": 22,
   "metadata": {},
   "outputs": [
    {
     "data": {
      "image/png": "[encoded data removed]",
      "text/plain": [
       "<Figure size 1152x432 with 1 Axes>"
      ]
     },
     "metadata": {
      "needs_background": "light"
     },
     "output_type": "display_data"
    }
   ],
   "source": [
    "plt.figure(figsize=(16,6))\n",
    "sns.countplot(data=df_adm,x=\"SOP\",saturation=1,hue='Research')\n",
    "plt.xticks(rotation=45,size=12)\n",
    "plt.grid()\n",
    "plt.tight_layout()"
   ]
  },
  {
   "cell_type": "markdown",
   "metadata": {},
   "source": [
    "<table align=\"left\">\n",
    "    <tr>\n",
    "        <td width=\"8%\">\n",
    "            <img src=\"solution.png\">\n",
    "        </td>\n",
    "        <td>\n",
    "            <div align=\"left\", style=\"font-size:120%\">\n",
    "                <font color=\"#21618C\">\n",
    "                    <b>The students who have done research have good SOP score.\n",
    "</b>\n",
    "                </font>\n",
    "            </div>\n",
    "        </td>\n",
    "    </tr>\n",
    "</table>"
   ]
  },
  {
   "cell_type": "markdown",
   "metadata": {},
   "source": [
    "**Analysis of LOR score based on research**"
   ]
  },
  {
   "cell_type": "code",
   "execution_count": 23,
   "metadata": {},
   "outputs": [
    {
     "data": {
      "image/png": "[encoded data removed]",
      "text/plain": [
       "<Figure size 1152x432 with 1 Axes>"
      ]
     },
     "metadata": {
      "needs_background": "light"
     },
     "output_type": "display_data"
    }
   ],
   "source": [
    "plt.figure(figsize=(16,6))\n",
    "sns.countplot(data=df_adm,x=\"LOR\",saturation=1,hue='Research')\n",
    "plt.xticks(rotation=45,size=12)\n",
    "plt.grid()\n",
    "plt.tight_layout()"
   ]
  },
  {
   "cell_type": "markdown",
   "metadata": {},
   "source": [
    "<table align=\"left\">\n",
    "    <tr>\n",
    "        <td width=\"8%\">\n",
    "            <img src=\"solution.png\">\n",
    "        </td>\n",
    "        <td>\n",
    "            <div align=\"left\", style=\"font-size:120%\">\n",
    "                <font color=\"#21618C\">\n",
    "                    <b>The students who have done research have good LOR score\n",
    "</b>\n",
    "                </font>\n",
    "            </div>\n",
    "        </td>\n",
    "    </tr>\n",
    "</table>"
   ]
  },
  {
   "cell_type": "markdown",
   "metadata": {},
   "source": [
    "**Analyze the relationship between GRE score and Chance of Admit**"
   ]
  },
  {
   "cell_type": "code",
   "execution_count": 24,
   "metadata": {},
   "outputs": [
    {
     "data": {
      "image/png": "[encoded data removed]",
      "text/plain": [
       "<Figure size 1080x576 with 1 Axes>"
      ]
     },
     "metadata": {
      "needs_background": "light"
     },
     "output_type": "display_data"
    }
   ],
   "source": [
    "fig, ax = plt.subplots(figsize=(15,8))\n",
    "sns.barplot(x='GRE Score',y='Chance of Admit',data=df_adm, linewidth=1.5,edgecolor=\"0.1\")\n",
    "plt.show()"
   ]
  },
  {
   "cell_type": "markdown",
   "metadata": {},
   "source": [
    "**Analyze the relationship between TOEFL score and Chance of Admit**"
   ]
  },
  {
   "cell_type": "code",
   "execution_count": 25,
   "metadata": {},
   "outputs": [
    {
     "data": {
      "image/png": "[encoded data removed]",
      "text/plain": [
       "<Figure size 1080x576 with 1 Axes>"
      ]
     },
     "metadata": {
      "needs_background": "light"
     },
     "output_type": "display_data"
    }
   ],
   "source": [
    "fig, ax = plt.subplots(figsize=(15,8))\n",
    "sns.barplot(x='TOEFL Score',y='Chance of Admit',data=df_adm, linewidth=3.5,edgecolor=\"0.8\")\n",
    "plt.show()"
   ]
  },
  {
   "cell_type": "markdown",
   "metadata": {},
   "source": [
    "The above two graphs make it clear that higher the Scores better the Chance of admit"
   ]
  },
  {
   "cell_type": "markdown",
   "metadata": {},
   "source": [
    "**Analyze the relationship between University Rating and CGPA**"
   ]
  },
  {
   "cell_type": "code",
   "execution_count": 26,
   "metadata": {
    "scrolled": false
   },
   "outputs": [
    {
     "data": {
      "text/plain": [
       "<AxesSubplot:xlabel='University Rating', ylabel='CGPA'>"
      ]
     },
     "execution_count": 26,
     "metadata": {},
     "output_type": "execute_result"
    },
    {
     "data": {
      "image/png": "[encoded data removed]",
      "text/plain": [
       "<Figure size 432x288 with 1 Axes>"
      ]
     },
     "metadata": {
      "needs_background": "light"
     },
     "output_type": "display_data"
    }
   ],
   "source": [
    "sns.scatterplot(x='University Rating',y='CGPA',data=df_adm,color='Red', marker=\"^\", s=100)"
   ]
  },
  {
   "cell_type": "markdown",
   "metadata": {},
   "source": [
    "Ratings of university increase with the increase in the CGPA"
   ]
  },
  {
   "cell_type": "markdown",
   "metadata": {},
   "source": [
    "<a id='dummy'></a>\n",
    "### 4.9 Dummy Encoding of Categorical Variables"
   ]
  },
  {
   "cell_type": "markdown",
   "metadata": {},
   "source": [
    "To build linear regression models we use OLS method. As seen before in section 4.1.2, it is seen that some variables are categorical. The OLS method fails to perform in presence of categorical variables. To overcome this we use label encoding."
   ]
  },
  {
   "cell_type": "markdown",
   "metadata": {},
   "source": [
    "<table align=\"left\">\n",
    "    <tr>\n",
    "        <td width=\"8%\">\n",
    "            <img src=\"read1.png\">\n",
    "        </td>\n",
    "        <td>\n",
    "            <div align=\"left\", style=\"font-size:120%\">\n",
    "                <font color=\"#21618C\">\n",
    "                    <b> We need to perform dummy encoding on our categorical variables before we proceed, since the method of OLS works only on numeric data <br><br>\n",
    "                    In order to label encode, we do the following: <br>\n",
    "                    1. Filter numerical and categorical variables<br>\n",
    "                    2. Dummy encode the catergorical variables<br>\n",
    "                    3. Concatenate numerical and dummy encoded categorical variables<br></b>\n",
    "                </font>\n",
    "            </div>\n",
    "        </td>\n",
    "    </tr>\n",
    "</table>"
   ]
  },
  {
   "cell_type": "markdown",
   "metadata": {},
   "source": [
    "**1. Filter numerical and categorical variables**"
   ]
  },
  {
   "cell_type": "code",
   "execution_count": 27,
   "metadata": {},
   "outputs": [
    {
     "data": {
      "text/plain": [
       "Index(['GRE Score', 'TOEFL Score', 'University Rating', 'SOP', 'LOR', 'CGPA',\n",
       "       'Chance of Admit'],\n",
       "      dtype='object')"
      ]
     },
     "execution_count": 27,
     "metadata": {},
     "output_type": "execute_result"
    }
   ],
   "source": [
    "# filter the numerical features in the dataset using select_dtypes()\n",
    "# include=np.number: selects the numeric features\n",
    "df_numeric_features = df_adm.select_dtypes(include=np.number)\n",
    "\n",
    "# display the numeric features\n",
    "df_numeric_features.columns"
   ]
  },
  {
   "cell_type": "code",
   "execution_count": 28,
   "metadata": {},
   "outputs": [
    {
     "data": {
      "text/plain": [
       "Index(['Research'], dtype='object')"
      ]
     },
     "execution_count": 28,
     "metadata": {},
     "output_type": "execute_result"
    }
   ],
   "source": [
    "# filter the categorical features in the dataset using select_dtypes()\n",
    "# include=[np.object]: selects the categoric features\n",
    "df_categoric_features = df_adm.select_dtypes(include=[np.object])\n",
    "\n",
    "# display categorical features\n",
    "df_categoric_features.columns"
   ]
  },
  {
   "cell_type": "markdown",
   "metadata": {},
   "source": [
    "**2. Label encode the catergorical variables**"
   ]
  },
  {
   "cell_type": "code",
   "execution_count": 29,
   "metadata": {},
   "outputs": [],
   "source": [
    "# for all categoric variables create dummy variables\n",
    "for col in df_categoric_features.columns.values:\n",
    "    \n",
    "    # for a feature create dummy variables using get_dummies()\n",
    "    # prefix: specify the prefix before creating the dummy variable\n",
    "    # \"drop_first=True\": creates 'n-1' dummy variables\n",
    "    dummy_encoded_variables = pd.get_dummies(df_categoric_features[col], prefix=col, drop_first=True)\n",
    "    \n",
    "    # concatenate the categoric features with dummy variables using concat()\n",
    "    # axis=1: specifies that the concatenation is column wise\n",
    "    df_categoric_features = pd.concat([df_categoric_features, dummy_encoded_variables],axis=1)\n",
    "    \n",
    "    # drop the orginal categorical variable from the dataframe\n",
    "    # axis=1: specifies that the column is to be dropped\n",
    "    # inplace: makes permanent changes in the dataframe\n",
    "    df_categoric_features.drop([col], axis=1, inplace=True)"
   ]
  },
  {
   "cell_type": "markdown",
   "metadata": {},
   "source": [
    "**3. Concatenate numerical and label encoded categorical variables**"
   ]
  },
  {
   "cell_type": "code",
   "execution_count": 30,
   "metadata": {},
   "outputs": [
    {
     "data": {
      "text/html": [
       "<div>\n",
       "<style scoped>\n",
       "    .dataframe tbody tr th:only-of-type {\n",
       "        vertical-align: middle;\n",
       "    }\n",
       "\n",
       "    .dataframe tbody tr th {\n",
       "        vertical-align: top;\n",
       "    }\n",
       "\n",
       "    .dataframe thead th {\n",
       "        text-align: right;\n",
       "    }\n",
       "</style>\n",
       "<table border=\"1\" class=\"dataframe\">\n",
       "  <thead>\n",
       "    <tr style=\"text-align: right;\">\n",
       "      <th></th>\n",
       "      <th>GRE Score</th>\n",
       "      <th>TOEFL Score</th>\n",
       "      <th>University Rating</th>\n",
       "      <th>SOP</th>\n",
       "      <th>LOR</th>\n",
       "      <th>CGPA</th>\n",
       "      <th>Chance of Admit</th>\n",
       "      <th>Research_yes</th>\n",
       "    </tr>\n",
       "  </thead>\n",
       "  <tbody>\n",
       "    <tr>\n",
       "      <th>0</th>\n",
       "      <td>337</td>\n",
       "      <td>118</td>\n",
       "      <td>4</td>\n",
       "      <td>4.500000</td>\n",
       "      <td>4.500000</td>\n",
       "      <td>9.650000</td>\n",
       "      <td>0.920000</td>\n",
       "      <td>1</td>\n",
       "    </tr>\n",
       "    <tr>\n",
       "      <th>1</th>\n",
       "      <td>324</td>\n",
       "      <td>107</td>\n",
       "      <td>4</td>\n",
       "      <td>4.000000</td>\n",
       "      <td>4.500000</td>\n",
       "      <td>8.870000</td>\n",
       "      <td>0.760000</td>\n",
       "      <td>1</td>\n",
       "    </tr>\n",
       "    <tr>\n",
       "      <th>2</th>\n",
       "      <td>316</td>\n",
       "      <td>104</td>\n",
       "      <td>3</td>\n",
       "      <td>3.000000</td>\n",
       "      <td>3.500000</td>\n",
       "      <td>8.000000</td>\n",
       "      <td>0.720000</td>\n",
       "      <td>1</td>\n",
       "    </tr>\n",
       "    <tr>\n",
       "      <th>3</th>\n",
       "      <td>322</td>\n",
       "      <td>110</td>\n",
       "      <td>3</td>\n",
       "      <td>3.500000</td>\n",
       "      <td>2.500000</td>\n",
       "      <td>8.670000</td>\n",
       "      <td>0.800000</td>\n",
       "      <td>1</td>\n",
       "    </tr>\n",
       "    <tr>\n",
       "      <th>4</th>\n",
       "      <td>314</td>\n",
       "      <td>103</td>\n",
       "      <td>2</td>\n",
       "      <td>2.000000</td>\n",
       "      <td>3.000000</td>\n",
       "      <td>8.210000</td>\n",
       "      <td>0.650000</td>\n",
       "      <td>0</td>\n",
       "    </tr>\n",
       "  </tbody>\n",
       "</table>\n",
       "</div>"
      ],
      "text/plain": [
       "   GRE Score  TOEFL Score  University Rating      SOP      LOR     CGPA  \\\n",
       "0        337          118                  4 4.500000 4.500000 9.650000   \n",
       "1        324          107                  4 4.000000 4.500000 8.870000   \n",
       "2        316          104                  3 3.000000 3.500000 8.000000   \n",
       "3        322          110                  3 3.500000 2.500000 8.670000   \n",
       "4        314          103                  2 2.000000 3.000000 8.210000   \n",
       "\n",
       "   Chance of Admit  Research_yes  \n",
       "0         0.920000             1  \n",
       "1         0.760000             1  \n",
       "2         0.720000             1  \n",
       "3         0.800000             1  \n",
       "4         0.650000             0  "
      ]
     },
     "execution_count": 30,
     "metadata": {},
     "output_type": "execute_result"
    }
   ],
   "source": [
    "# concatenate the numerical and dummy encoded categorical variables using concat()\n",
    "# axis=1: specifies that the concatenation is column wise\n",
    "df_adm_dummy = pd.concat([df_numeric_features, df_categoric_features], axis=1)\n",
    "\n",
    "# display data with dummy variables\n",
    "df_adm_dummy.head()"
   ]
  },
  {
   "cell_type": "markdown",
   "metadata": {},
   "source": [
    "<table align=\"left\">\n",
    "    <tr>\n",
    "        <td width=\"8%\">\n",
    "            <img src=\"solution.png\">\n",
    "        </td>\n",
    "        <td>\n",
    "            <div align=\"left\", style=\"font-size:120%\">\n",
    "                <font color=\"#21618C\">\n",
    "                    <b>Thus we have obtained the label coded variables. <br><br>\n",
    "                        Note: Now the categorical variable is dummy encoded and for each category, a unique number is assigned. \n",
    "</b>\n",
    "                </font>\n",
    "            </div>\n",
    "        </td>\n",
    "    </tr>\n",
    "</table>\n"
   ]
  },
  {
   "cell_type": "markdown",
   "metadata": {},
   "source": [
    "<a id='LinearRegression'></a>\n",
    "## 5. Linear Regression (OLS)"
   ]
  },
  {
   "cell_type": "markdown",
   "metadata": {},
   "source": [
    "<a id='withLog'></a>\n",
    "### 5.1 Multiple Linear Regression - Full Model (OLS)"
   ]
  },
  {
   "cell_type": "markdown",
   "metadata": {},
   "source": [
    "In this section we build a full model with linear regression using OLS (Ordinary Least Square) technique. By full model we indicate that we consider all the independent variables that are present in the dataset."
   ]
  },
  {
   "cell_type": "markdown",
   "metadata": {},
   "source": [
    "<table align=\"left\">\n",
    "    <tr>\n",
    "        <td width=\"8%\">\n",
    "            <img src=\"read1.png\">\n",
    "        </td>\n",
    "        <td>\n",
    "            <div align=\"left\", style=\"font-size:120%\">\n",
    "                <font color=\"#21618C\">\n",
    "                    <b>In order to build the model, we do the following: <br>\n",
    "                       1. Split the data into training and test sets<br>\n",
    "                       2. Build model using sm.OLS().fit()<br>\n",
    "                       \n",
    "</b>\n",
    "                </font>\n",
    "            </div>\n",
    "        </td>\n",
    "    </tr>\n",
    "</table>\n"
   ]
  },
  {
   "cell_type": "markdown",
   "metadata": {},
   "source": [
    "**1. Split the data into training and test sets**"
   ]
  },
  {
   "cell_type": "code",
   "execution_count": 31,
   "metadata": {},
   "outputs": [
    {
     "name": "stdout",
     "output_type": "stream",
     "text": [
      "The shape of X_train is: (297, 8)\n",
      "The shape of X_test is: (99, 8)\n",
      "The shape of y_train is: (297,)\n",
      "The shape of y_test is: (99,)\n"
     ]
    }
   ],
   "source": [
    "# add the intercept column to the dataset\n",
    "df_adm_dummy = sm.add_constant(df_adm_dummy)\n",
    "\n",
    "# separate the independent and dependent variables\n",
    "# drop(): drops the specified columns\n",
    "# axis=1: specifies that the column is to be dropped\n",
    "X = df_adm_dummy.drop(['Chance of Admit'], axis=1)\n",
    "\n",
    "# extract the target variable from the data set\n",
    "y = df_adm_dummy['Chance of Admit']\n",
    "\n",
    "# split data into train subset and test subset for predictor and target variables\n",
    "# random_state: the seed used by the random number generator\n",
    "X_train, X_test, y_train, y_test = train_test_split(X, y, random_state=1)\n",
    "\n",
    "# check the dimensions of the train & test subset for \n",
    "\n",
    "# print dimension of predictors train set\n",
    "print(\"The shape of X_train is:\",X_train.shape)\n",
    "\n",
    "# print dimension of predictors test set\n",
    "print(\"The shape of X_test is:\",X_test.shape)\n",
    "\n",
    "# print dimension of target train set\n",
    "print(\"The shape of y_train is:\",y_train.shape)\n",
    "\n",
    "# print dimension of target test set\n",
    "print(\"The shape of y_test is:\",y_test.shape)"
   ]
  },
  {
   "cell_type": "markdown",
   "metadata": {},
   "source": [
    "**2. Build model using sm.OLS().fit()**"
   ]
  },
  {
   "cell_type": "code",
   "execution_count": 32,
   "metadata": {
    "scrolled": false
   },
   "outputs": [
    {
     "name": "stdout",
     "output_type": "stream",
     "text": [
      "                            OLS Regression Results                            \n",
      "==============================================================================\n",
      "Dep. Variable:        Chance of Admit   R-squared:                       0.795\n",
      "Model:                            OLS   Adj. R-squared:                  0.790\n",
      "Method:                 Least Squares   F-statistic:                     160.2\n",
      "Date:                Sun, 16 May 2021   Prob (F-statistic):           1.47e-95\n",
      "Time:                        19:49:54   Log-Likelihood:                 406.86\n",
      "No. Observations:                 297   AIC:                            -797.7\n",
      "Df Residuals:                     289   BIC:                            -768.2\n",
      "Df Model:                           7                                         \n",
      "Covariance Type:            nonrobust                                         \n",
      "=====================================================================================\n",
      "                        coef    std err          t      P>|t|      [0.025      0.975]\n",
      "-------------------------------------------------------------------------------------\n",
      "const                -1.1519      0.135     -8.503      0.000      -1.419      -0.885\n",
      "GRE Score             0.0016      0.001      2.343      0.020       0.000       0.003\n",
      "TOEFL Score           0.0021      0.001      1.610      0.109      -0.000       0.005\n",
      "University Rating     0.0071      0.005      1.305      0.193      -0.004       0.018\n",
      "SOP                3.997e-05      0.007      0.006      0.995      -0.013       0.013\n",
      "LOR                   0.0187      0.006      3.058      0.002       0.007       0.031\n",
      "CGPA                  0.1234      0.014      8.740      0.000       0.096       0.151\n",
      "Research_yes          0.0250      0.009      2.859      0.005       0.008       0.042\n",
      "==============================================================================\n",
      "Omnibus:                       66.969   Durbin-Watson:                   1.734\n",
      "Prob(Omnibus):                  0.000   Jarque-Bera (JB):              143.190\n",
      "Skew:                          -1.126   Prob(JB):                     8.07e-32\n",
      "Kurtosis:                       5.550   Cond. No.                     1.26e+04\n",
      "==============================================================================\n",
      "\n",
      "Notes:\n",
      "[1] Standard Errors assume that the covariance matrix of the errors is correctly specified.\n",
      "[2] The condition number is large, 1.26e+04. This might indicate that there are\n",
      "strong multicollinearity or other numerical problems.\n"
     ]
    }
   ],
   "source": [
    "# build a full model using OLS()\n",
    "# consider the log of claim \n",
    "linreg_full_model = sm.OLS(y_train, X_train).fit()\n",
    "\n",
    "# print the summary output\n",
    "print(linreg_full_model.summary())"
   ]
  },
  {
   "cell_type": "markdown",
   "metadata": {},
   "source": [
    "<table align=\"left\">\n",
    "    <tr>\n",
    "        <td width=\"8%\">\n",
    "            <img src=\"solution.png\">\n",
    "        </td>\n",
    "        <td>\n",
    "            <div align=\"left\", style=\"font-size:120%\">\n",
    "                <font color=\"#21618C\">\n",
    "                    <b>This model explains 79.5% of the variation in dependent variable Chance of Admit.The Durbin-Watson test statistics is 1.734 and indicates that there is no autocorrelation. The Condition Number 1.26e+04 suggests that there is strong multicollinearity.\n",
    "</b>\n",
    "                </font>\n",
    "            </div>\n",
    "        </td>\n",
    "    </tr>\n",
    "</table>"
   ]
  },
  {
   "cell_type": "markdown",
   "metadata": {},
   "source": [
    "<table align=\"left\">\n",
    "    <tr>\n",
    "        <td width=\"8%\">\n",
    "            <img src=\"note1.png\">\n",
    "        </td>\n",
    "        <td>\n",
    "            <div align=\"left\", style=\"font-size:120%\">\n",
    "                <font color=\"#21618C\">\n",
    "                    <b> Condition Number : One way to assess multicollinearity is to compute the condition number(CN). If CN is less than 100, there is no multicollinearity. If CN is between 100 and 1000, there is moderate multicollinearity and if CN is greater 1000 there is severe multicollinearity in the data <br><br>\n",
    "                        Durbin-Watson : The Durbin-Watson statistic will always have a value between 0 and 4. A value of 2.0 means that there is no autocorrelation detected in the sample. Values from 0 to less than 2 indicate positive autocorrelation and values from from 2 to 4 indicate negative autocorrelation      \n",
    "                </font>\n",
    "            </div>\n",
    "        </td>\n",
    "    </tr>\n",
    "</table>"
   ]
  },
  {
   "cell_type": "markdown",
   "metadata": {},
   "source": [
    "<a id='multideal'></a>\n",
    "### 5.2 Dealing with the multicollinearity"
   ]
  },
  {
   "cell_type": "markdown",
   "metadata": {},
   "source": [
    "The Variance Inflation Factor (VIF) is used to detect the presence of multicollinearity between the features. The value of VIF equal to 1 indicates that no features are correlated. We calculate VIF of the numerical independent variables.   "
   ]
  },
  {
   "cell_type": "markdown",
   "metadata": {},
   "source": [
    "<table align=\"left\">\n",
    "    <tr>\n",
    "        <td width=\"8%\">\n",
    "            <img src=\"read1.png\">\n",
    "        </td>\n",
    "        <td>\n",
    "            <div align=\"left\", style=\"font-size:120%\">\n",
    "                <font color=\"#21618C\">\n",
    "                    <b>In order to deal with multicollinearity, we do the following: <br>\n",
    "                       1. Using Variance inflation Factor<br>\n",
    "                       2. Feature Scaling<br>\n",
    "                       \n",
    "</b>\n",
    "                </font>\n",
    "            </div>\n",
    "        </td>\n",
    "    </tr>\n",
    "</table>"
   ]
  },
  {
   "cell_type": "markdown",
   "metadata": {},
   "source": [
    "**1. Using Variance inflation Factor**"
   ]
  },
  {
   "cell_type": "code",
   "execution_count": 33,
   "metadata": {},
   "outputs": [
    {
     "data": {
      "text/html": [
       "<div>\n",
       "<style scoped>\n",
       "    .dataframe tbody tr th:only-of-type {\n",
       "        vertical-align: middle;\n",
       "    }\n",
       "\n",
       "    .dataframe tbody tr th {\n",
       "        vertical-align: top;\n",
       "    }\n",
       "\n",
       "    .dataframe thead th {\n",
       "        text-align: right;\n",
       "    }\n",
       "</style>\n",
       "<table border=\"1\" class=\"dataframe\">\n",
       "  <thead>\n",
       "    <tr style=\"text-align: right;\">\n",
       "      <th></th>\n",
       "      <th>VIF_Factor</th>\n",
       "      <th>Features</th>\n",
       "    </tr>\n",
       "  </thead>\n",
       "  <tbody>\n",
       "    <tr>\n",
       "      <th>0</th>\n",
       "      <td>1460.908976</td>\n",
       "      <td>GRE Score</td>\n",
       "    </tr>\n",
       "    <tr>\n",
       "      <th>1</th>\n",
       "      <td>1348.108953</td>\n",
       "      <td>TOEFL Score</td>\n",
       "    </tr>\n",
       "    <tr>\n",
       "      <th>2</th>\n",
       "      <td>21.697591</td>\n",
       "      <td>University Rating</td>\n",
       "    </tr>\n",
       "    <tr>\n",
       "      <th>3</th>\n",
       "      <td>38.429452</td>\n",
       "      <td>SOP</td>\n",
       "    </tr>\n",
       "    <tr>\n",
       "      <th>4</th>\n",
       "      <td>38.653983</td>\n",
       "      <td>LOR</td>\n",
       "    </tr>\n",
       "    <tr>\n",
       "      <th>5</th>\n",
       "      <td>1108.351057</td>\n",
       "      <td>CGPA</td>\n",
       "    </tr>\n",
       "  </tbody>\n",
       "</table>\n",
       "</div>"
      ],
      "text/plain": [
       "   VIF_Factor           Features\n",
       "0 1460.908976          GRE Score\n",
       "1 1348.108953        TOEFL Score\n",
       "2   21.697591  University Rating\n",
       "3   38.429452                SOP\n",
       "4   38.653983                LOR\n",
       "5 1108.351057               CGPA"
      ]
     },
     "execution_count": 33,
     "metadata": {},
     "output_type": "execute_result"
    }
   ],
   "source": [
    "from statsmodels.stats.outliers_influence import variance_inflation_factor\n",
    "vif=pd.DataFrame()\n",
    "df_numeric_features.drop(['Chance of Admit'],axis=1,inplace=True)\n",
    "vif['VIF_Factor']=[variance_inflation_factor(df_numeric_features.values,i) for i in range(df_numeric_features.shape[1])]\n",
    "vif['Features']=df_numeric_features.columns\n",
    "vif"
   ]
  },
  {
   "cell_type": "markdown",
   "metadata": {},
   "source": [
    "<table align=\"left\">\n",
    "    <tr>\n",
    "        <td width=\"8%\">\n",
    "            <img src=\"solution.png\">\n",
    "        </td>\n",
    "        <td>\n",
    "            <div align=\"left\", style=\"font-size:120%\">\n",
    "                <font color=\"#21618C\">\n",
    "                    <b> The output shows all the variables have the highest VIF.i.e. all Features have VIF_Factor >10.<br><br>\n",
    "                        But we cannot drop this columns because this are the main attributes to predict the chance of admit         \n",
    "                </font>\n",
    "            </div>\n",
    "        </td>\n",
    "    </tr>\n",
    "</table>"
   ]
  },
  {
   "cell_type": "markdown",
   "metadata": {},
   "source": [
    "**2. Feature Scaling**"
   ]
  },
  {
   "cell_type": "markdown",
   "metadata": {},
   "source": [
    "check whether all the attributes are normally distributed."
   ]
  },
  {
   "cell_type": "code",
   "execution_count": 34,
   "metadata": {},
   "outputs": [
    {
     "name": "stdout",
     "output_type": "stream",
     "text": [
      "Column  GRE Score  : ShapiroResult(statistic=0.986950159072876, pvalue=0.001263009151443839)\n",
      "Column  TOEFL Score  : ShapiroResult(statistic=0.9871339797973633, pvalue=0.0014111213386058807)\n",
      "Column  University Rating  : ShapiroResult(statistic=0.9053792357444763, pvalue=5.295367077229503e-15)\n",
      "Column  SOP  : ShapiroResult(statistic=0.9555397629737854, pvalue=1.463602017359733e-09)\n",
      "Column  LOR  : ShapiroResult(statistic=0.9548683166503906, pvalue=1.1769959451513046e-09)\n",
      "Column  CGPA  : ShapiroResult(statistic=0.991794764995575, pvalue=0.02764192223548889)\n"
     ]
    }
   ],
   "source": [
    "from scipy import stats\n",
    "for col in df_numeric_features.columns:\n",
    "    print(\"Column \", col, \" :\", stats.shapiro(df_numeric_features[col]))"
   ]
  },
  {
   "cell_type": "markdown",
   "metadata": {},
   "source": [
    "The above result shows that all atributes are not normally distributed"
   ]
  },
  {
   "cell_type": "markdown",
   "metadata": {},
   "source": [
    "Now, we will do MinMax scaling for our data"
   ]
  },
  {
   "cell_type": "code",
   "execution_count": 35,
   "metadata": {},
   "outputs": [
    {
     "data": {
      "text/html": [
       "<div>\n",
       "<style scoped>\n",
       "    .dataframe tbody tr th:only-of-type {\n",
       "        vertical-align: middle;\n",
       "    }\n",
       "\n",
       "    .dataframe tbody tr th {\n",
       "        vertical-align: top;\n",
       "    }\n",
       "\n",
       "    .dataframe thead th {\n",
       "        text-align: right;\n",
       "    }\n",
       "</style>\n",
       "<table border=\"1\" class=\"dataframe\">\n",
       "  <thead>\n",
       "    <tr style=\"text-align: right;\">\n",
       "      <th></th>\n",
       "      <th>GRE Score</th>\n",
       "      <th>TOEFL Score</th>\n",
       "      <th>University Rating</th>\n",
       "      <th>SOP</th>\n",
       "      <th>LOR</th>\n",
       "      <th>CGPA</th>\n",
       "    </tr>\n",
       "  </thead>\n",
       "  <tbody>\n",
       "    <tr>\n",
       "      <th>0</th>\n",
       "      <td>0.940000</td>\n",
       "      <td>0.928571</td>\n",
       "      <td>0.750000</td>\n",
       "      <td>0.875000</td>\n",
       "      <td>0.857143</td>\n",
       "      <td>0.900735</td>\n",
       "    </tr>\n",
       "    <tr>\n",
       "      <th>1</th>\n",
       "      <td>0.680000</td>\n",
       "      <td>0.535714</td>\n",
       "      <td>0.750000</td>\n",
       "      <td>0.750000</td>\n",
       "      <td>0.857143</td>\n",
       "      <td>0.613971</td>\n",
       "    </tr>\n",
       "    <tr>\n",
       "      <th>2</th>\n",
       "      <td>0.520000</td>\n",
       "      <td>0.428571</td>\n",
       "      <td>0.500000</td>\n",
       "      <td>0.500000</td>\n",
       "      <td>0.571429</td>\n",
       "      <td>0.294118</td>\n",
       "    </tr>\n",
       "    <tr>\n",
       "      <th>3</th>\n",
       "      <td>0.640000</td>\n",
       "      <td>0.642857</td>\n",
       "      <td>0.500000</td>\n",
       "      <td>0.625000</td>\n",
       "      <td>0.285714</td>\n",
       "      <td>0.540441</td>\n",
       "    </tr>\n",
       "    <tr>\n",
       "      <th>4</th>\n",
       "      <td>0.480000</td>\n",
       "      <td>0.392857</td>\n",
       "      <td>0.250000</td>\n",
       "      <td>0.250000</td>\n",
       "      <td>0.428571</td>\n",
       "      <td>0.371324</td>\n",
       "    </tr>\n",
       "  </tbody>\n",
       "</table>\n",
       "</div>"
      ],
      "text/plain": [
       "   GRE Score  TOEFL Score  University Rating      SOP     LOR      CGPA\n",
       "0   0.940000     0.928571           0.750000 0.875000 0.857143 0.900735\n",
       "1   0.680000     0.535714           0.750000 0.750000 0.857143 0.613971\n",
       "2   0.520000     0.428571           0.500000 0.500000 0.571429 0.294118\n",
       "3   0.640000     0.642857           0.500000 0.625000 0.285714 0.540441\n",
       "4   0.480000     0.392857           0.250000 0.250000 0.428571 0.371324"
      ]
     },
     "execution_count": 35,
     "metadata": {},
     "output_type": "execute_result"
    }
   ],
   "source": [
    "from sklearn import preprocessing\n",
    "mms = preprocessing.MinMaxScaler()\n",
    "mmsfit = mms.fit(df_numeric_features)\n",
    "dfxz = pd.DataFrame(mms.fit_transform(df_numeric_features), columns = ['GRE Score','TOEFL Score','University Rating','SOP','LOR ','CGPA'])\n",
    "dfxz.head()"
   ]
  },
  {
   "cell_type": "code",
   "execution_count": 36,
   "metadata": {},
   "outputs": [
    {
     "data": {
      "text/html": [
       "<div>\n",
       "<style scoped>\n",
       "    .dataframe tbody tr th:only-of-type {\n",
       "        vertical-align: middle;\n",
       "    }\n",
       "\n",
       "    .dataframe tbody tr th {\n",
       "        vertical-align: top;\n",
       "    }\n",
       "\n",
       "    .dataframe thead th {\n",
       "        text-align: right;\n",
       "    }\n",
       "</style>\n",
       "<table border=\"1\" class=\"dataframe\">\n",
       "  <thead>\n",
       "    <tr style=\"text-align: right;\">\n",
       "      <th></th>\n",
       "      <th>Research_yes</th>\n",
       "    </tr>\n",
       "  </thead>\n",
       "  <tbody>\n",
       "    <tr>\n",
       "      <th>0</th>\n",
       "      <td>1</td>\n",
       "    </tr>\n",
       "    <tr>\n",
       "      <th>1</th>\n",
       "      <td>1</td>\n",
       "    </tr>\n",
       "    <tr>\n",
       "      <th>2</th>\n",
       "      <td>1</td>\n",
       "    </tr>\n",
       "    <tr>\n",
       "      <th>3</th>\n",
       "      <td>1</td>\n",
       "    </tr>\n",
       "    <tr>\n",
       "      <th>4</th>\n",
       "      <td>0</td>\n",
       "    </tr>\n",
       "  </tbody>\n",
       "</table>\n",
       "</div>"
      ],
      "text/plain": [
       "   Research_yes\n",
       "0             1\n",
       "1             1\n",
       "2             1\n",
       "3             1\n",
       "4             0"
      ]
     },
     "execution_count": 36,
     "metadata": {},
     "output_type": "execute_result"
    }
   ],
   "source": [
    "df_categoric_features=df_categoric_features.reset_index()\n",
    "df_categoric_features.drop(['index'],axis=1,inplace=True)\n",
    "df_categoric_features.head()"
   ]
  },
  {
   "cell_type": "code",
   "execution_count": 37,
   "metadata": {},
   "outputs": [
    {
     "data": {
      "text/html": [
       "<div>\n",
       "<style scoped>\n",
       "    .dataframe tbody tr th:only-of-type {\n",
       "        vertical-align: middle;\n",
       "    }\n",
       "\n",
       "    .dataframe tbody tr th {\n",
       "        vertical-align: top;\n",
       "    }\n",
       "\n",
       "    .dataframe thead th {\n",
       "        text-align: right;\n",
       "    }\n",
       "</style>\n",
       "<table border=\"1\" class=\"dataframe\">\n",
       "  <thead>\n",
       "    <tr style=\"text-align: right;\">\n",
       "      <th></th>\n",
       "      <th>GRE Score</th>\n",
       "      <th>TOEFL Score</th>\n",
       "      <th>University Rating</th>\n",
       "      <th>SOP</th>\n",
       "      <th>LOR</th>\n",
       "      <th>CGPA</th>\n",
       "      <th>Research_yes</th>\n",
       "    </tr>\n",
       "  </thead>\n",
       "  <tbody>\n",
       "    <tr>\n",
       "      <th>0</th>\n",
       "      <td>0.940000</td>\n",
       "      <td>0.928571</td>\n",
       "      <td>0.750000</td>\n",
       "      <td>0.875000</td>\n",
       "      <td>0.857143</td>\n",
       "      <td>0.900735</td>\n",
       "      <td>1</td>\n",
       "    </tr>\n",
       "    <tr>\n",
       "      <th>1</th>\n",
       "      <td>0.680000</td>\n",
       "      <td>0.535714</td>\n",
       "      <td>0.750000</td>\n",
       "      <td>0.750000</td>\n",
       "      <td>0.857143</td>\n",
       "      <td>0.613971</td>\n",
       "      <td>1</td>\n",
       "    </tr>\n",
       "    <tr>\n",
       "      <th>2</th>\n",
       "      <td>0.520000</td>\n",
       "      <td>0.428571</td>\n",
       "      <td>0.500000</td>\n",
       "      <td>0.500000</td>\n",
       "      <td>0.571429</td>\n",
       "      <td>0.294118</td>\n",
       "      <td>1</td>\n",
       "    </tr>\n",
       "    <tr>\n",
       "      <th>3</th>\n",
       "      <td>0.640000</td>\n",
       "      <td>0.642857</td>\n",
       "      <td>0.500000</td>\n",
       "      <td>0.625000</td>\n",
       "      <td>0.285714</td>\n",
       "      <td>0.540441</td>\n",
       "      <td>1</td>\n",
       "    </tr>\n",
       "    <tr>\n",
       "      <th>4</th>\n",
       "      <td>0.480000</td>\n",
       "      <td>0.392857</td>\n",
       "      <td>0.250000</td>\n",
       "      <td>0.250000</td>\n",
       "      <td>0.428571</td>\n",
       "      <td>0.371324</td>\n",
       "      <td>0</td>\n",
       "    </tr>\n",
       "  </tbody>\n",
       "</table>\n",
       "</div>"
      ],
      "text/plain": [
       "   GRE Score  TOEFL Score  University Rating      SOP     LOR      CGPA  \\\n",
       "0   0.940000     0.928571           0.750000 0.875000 0.857143 0.900735   \n",
       "1   0.680000     0.535714           0.750000 0.750000 0.857143 0.613971   \n",
       "2   0.520000     0.428571           0.500000 0.500000 0.571429 0.294118   \n",
       "3   0.640000     0.642857           0.500000 0.625000 0.285714 0.540441   \n",
       "4   0.480000     0.392857           0.250000 0.250000 0.428571 0.371324   \n",
       "\n",
       "   Research_yes  \n",
       "0             1  \n",
       "1             1  \n",
       "2             1  \n",
       "3             1  \n",
       "4             0  "
      ]
     },
     "execution_count": 37,
     "metadata": {},
     "output_type": "execute_result"
    }
   ],
   "source": [
    "dfxz = pd.concat([dfxz, df_categoric_features], axis = 1)\n",
    "dfxz.head()"
   ]
  },
  {
   "cell_type": "markdown",
   "metadata": {},
   "source": [
    "<a id='linearreg'></a>\n",
    "### 5.3 Linear Regression using Feature scaling"
   ]
  },
  {
   "cell_type": "code",
   "execution_count": 38,
   "metadata": {},
   "outputs": [
    {
     "data": {
      "text/html": [
       "<div>\n",
       "<style scoped>\n",
       "    .dataframe tbody tr th:only-of-type {\n",
       "        vertical-align: middle;\n",
       "    }\n",
       "\n",
       "    .dataframe tbody tr th {\n",
       "        vertical-align: top;\n",
       "    }\n",
       "\n",
       "    .dataframe thead th {\n",
       "        text-align: right;\n",
       "    }\n",
       "</style>\n",
       "<table border=\"1\" class=\"dataframe\">\n",
       "  <thead>\n",
       "    <tr style=\"text-align: right;\">\n",
       "      <th></th>\n",
       "      <th>const</th>\n",
       "      <th>GRE Score</th>\n",
       "      <th>TOEFL Score</th>\n",
       "      <th>University Rating</th>\n",
       "      <th>SOP</th>\n",
       "      <th>LOR</th>\n",
       "      <th>CGPA</th>\n",
       "      <th>Research_yes</th>\n",
       "    </tr>\n",
       "  </thead>\n",
       "  <tbody>\n",
       "    <tr>\n",
       "      <th>0</th>\n",
       "      <td>1.000000</td>\n",
       "      <td>0.940000</td>\n",
       "      <td>0.928571</td>\n",
       "      <td>0.750000</td>\n",
       "      <td>0.875000</td>\n",
       "      <td>0.857143</td>\n",
       "      <td>0.900735</td>\n",
       "      <td>1</td>\n",
       "    </tr>\n",
       "    <tr>\n",
       "      <th>1</th>\n",
       "      <td>1.000000</td>\n",
       "      <td>0.680000</td>\n",
       "      <td>0.535714</td>\n",
       "      <td>0.750000</td>\n",
       "      <td>0.750000</td>\n",
       "      <td>0.857143</td>\n",
       "      <td>0.613971</td>\n",
       "      <td>1</td>\n",
       "    </tr>\n",
       "    <tr>\n",
       "      <th>2</th>\n",
       "      <td>1.000000</td>\n",
       "      <td>0.520000</td>\n",
       "      <td>0.428571</td>\n",
       "      <td>0.500000</td>\n",
       "      <td>0.500000</td>\n",
       "      <td>0.571429</td>\n",
       "      <td>0.294118</td>\n",
       "      <td>1</td>\n",
       "    </tr>\n",
       "    <tr>\n",
       "      <th>3</th>\n",
       "      <td>1.000000</td>\n",
       "      <td>0.640000</td>\n",
       "      <td>0.642857</td>\n",
       "      <td>0.500000</td>\n",
       "      <td>0.625000</td>\n",
       "      <td>0.285714</td>\n",
       "      <td>0.540441</td>\n",
       "      <td>1</td>\n",
       "    </tr>\n",
       "    <tr>\n",
       "      <th>4</th>\n",
       "      <td>1.000000</td>\n",
       "      <td>0.480000</td>\n",
       "      <td>0.392857</td>\n",
       "      <td>0.250000</td>\n",
       "      <td>0.250000</td>\n",
       "      <td>0.428571</td>\n",
       "      <td>0.371324</td>\n",
       "      <td>0</td>\n",
       "    </tr>\n",
       "  </tbody>\n",
       "</table>\n",
       "</div>"
      ],
      "text/plain": [
       "     const  GRE Score  TOEFL Score  University Rating      SOP     LOR   \\\n",
       "0 1.000000   0.940000     0.928571           0.750000 0.875000 0.857143   \n",
       "1 1.000000   0.680000     0.535714           0.750000 0.750000 0.857143   \n",
       "2 1.000000   0.520000     0.428571           0.500000 0.500000 0.571429   \n",
       "3 1.000000   0.640000     0.642857           0.500000 0.625000 0.285714   \n",
       "4 1.000000   0.480000     0.392857           0.250000 0.250000 0.428571   \n",
       "\n",
       "      CGPA  Research_yes  \n",
       "0 0.900735             1  \n",
       "1 0.613971             1  \n",
       "2 0.294118             1  \n",
       "3 0.540441             1  \n",
       "4 0.371324             0  "
      ]
     },
     "execution_count": 38,
     "metadata": {},
     "output_type": "execute_result"
    }
   ],
   "source": [
    "X=dfxz.copy()\n",
    "X=sm.add_constant(X)\n",
    "X.head()"
   ]
  },
  {
   "cell_type": "code",
   "execution_count": 39,
   "metadata": {},
   "outputs": [
    {
     "data": {
      "text/html": [
       "<div>\n",
       "<style scoped>\n",
       "    .dataframe tbody tr th:only-of-type {\n",
       "        vertical-align: middle;\n",
       "    }\n",
       "\n",
       "    .dataframe tbody tr th {\n",
       "        vertical-align: top;\n",
       "    }\n",
       "\n",
       "    .dataframe thead th {\n",
       "        text-align: right;\n",
       "    }\n",
       "</style>\n",
       "<table border=\"1\" class=\"dataframe\">\n",
       "  <thead>\n",
       "    <tr style=\"text-align: right;\">\n",
       "      <th></th>\n",
       "      <th>Chance of Admit</th>\n",
       "    </tr>\n",
       "  </thead>\n",
       "  <tbody>\n",
       "    <tr>\n",
       "      <th>0</th>\n",
       "      <td>0.920000</td>\n",
       "    </tr>\n",
       "    <tr>\n",
       "      <th>1</th>\n",
       "      <td>0.760000</td>\n",
       "    </tr>\n",
       "    <tr>\n",
       "      <th>2</th>\n",
       "      <td>0.720000</td>\n",
       "    </tr>\n",
       "    <tr>\n",
       "      <th>3</th>\n",
       "      <td>0.800000</td>\n",
       "    </tr>\n",
       "    <tr>\n",
       "      <th>4</th>\n",
       "      <td>0.650000</td>\n",
       "    </tr>\n",
       "  </tbody>\n",
       "</table>\n",
       "</div>"
      ],
      "text/plain": [
       "   Chance of Admit\n",
       "0         0.920000\n",
       "1         0.760000\n",
       "2         0.720000\n",
       "3         0.800000\n",
       "4         0.650000"
      ]
     },
     "execution_count": 39,
     "metadata": {},
     "output_type": "execute_result"
    }
   ],
   "source": [
    "y=y.reset_index()\n",
    "y.drop(['index'],axis=1,inplace=True)\n",
    "y.head()"
   ]
  },
  {
   "cell_type": "code",
   "execution_count": 40,
   "metadata": {},
   "outputs": [
    {
     "data": {
      "text/html": [
       "<table class=\"simpletable\">\n",
       "<caption>OLS Regression Results</caption>\n",
       "<tr>\n",
       "  <th>Dep. Variable:</th>     <td>Chance of Admit</td> <th>  R-squared:         </th> <td>   0.785</td>\n",
       "</tr>\n",
       "<tr>\n",
       "  <th>Model:</th>                   <td>OLS</td>       <th>  Adj. R-squared:    </th> <td>   0.779</td>\n",
       "</tr>\n",
       "<tr>\n",
       "  <th>Method:</th>             <td>Least Squares</td>  <th>  F-statistic:       </th> <td>   140.0</td>\n",
       "</tr>\n",
       "<tr>\n",
       "  <th>Date:</th>             <td>Sun, 16 May 2021</td> <th>  Prob (F-statistic):</th> <td>7.39e-86</td>\n",
       "</tr>\n",
       "<tr>\n",
       "  <th>Time:</th>                 <td>19:49:56</td>     <th>  Log-Likelihood:    </th> <td>  366.42</td>\n",
       "</tr>\n",
       "<tr>\n",
       "  <th>No. Observations:</th>      <td>   277</td>      <th>  AIC:               </th> <td>  -716.8</td>\n",
       "</tr>\n",
       "<tr>\n",
       "  <th>Df Residuals:</th>          <td>   269</td>      <th>  BIC:               </th> <td>  -687.8</td>\n",
       "</tr>\n",
       "<tr>\n",
       "  <th>Df Model:</th>              <td>     7</td>      <th>                     </th>     <td> </td>   \n",
       "</tr>\n",
       "<tr>\n",
       "  <th>Covariance Type:</th>      <td>nonrobust</td>    <th>                     </th>     <td> </td>   \n",
       "</tr>\n",
       "</table>\n",
       "<table class=\"simpletable\">\n",
       "<tr>\n",
       "          <td></td>             <th>coef</th>     <th>std err</th>      <th>t</th>      <th>P>|t|</th>  <th>[0.025</th>    <th>0.975]</th>  \n",
       "</tr>\n",
       "<tr>\n",
       "  <th>const</th>             <td>    0.4002</td> <td>    0.012</td> <td>   33.032</td> <td> 0.000</td> <td>    0.376</td> <td>    0.424</td>\n",
       "</tr>\n",
       "<tr>\n",
       "  <th>GRE Score</th>         <td>    0.0855</td> <td>    0.037</td> <td>    2.290</td> <td> 0.023</td> <td>    0.012</td> <td>    0.159</td>\n",
       "</tr>\n",
       "<tr>\n",
       "  <th>TOEFL Score</th>       <td>    0.0570</td> <td>    0.037</td> <td>    1.539</td> <td> 0.125</td> <td>   -0.016</td> <td>    0.130</td>\n",
       "</tr>\n",
       "<tr>\n",
       "  <th>University Rating</th> <td>    0.0113</td> <td>    0.022</td> <td>    0.504</td> <td> 0.614</td> <td>   -0.033</td> <td>    0.055</td>\n",
       "</tr>\n",
       "<tr>\n",
       "  <th>SOP</th>               <td>   -0.0051</td> <td>    0.026</td> <td>   -0.193</td> <td> 0.847</td> <td>   -0.057</td> <td>    0.047</td>\n",
       "</tr>\n",
       "<tr>\n",
       "  <th>LOR </th>              <td>    0.0724</td> <td>    0.024</td> <td>    3.056</td> <td> 0.002</td> <td>    0.026</td> <td>    0.119</td>\n",
       "</tr>\n",
       "<tr>\n",
       "  <th>CGPA</th>              <td>    0.3661</td> <td>    0.042</td> <td>    8.793</td> <td> 0.000</td> <td>    0.284</td> <td>    0.448</td>\n",
       "</tr>\n",
       "<tr>\n",
       "  <th>Research_yes</th>      <td>    0.0248</td> <td>    0.010</td> <td>    2.532</td> <td> 0.012</td> <td>    0.006</td> <td>    0.044</td>\n",
       "</tr>\n",
       "</table>\n",
       "<table class=\"simpletable\">\n",
       "<tr>\n",
       "  <th>Omnibus:</th>       <td>58.739</td> <th>  Durbin-Watson:     </th> <td>   2.027</td>\n",
       "</tr>\n",
       "<tr>\n",
       "  <th>Prob(Omnibus):</th> <td> 0.000</td> <th>  Jarque-Bera (JB):  </th> <td> 113.109</td>\n",
       "</tr>\n",
       "<tr>\n",
       "  <th>Skew:</th>          <td>-1.098</td> <th>  Prob(JB):          </th> <td>2.75e-25</td>\n",
       "</tr>\n",
       "<tr>\n",
       "  <th>Kurtosis:</th>      <td> 5.230</td> <th>  Cond. No.          </th> <td>    21.9</td>\n",
       "</tr>\n",
       "</table><br/><br/>Notes:<br/>[1] Standard Errors assume that the covariance matrix of the errors is correctly specified."
      ],
      "text/plain": [
       "<class 'statsmodels.iolib.summary.Summary'>\n",
       "\"\"\"\n",
       "                            OLS Regression Results                            \n",
       "==============================================================================\n",
       "Dep. Variable:        Chance of Admit   R-squared:                       0.785\n",
       "Model:                            OLS   Adj. R-squared:                  0.779\n",
       "Method:                 Least Squares   F-statistic:                     140.0\n",
       "Date:                Sun, 16 May 2021   Prob (F-statistic):           7.39e-86\n",
       "Time:                        19:49:56   Log-Likelihood:                 366.42\n",
       "No. Observations:                 277   AIC:                            -716.8\n",
       "Df Residuals:                     269   BIC:                            -687.8\n",
       "Df Model:                           7                                         \n",
       "Covariance Type:            nonrobust                                         \n",
       "=====================================================================================\n",
       "                        coef    std err          t      P>|t|      [0.025      0.975]\n",
       "-------------------------------------------------------------------------------------\n",
       "const                 0.4002      0.012     33.032      0.000       0.376       0.424\n",
       "GRE Score             0.0855      0.037      2.290      0.023       0.012       0.159\n",
       "TOEFL Score           0.0570      0.037      1.539      0.125      -0.016       0.130\n",
       "University Rating     0.0113      0.022      0.504      0.614      -0.033       0.055\n",
       "SOP                  -0.0051      0.026     -0.193      0.847      -0.057       0.047\n",
       "LOR                   0.0724      0.024      3.056      0.002       0.026       0.119\n",
       "CGPA                  0.3661      0.042      8.793      0.000       0.284       0.448\n",
       "Research_yes          0.0248      0.010      2.532      0.012       0.006       0.044\n",
       "==============================================================================\n",
       "Omnibus:                       58.739   Durbin-Watson:                   2.027\n",
       "Prob(Omnibus):                  0.000   Jarque-Bera (JB):              113.109\n",
       "Skew:                          -1.098   Prob(JB):                     2.75e-25\n",
       "Kurtosis:                       5.230   Cond. No.                         21.9\n",
       "==============================================================================\n",
       "\n",
       "Notes:\n",
       "[1] Standard Errors assume that the covariance matrix of the errors is correctly specified.\n",
       "\"\"\""
      ]
     },
     "execution_count": 40,
     "metadata": {},
     "output_type": "execute_result"
    }
   ],
   "source": [
    "X_train1,X_test1,y_train1,y_test1=train_test_split(X,y,random_state=2,test_size=0.3)\n",
    "mlr_model_scaled=sm.OLS(y_train1,X_train1).fit()\n",
    "mlr_model_scaled.summary()"
   ]
  },
  {
   "cell_type": "markdown",
   "metadata": {},
   "source": [
    "<table align=\"left\">\n",
    "    <tr>\n",
    "        <td width=\"8%\">\n",
    "            <img src=\"solution.png\">\n",
    "        </td>\n",
    "        <td>\n",
    "            <div align=\"left\", style=\"font-size:120%\">\n",
    "                <font color=\"#21618C\">\n",
    "                    <b> This model explains 78.5% of the variation in dependent variable Chance of Admit.The Durbin-Watson test statistics is 2.027 and indicates that there is no autocorrelation. The Condition Number 21.9 suggests that there is no multicollinearity.\n",
    "</b>\n",
    "                </font>\n",
    "            </div>\n",
    "        </td>\n",
    "    </tr>\n",
    "</table>"
   ]
  },
  {
   "cell_type": "markdown",
   "metadata": {},
   "source": [
    "<a id='Assumptions'></a>\n",
    "### 5.4 Check the Assumptions of the Linear Regression\n",
    "\n",
    "Now we perform test for checking presence of Autocorrelation and Heteroskedasticity."
   ]
  },
  {
   "cell_type": "markdown",
   "metadata": {},
   "source": [
    "<a id='Autocorrelation'></a>\n",
    "### 5.4.1 Detecting Autocorrelation\n",
    "\n",
    "Autocorrelation (also called serial correlation) refers to the degree of correlation between the values of the same variables across different observations in the data. One of the assumptions of the linear regression is that there should not be autocorrelation.\n",
    "\n",
    "The Durbin Watson Test is a measure of autocorrelation in residuals from the regression analysis.\n",
    "Autocorrelation being present typically indicates that we are missing some information that should be captured by the model.\n",
    "\n",
    "The null and alternate hypothesis of Durbin-Watson test is as follows: <br>\n",
    "        \n",
    "          H0: There is no autocorrelation in the residuals\n",
    "          H1: There is autocorrelation in the residuals\n",
    "\n",
    "**The test statistic is approximately equal to 2*(1-r) where r is the sample autocorrelation of the residuals. Thus, for r == 0, indicating no serial correlation, the test statistic equals 2. This statistic will always be between 0 and 4. The closer to 0 the statistic, the more evidence for positive serial correlation. The closer to 4, the more evidence for negative serial correlation**\n",
    "\n",
    "**From the summary output in section 5.3, we see that the Durbin-Watson static is  2.027**\n",
    "\n",
    "**Hence we can conclude that there is no autocorrelation**"
   ]
  },
  {
   "cell_type": "markdown",
   "metadata": {},
   "source": [
    "<table align=\"left\">\n",
    "    <tr>\n",
    "        <td width=\"8%\">\n",
    "            <img src=\"note1.png\">\n",
    "        </td>\n",
    "        <td>\n",
    "            <div align=\"left\", style=\"font-size:120%\">\n",
    "                <font color=\"#21618C\">\n",
    "                    <b>We can also find out the p-value associated with the Durbin-Watson statistic from Durbin_Watson table in order to reject or fail to reject the null hypothesis. Reference URL: <a href=\"https://bit.ly/36DJDR8\">Durbin-Watson Table</b>\n",
    "                </font>\n",
    "            </div>\n",
    "        </td>\n",
    "    </tr>\n",
    "</table>\n",
    "\n"
   ]
  },
  {
   "cell_type": "markdown",
   "metadata": {},
   "source": [
    "<a id='Heteroskedasticity'></a>\n",
    "### 5.4.2 Detecting Heteroskedasticity\n",
    "Heteroskedasticity is a systematic change in the spread of the residuals over the range of measured values. One of the assumptions of the linear regression is that there should not be Heteroskedasticity.\n",
    "\n",
    "Breusch-Pagan is the test for detecting heteroskedasticity:\n",
    "\n",
    "The null and alternate hypothesis of Breusch-Pagan test is as follows:<BR>\n",
    "    \n",
    "    H0: The residuals are homoskedastic\n",
    "    H1: The residuals are not homoskedastic"
   ]
  },
  {
   "cell_type": "code",
   "execution_count": 41,
   "metadata": {},
   "outputs": [
    {
     "data": {
      "text/plain": [
       "[('f-value', 24.80240058486378), ('p-value', 0.0008224854083571362)]"
      ]
     },
     "execution_count": 41,
     "metadata": {},
     "output_type": "execute_result"
    }
   ],
   "source": [
    "# create vector of result parmeters\n",
    "name = ['f-value','p-value']           \n",
    "\n",
    "# perform Breusch-Pagan test using het_breushpagan()\n",
    "# compute residuals using 'resid'\n",
    "# 'exog' returns the independent variables in the model alng with the intercept\n",
    "test = sms.het_breuschpagan(mlr_model_scaled.resid, mlr_model_scaled.model.exog)\n",
    "\n",
    "# print the output\n",
    "# use 'lzip' to zip the column names and test results\n",
    "lzip(name, test) "
   ]
  },
  {
   "cell_type": "markdown",
   "metadata": {},
   "source": [
    "<table align=\"left\">\n",
    "    <tr>\n",
    "        <td width=\"8%\">\n",
    "            <img src=\"solution.png\">\n",
    "        </td>\n",
    "        <td>\n",
    "            <div align=\"left\", style=\"font-size:120%\">\n",
    "                <font color=\"#21618C\">\n",
    "                    <b>We observe that p-value is less than 0.05 and thus reject the null hypothesis. We conclude that there is heteroskedasticity present in the data. In real life it might not be possible to meet all the assumptions of linear regression.\n",
    "</b>\n",
    "                </font>\n",
    "            </div>\n",
    "        </td>\n",
    "    </tr>\n",
    "</table>\n"
   ]
  },
  {
   "cell_type": "markdown",
   "metadata": {},
   "source": [
    "<a id='Linearity_of_Residuals'></a>\n",
    "### 5.4.3 Linearity of Residuals\n",
    "\n",
    "Multiple linear regression requires the relationship between the independent and dependent variables to be linear, i.e. it should be linear in the parameters. The linearity assumption can best be tested with scatterplots.<br><br>The independent variables must have a linear relationship with the dependent variable."
   ]
  },
  {
   "cell_type": "code",
   "execution_count": 42,
   "metadata": {
    "scrolled": false
   },
   "outputs": [
    {
     "data": {
      "image/png": "[encoded data removed]",
      "text/plain": [
       "<Figure size 1800x1440 with 6 Axes>"
      ]
     },
     "metadata": {
      "needs_background": "light"
     },
     "output_type": "display_data"
    }
   ],
   "source": [
    "# create subplots of scatter plots\n",
    "# pass the number of rows in a subplot to 'nrows'\n",
    "# pass the number of columns in a subplot to 'ncolumns'\n",
    "# set plot size using 'figsize'\n",
    "fig, ax = plt.subplots(nrows = 3, ncols= 2, figsize=(25, 20))\n",
    "\n",
    "# use for loop to create scatter plot for residuals and each independent variable (do not consider the intercept)\n",
    "# 'ax' assigns axes object to draw the plot onto \n",
    "for variable, subplot in zip(X_train1.columns[1:], ax.flatten()):\n",
    "    sns.scatterplot(X_train1[variable], mlr_model_scaled.resid , ax=subplot)\n",
    "\n",
    "# display the plot\n",
    "plt.show()"
   ]
  },
  {
   "cell_type": "markdown",
   "metadata": {},
   "source": [
    "<table align=\"left\">\n",
    "    <tr>\n",
    "        <td width=\"8%\">\n",
    "            <img src=\"solution.png\">\n",
    "        </td>\n",
    "        <td>\n",
    "            <div align=\"left\", style=\"font-size:120%\">\n",
    "                <font color=\"#21618C\">\n",
    "                    <b>From the plots we see that none of the plots show a specific pattern. Hence, we may conclude that the variables are linearly related to the dependent variable.\n",
    "</b>\n",
    "                </font>\n",
    "            </div>\n",
    "        </td>\n",
    "    </tr>\n",
    "</table>"
   ]
  },
  {
   "cell_type": "markdown",
   "metadata": {},
   "source": [
    "<a id='Normality_of_Residuals'></a>\n",
    "### 5.4.4 Normality of Residuals\n",
    "\n",
    "The assumption of normality is an important assumption for many statistical tests. The normal Q-Q plot is one way to assess normality. This q-q or quantile-quantile is a scatter plot which helps us validate the assumption of normal distribution in a data set."
   ]
  },
  {
   "cell_type": "code",
   "execution_count": 43,
   "metadata": {},
   "outputs": [
    {
     "data": {
      "image/png": "[encoded data removed]",
      "text/plain": [
       "<Figure size 1080x576 with 1 Axes>"
      ]
     },
     "metadata": {
      "needs_background": "light"
     },
     "output_type": "display_data"
    }
   ],
   "source": [
    "# calculate fitted values\n",
    "fitted_vals = mlr_model_scaled.predict(X_test1)\n",
    "\n",
    "# calculate residuals\n",
    "resids = y_test1 - fitted_vals\n",
    "\n",
    "# create subplots using subplots() such that there is one row having one plot\n",
    "# 'figsize' sets the figure size\n",
    "fig, ax = plt.subplots(1, 1, figsize=(15, 8))\n",
    "\n",
    "# plot the probability plot to check the normality of the residuals\n",
    "# plot: if specified plots the least squares fit\n",
    "stats.probplot( mlr_model_scaled.resid, plot=plt)\n",
    "\n",
    "# set the marker type using the set_marker() parameter\n",
    "# access the line object from the axes object using ax.get_lines()\n",
    "# then, the properties can be changed accordingly\n",
    "# set the marker to 'o' to use circles as points\n",
    "ax.get_lines()[0].set_marker('o')\n",
    "\n",
    "# set the marker size using the set_markersize() parameter\n",
    "# set the marker size to 5\n",
    "ax.get_lines()[0].set_markersize(5.0)\n",
    "\n",
    "# set the color of the trend line using set_markerfacecolor()\n",
    "# set color of the trend line to red by passing 'r' to the set_markerfacecolor\n",
    "ax.get_lines()[0].set_markerfacecolor('r')\n",
    "\n",
    "# set the trend line width\n",
    "ax.get_lines()[1].set_linewidth(4.0)\n",
    "\n",
    "# display the plot\n",
    "plt.show()"
   ]
  },
  {
   "cell_type": "markdown",
   "metadata": {},
   "source": [
    "<table align=\"left\">\n",
    "    <tr>\n",
    "        <td width=\"8%\">\n",
    "            <img src=\"solution.png\">\n",
    "        </td>\n",
    "        <td>\n",
    "            <div align=\"left\", style=\"font-size:120%\">\n",
    "                <font color=\"#21618C\">\n",
    "                    <b> Using this plot, we can infer that the residuals do not come from a normal distribution. This is possible since our target variable is not normally distributed.\n",
    "</b>\n",
    "                </font>\n",
    "            </div>\n",
    "        </td>\n",
    "    </tr>\n",
    "</table>"
   ]
  },
  {
   "cell_type": "markdown",
   "metadata": {},
   "source": [
    "**The mean of the residuals always equals zero (assuming that your line is actually the line of “best fit”)** "
   ]
  },
  {
   "cell_type": "code",
   "execution_count": 44,
   "metadata": {},
   "outputs": [
    {
     "data": {
      "text/plain": [
       "1.7695431962888325e-16"
      ]
     },
     "execution_count": 44,
     "metadata": {},
     "output_type": "execute_result"
    }
   ],
   "source": [
    "# check the mean of the residual\n",
    "mlr_model_scaled.resid.mean()"
   ]
  },
  {
   "cell_type": "markdown",
   "metadata": {},
   "source": [
    "The mean of the residuals is very much closer to zero. Therefore, we can say that linearity is present."
   ]
  },
  {
   "cell_type": "markdown",
   "metadata": {},
   "source": [
    "**Perform Jarque Bera test to check normality of the residuals**"
   ]
  },
  {
   "cell_type": "code",
   "execution_count": 45,
   "metadata": {},
   "outputs": [
    {
     "name": "stdout",
     "output_type": "stream",
     "text": [
      "Statistics=113.109, p-value=0.000\n",
      "The data is not normally distributed (reject H0)\n"
     ]
    }
   ],
   "source": [
    "# normality test using 'jarque_bera'\n",
    "# the test returns the the test statistics and the p-value of the test\n",
    "stat, p = jarque_bera(mlr_model_scaled.resid)\n",
    "\n",
    "# to print the numeric outputs of the Jarque-Bera test upto 3 decimal places\n",
    "# %.3f: returns the a floating point with 3 decimal digit accuracy\n",
    "# the '%' holds the place where the number is to be printed\n",
    "print('Statistics=%.3f, p-value=%.3f' % (stat, p))\n",
    "\n",
    "# display the conclusion\n",
    "# set the level of significance to 0.05\n",
    "alpha = 0.05\n",
    "\n",
    "# if the p-value is greater than alpha print we accept alpha \n",
    "# if the p-value is less than alpha print we reject alpha\n",
    "if p > alpha:\n",
    "    print('The data is normally distributed (fail to reject H0)')\n",
    "else:\n",
    "    print('The data is not normally distributed (reject H0)')"
   ]
  },
  {
   "cell_type": "markdown",
   "metadata": {
    "collapsed": true
   },
   "source": [
    "<table align=\"left\">\n",
    "    <tr>\n",
    "        <td width=\"8%\">\n",
    "            <img src=\"solution.png\">\n",
    "        </td>\n",
    "        <td>\n",
    "            <div align=\"left\", style=\"font-size:120%\">\n",
    "                <font color=\"#21618C\">\n",
    "                    <b>It is apparent that the p-value is less than 0.05. So we have enough evidence to reject the null hypothesis. It can be concluded that the residuals is not normally distributed.<br><br>\n",
    "                    </b> </font>\n",
    "            </div>\n",
    "        </td>\n",
    "    </tr>\n",
    "</table>\n"
   ]
  },
  {
   "cell_type": "markdown",
   "metadata": {},
   "source": [
    "<a id='RemovingInsignificantVariable_scaleddata'></a>\n",
    "### 5.5 Linear Regression with significant Variable (OLS) "
   ]
  },
  {
   "cell_type": "markdown",
   "metadata": {},
   "source": [
    "<table align=\"left\">\n",
    "    <tr>\n",
    "        <td width=\"8%\">\n",
    "            <img src=\"read1.png\">\n",
    "        </td>\n",
    "        <td>\n",
    "            <div align=\"left\", style=\"font-size:120%\">\n",
    "                <font color=\"#21618C\">\n",
    "                    <b>To build the linear regression model using significant variable, we do the following: <br>\n",
    "                       1.find insignificant variables from pca model<br> \n",
    "                       2. Split the data into training and test sets<br>\n",
    "                       3. Consider only the significant variables<br>\n",
    "                       4. Build model using sm.OLS().fit()<br>\n",
    "                       </b>\n",
    "                </font>\n",
    "            </div>\n",
    "        </td>\n",
    "    </tr>\n",
    "</table>\n",
    "\n"
   ]
  },
  {
   "cell_type": "markdown",
   "metadata": {},
   "source": [
    "**1. Find insignifcant variables**"
   ]
  },
  {
   "cell_type": "code",
   "execution_count": 46,
   "metadata": {},
   "outputs": [
    {
     "data": {
      "text/html": [
       "<div>\n",
       "<style scoped>\n",
       "    .dataframe tbody tr th:only-of-type {\n",
       "        vertical-align: middle;\n",
       "    }\n",
       "\n",
       "    .dataframe tbody tr th {\n",
       "        vertical-align: top;\n",
       "    }\n",
       "\n",
       "    .dataframe thead th {\n",
       "        text-align: right;\n",
       "    }\n",
       "</style>\n",
       "<table border=\"1\" class=\"dataframe\">\n",
       "  <thead>\n",
       "    <tr style=\"text-align: right;\">\n",
       "      <th></th>\n",
       "      <th>P-Value</th>\n",
       "    </tr>\n",
       "  </thead>\n",
       "  <tbody>\n",
       "    <tr>\n",
       "      <th>const</th>\n",
       "      <td>0.000000</td>\n",
       "    </tr>\n",
       "    <tr>\n",
       "      <th>GRE Score</th>\n",
       "      <td>0.022795</td>\n",
       "    </tr>\n",
       "    <tr>\n",
       "      <th>TOEFL Score</th>\n",
       "      <td>0.124941</td>\n",
       "    </tr>\n",
       "    <tr>\n",
       "      <th>University Rating</th>\n",
       "      <td>0.614448</td>\n",
       "    </tr>\n",
       "    <tr>\n",
       "      <th>SOP</th>\n",
       "      <td>0.847234</td>\n",
       "    </tr>\n",
       "    <tr>\n",
       "      <th>LOR</th>\n",
       "      <td>0.002470</td>\n",
       "    </tr>\n",
       "    <tr>\n",
       "      <th>CGPA</th>\n",
       "      <td>0.000000</td>\n",
       "    </tr>\n",
       "    <tr>\n",
       "      <th>Research_yes</th>\n",
       "      <td>0.011909</td>\n",
       "    </tr>\n",
       "  </tbody>\n",
       "</table>\n",
       "</div>"
      ],
      "text/plain": [
       "                   P-Value\n",
       "const             0.000000\n",
       "GRE Score         0.022795\n",
       "TOEFL Score       0.124941\n",
       "University Rating 0.614448\n",
       "SOP               0.847234\n",
       "LOR               0.002470\n",
       "CGPA              0.000000\n",
       "Research_yes      0.011909"
      ]
     },
     "execution_count": 46,
     "metadata": {},
     "output_type": "execute_result"
    }
   ],
   "source": [
    "\n"
   ]
  },
  {
   "cell_type": "code",
   "execution_count": 47,
   "metadata": {},
   "outputs": [
    {
     "data": {
      "text/plain": [
       "['TOEFL Score', 'University Rating', 'SOP']"
      ]
     },
     "execution_count": 47,
     "metadata": {},
     "output_type": "execute_result"
    }
   ],
   "source": [
    "# select insignificant variables\n",
    "insignificant_variables = mlr_model_scaled_pvalues[mlr_model_scaled_pvalues[\"P-Value\"]  > 0.05]\n",
    "\n",
    "# get the position of a specified value\n",
    "insigni_var = insignificant_variables.index\n",
    "\n",
    "# convert the list of variables to 'list' type\n",
    "insigni_var = insigni_var.to_list()\n",
    "\n",
    "# get the list of insignificant variables\n",
    "insigni_var"
   ]
  },
  {
   "cell_type": "markdown",
   "metadata": {},
   "source": [
    "**2. Split the data into training and test sets**"
   ]
  },
  {
   "cell_type": "code",
   "execution_count": 48,
   "metadata": {},
   "outputs": [
    {
     "name": "stdout",
     "output_type": "stream",
     "text": [
      "The shape of X_train_scaled is: (297, 8)\n",
      "The shape of X_test_scaled is: (99, 8)\n",
      "The shape of y_train_scaled is: (297, 1)\n",
      "The shape of y_test_scaled is: (99, 1)\n"
     ]
    }
   ],
   "source": [
    "# separate the independent and dependent variables\n",
    "# drop(): specify the variables to be dropped\n",
    "# axis=1: specifies that the columns are to be dropped\n",
    "\n",
    "# split data into train subset and test subset for predictor and target variables\n",
    "# random_state: the seed used by the random number generator\n",
    "X_train2, X_test2, y_train2, y_test2 = train_test_split(X, y, random_state=1)\n",
    "\n",
    "# check the dimensions of the train & test subset for \n",
    "\n",
    "# print dimension of predictors train set\n",
    "print(\"The shape of X_train_scaled is:\",X_train2.shape)\n",
    "\n",
    "# print dimension of predictors test set\n",
    "print(\"The shape of X_test_scaled is:\",X_test2.shape)\n",
    "\n",
    "# print dimension of target train set\n",
    "print(\"The shape of y_train_scaled is:\",y_train2.shape)\n",
    "\n",
    "# print dimension of target test set\n",
    "print(\"The shape of y_test_scaled is:\",y_test2.shape)"
   ]
  },
  {
   "cell_type": "markdown",
   "metadata": {},
   "source": [
    "**3. Consider only the significant variables**"
   ]
  },
  {
   "cell_type": "code",
   "execution_count": 49,
   "metadata": {},
   "outputs": [],
   "source": [
    "# consider the significant variable in the training set\n",
    "# drop(): specify the variables to be dropped\n",
    "# axis=1: specifies that the columns are to be dropped\n",
    "X_train2_significant = X_train2.drop(insigni_var, axis=1)\n",
    "\n",
    "# consider the significant variable in the training set\n",
    "# drop(): specify the variables to be dropped\n",
    "# axis=1: specifies that the columns are to be dropped\n",
    "X_test2_significant = X_test2.drop(insigni_var, axis=1)"
   ]
  },
  {
   "cell_type": "markdown",
   "metadata": {},
   "source": [
    "**4. Build model using sm.OLS().fit()**"
   ]
  },
  {
   "cell_type": "code",
   "execution_count": 50,
   "metadata": {
    "scrolled": false
   },
   "outputs": [
    {
     "name": "stdout",
     "output_type": "stream",
     "text": [
      "                            OLS Regression Results                            \n",
      "==============================================================================\n",
      "Dep. Variable:        Chance of Admit   R-squared:                       0.791\n",
      "Model:                            OLS   Adj. R-squared:                  0.788\n",
      "Method:                 Least Squares   F-statistic:                     276.3\n",
      "Date:                Sun, 16 May 2021   Prob (F-statistic):           6.48e-98\n",
      "Time:                        19:49:59   Log-Likelihood:                 403.92\n",
      "No. Observations:                 297   AIC:                            -797.8\n",
      "Df Residuals:                     292   BIC:                            -779.4\n",
      "Df Model:                           4                                         \n",
      "Covariance Type:            nonrobust                                         \n",
      "================================================================================\n",
      "                   coef    std err          t      P>|t|      [0.025      0.975]\n",
      "--------------------------------------------------------------------------------\n",
      "const            0.4187      0.010     40.478      0.000       0.398       0.439\n",
      "GRE Score        0.1086      0.029      3.710      0.000       0.051       0.166\n",
      "LOR              0.0761      0.019      4.104      0.000       0.040       0.113\n",
      "CGPA             0.3758      0.034     10.995      0.000       0.309       0.443\n",
      "Research_yes     0.0237      0.009      2.709      0.007       0.006       0.041\n",
      "==============================================================================\n",
      "Omnibus:                       61.453   Durbin-Watson:                   1.766\n",
      "Prob(Omnibus):                  0.000   Jarque-Bera (JB):              126.654\n",
      "Skew:                          -1.052   Prob(JB):                     3.14e-28\n",
      "Kurtosis:                       5.410   Cond. No.                         17.6\n",
      "==============================================================================\n",
      "\n",
      "Notes:\n",
      "[1] Standard Errors assume that the covariance matrix of the errors is correctly specified.\n"
     ]
    }
   ],
   "source": [
    "# ordinary least squares regression\n",
    "# build a full model with significant scaled variables using OLS()\n",
    "linreg_model_with_significant_scaled_vars = sm.OLS(y_train2,X_train2_significant).fit()\n",
    "\n",
    "# to print the summary output\n",
    "print(linreg_model_with_significant_scaled_vars.summary())"
   ]
  },
  {
   "cell_type": "markdown",
   "metadata": {},
   "source": [
    "<table align=\"left\">\n",
    "    <tr>\n",
    "        <td width=\"8%\">\n",
    "            <img src=\"solution.png\">\n",
    "        </td>\n",
    "        <td>\n",
    "            <div align=\"left\", style=\"font-size:120%\">\n",
    "                <font color=\"#21618C\">\n",
    "                    <b>This model explains 79.1% of the variation in dependent variable chance of admit.The Durbin-Watson test statistics is  1.766 and indicates that the is no autocorrelation. The Condition Number is 17.6 suggests that there is no collinearity\n",
    "</b>\n",
    "                </font>\n",
    "            </div>\n",
    "        </td>\n",
    "    </tr>\n",
    "</table>\n"
   ]
  },
  {
   "cell_type": "markdown",
   "metadata": {},
   "source": [
    "<a id='Interaction'></a>\n",
    "### 5.6 Linear Regression using backward elimination\n"
   ]
  },
  {
   "cell_type": "markdown",
   "metadata": {},
   "source": [
    "<table align=\"left\">\n",
    "    <tr>\n",
    "        <td width=\"8%\">\n",
    "            <img src=\"read1.png\">\n",
    "        </td>\n",
    "        <td>\n",
    "            <div align=\"left\", style=\"font-size:120%\">\n",
    "                <font color=\"#21618C\">\n",
    "                    <b>In order to build the model, we do the following: <br>\n",
    "                       1. Find out most significant variables using backward elimination<br>\n",
    "                       2. Split the data into training and test sets<br>\n",
    "                       3. Build model using sm.OLS().fit()<br>\n",
    "</b>\n",
    "                </font>\n",
    "            </div>\n",
    "        </td>\n",
    "    </tr>\n",
    "</table>\n"
   ]
  },
  {
   "cell_type": "markdown",
   "metadata": {},
   "source": [
    "**1. Find out most significant variables using backward elimination**"
   ]
  },
  {
   "cell_type": "code",
   "execution_count": 51,
   "metadata": {},
   "outputs": [
    {
     "data": {
      "text/plain": [
       "('const', 'TOEFL Score', 'LOR ', 'CGPA', 'Research_yes')"
      ]
     },
     "execution_count": 51,
     "metadata": {},
     "output_type": "execute_result"
    }
   ],
   "source": [
    "from mlxtend.feature_selection import SequentialFeatureSelector as sfs\n",
    "from sklearn.linear_model import LinearRegression\n",
    "lr=LinearRegression()\n",
    "lr_b=sfs(estimator=lr,k_features='best',forward=False,verbose=0,scoring='r2')\n",
    "sfs_backforward=lr_b.fit(X,y)\n",
    "sfs_backforward.k_feature_names_"
   ]
  },
  {
   "cell_type": "code",
   "execution_count": 52,
   "metadata": {},
   "outputs": [
    {
     "data": {
      "text/plain": [
       "0.7819981528813081"
      ]
     },
     "execution_count": 52,
     "metadata": {},
     "output_type": "execute_result"
    }
   ],
   "source": [
    "sfs_backforward.k_score_"
   ]
  },
  {
   "cell_type": "markdown",
   "metadata": {},
   "source": [
    "**2. Split the data into training and test sets**"
   ]
  },
  {
   "cell_type": "code",
   "execution_count": 53,
   "metadata": {
    "scrolled": true
   },
   "outputs": [
    {
     "name": "stdout",
     "output_type": "stream",
     "text": [
      "The shape of X_train is: (297, 5)\n",
      "The shape of X_test is: (99, 5)\n",
      "The shape of y_train is: (297, 1)\n",
      "The shape of y_test is: (99, 1)\n"
     ]
    }
   ],
   "source": [
    "new_x=X[['const', 'TOEFL Score', 'LOR ', 'CGPA', 'Research_yes']]\n",
    "\n",
    "# split data into train subset and test subset for predictor and target variables\n",
    "# random_state: the seed used by the random number generator\n",
    "X_train3, X_test3, y_train3, y_test3 = train_test_split(new_x, y, random_state=1)\n",
    "\n",
    "# check the dimensions of the train & test subset for \n",
    "\n",
    "# print dimension of predictors train set\n",
    "print(\"The shape of X_train is:\",X_train3.shape)\n",
    "\n",
    "# print dimension of predictors test set\n",
    "print(\"The shape of X_test is:\",X_test3.shape)\n",
    "\n",
    "# print dimension of target train set\n",
    "print(\"The shape of y_train is:\",y_train3.shape)\n",
    "\n",
    "# print dimension of target test set\n",
    "print(\"The shape of y_test is:\",y_test3.shape)"
   ]
  },
  {
   "cell_type": "markdown",
   "metadata": {},
   "source": [
    "**3. Build model using sm.OLS().fit()**"
   ]
  },
  {
   "cell_type": "code",
   "execution_count": 54,
   "metadata": {
    "scrolled": false
   },
   "outputs": [
    {
     "name": "stdout",
     "output_type": "stream",
     "text": [
      "                            OLS Regression Results                            \n",
      "==============================================================================\n",
      "Dep. Variable:        Chance of Admit   R-squared:                       0.790\n",
      "Model:                            OLS   Adj. R-squared:                  0.787\n",
      "Method:                 Least Squares   F-statistic:                     274.6\n",
      "Date:                Sun, 16 May 2021   Prob (F-statistic):           1.32e-97\n",
      "Time:                        19:50:01   Log-Likelihood:                 403.20\n",
      "No. Observations:                 297   AIC:                            -796.4\n",
      "Df Residuals:                     292   BIC:                            -777.9\n",
      "Df Model:                           4                                         \n",
      "Covariance Type:            nonrobust                                         \n",
      "================================================================================\n",
      "                   coef    std err          t      P>|t|      [0.025      0.975]\n",
      "--------------------------------------------------------------------------------\n",
      "const            0.4133      0.011     38.055      0.000       0.392       0.435\n",
      "TOEFL Score      0.1074      0.031      3.504      0.001       0.047       0.168\n",
      "LOR              0.0731      0.019      3.930      0.000       0.036       0.110\n",
      "CGPA             0.3806      0.034     11.114      0.000       0.313       0.448\n",
      "Research_yes     0.0305      0.008      3.589      0.000       0.014       0.047\n",
      "==============================================================================\n",
      "Omnibus:                       57.557   Durbin-Watson:                   1.777\n",
      "Prob(Omnibus):                  0.000   Jarque-Bera (JB):              105.234\n",
      "Skew:                          -1.044   Prob(JB):                     1.41e-23\n",
      "Kurtosis:                       5.036   Cond. No.                         17.9\n",
      "==============================================================================\n",
      "\n",
      "Notes:\n",
      "[1] Standard Errors assume that the covariance matrix of the errors is correctly specified.\n"
     ]
    }
   ],
   "source": [
    "# ordinary least squares regression\n",
    "# build a full model with significant scaled variables using OLS()\n",
    "linreg_model_backforward = sm.OLS(y_train3,X_train3).fit()\n",
    "\n",
    "# to print the summary output\n",
    "print(linreg_model_backforward.summary())"
   ]
  },
  {
   "cell_type": "markdown",
   "metadata": {},
   "source": [
    "<table align=\"left\">\n",
    "    <tr>\n",
    "        <td width=\"8%\">\n",
    "            <img src=\"solution.png\">\n",
    "        </td>\n",
    "        <td>\n",
    "            <div align=\"left\", style=\"font-size:120%\">\n",
    "                <font color=\"#21618C\">\n",
    "                    <b>This model explains 79% of the variation in dependent variable chance of admit.The Durbin-Watson test statistics is 1.777 and indicates that the is no autocorrelation. The Condition Number is 17.9 suggests that there is no collinearity.\n",
    "</b>\n",
    "                </font>\n",
    "            </div>\n",
    "        </td>\n",
    "    </tr>\n",
    "</table>\n"
   ]
  },
  {
   "cell_type": "markdown",
   "metadata": {},
   "source": [
    "<a id='model_perf'></a>\n",
    "## 6. Model Performance"
   ]
  },
  {
   "cell_type": "markdown",
   "metadata": {},
   "source": [
    "<table align=\"left\">\n",
    "    <tr>\n",
    "        <td width=\"8%\">\n",
    "            <img src=\"read1.png\">\n",
    "        </td>\n",
    "        <td>\n",
    "            <div align=\"left\", style=\"font-size:120%\">\n",
    "                <font color=\"#21618C\">\n",
    "                    <b>In order to check the model performance, we do the following: <br>\n",
    "                       1. Create a generalized function to calculate the RMSE for train and test set.<br>\n",
    "                       2. Create a generalized function to calculate the R-Squared and Adjusted R- Squared<br>\n",
    "                       3. Create a generalized function to create a dataframe containing the scores from all the models<br>\n",
    "                      \n",
    "</b>\n",
    "                </font>\n",
    "            </div>\n",
    "        </td>\n",
    "    </tr>\n",
    "</table>"
   ]
  },
  {
   "cell_type": "markdown",
   "metadata": {},
   "source": [
    "**1. Create a generalized function to calculate the RMSE for train and test set.**"
   ]
  },
  {
   "cell_type": "code",
   "execution_count": 55,
   "metadata": {},
   "outputs": [],
   "source": [
    "# create a generalized function to calculate the RMSE values for train set\n",
    "def get_train_rmse(model,X_train,y_train):\n",
    "    \n",
    "    # For training set:\n",
    "    # train_pred: prediction made by the model on the training dataset 'X_train'\n",
    "    # y_train: actual values ofthe target variable for the train dataset\n",
    "\n",
    "    # predict the output of the target variable from the train data \n",
    "    train_pred = model.predict(X_train)\n",
    "\n",
    "    # calculate the MSE using the \"mean_squared_error\" function\n",
    "\n",
    "    # MSE for the train data\n",
    "    mse_train = mean_squared_error(y_train, train_pred)\n",
    "\n",
    "    # take the square root of the MSE to calculate the RMSE\n",
    "    # round the value upto 4 digits using 'round()'\n",
    "    rmse_train = round(np.sqrt(mse_train), 4)\n",
    "    \n",
    "    # return the training RMSE\n",
    "    return(rmse_train)"
   ]
  },
  {
   "cell_type": "code",
   "execution_count": 56,
   "metadata": {},
   "outputs": [],
   "source": [
    "# create a generalized function to calculate the RMSE values test set\n",
    "def get_test_rmse(model,X_test,y_test):\n",
    "    \n",
    "    # For testing set:\n",
    "    # test_pred: prediction made by the model on the test dataset 'X_test'\n",
    "    # y_test: actual values of the target variable for the test dataset\n",
    "\n",
    "    # predict the output of the target variable from the test data\n",
    "    test_pred = model.predict(X_test)\n",
    "\n",
    "    # MSE for the test data\n",
    "    mse_test = mean_squared_error(y_test, test_pred)\n",
    "\n",
    "    # take the square root of the MSE to calculate the RMSE\n",
    "    # round the value upto 4 digits using 'round()'\n",
    "    rmse_test = round(np.sqrt(mse_test), 4)\n",
    "\n",
    "    # return the test RMSE\n",
    "    return(rmse_test)"
   ]
  },
  {
   "cell_type": "markdown",
   "metadata": {},
   "source": [
    "**2.Create a generalized function to calculate the R-Squared and Adjusted R- Squared**"
   ]
  },
  {
   "cell_type": "code",
   "execution_count": 57,
   "metadata": {},
   "outputs": [],
   "source": [
    "# define a function to get R-squared and adjusted R-squared value\n",
    "def get_score(model,X_train,y_train):\n",
    "    \n",
    "    # score() returns the R-squared value\n",
    "    r_sq = model.rsquared\n",
    "    \n",
    "    # calculate adjusted R-squared value\n",
    "    # 'n' denotes number of observations in train set\n",
    "    # 'shape[0]' returns number of rows \n",
    "    n = X_train.shape[0]\n",
    "    \n",
    "    # 'k' denotes number of variables in train set\n",
    "    # 'shape[1]' returns number of columns\n",
    "    k = X_train.shape[1]\n",
    "    \n",
    "    # calculate adjusted R-squared using the formula\n",
    "    r_sq_adj = 1 - ((1-r_sq)*(n-1)/(n-k-1))\n",
    "    \n",
    "    # return the R-squared and adjusted R-squared value \n",
    "    return ([r_sq, r_sq_adj])"
   ]
  },
  {
   "cell_type": "markdown",
   "metadata": {},
   "source": [
    "**3. Create a generalized function to create a dataframe containing the scores from all the models**"
   ]
  },
  {
   "cell_type": "code",
   "execution_count": 58,
   "metadata": {},
   "outputs": [],
   "source": [
    "# create an empty dataframe to store the scores for various algorithms\n",
    "score_card = pd.DataFrame(columns=['Model_Name', 'Alpha (Wherever Required)', 'l1-ratio', 'R-Squared',\n",
    "                                       'Adj. R-Squared', 'Train_RMSE','Test_RMSE'])\n",
    "\n",
    "# create a function to update the score card for comparision of the scores from different algorithms\n",
    "# pass the model name, model build, alpha and l1_ration as input parameters\n",
    "# if 'alpha' and/or 'l1_ratio' is not specified, the function assigns '-'\n",
    "def update_score_card(algorithm_name, model,xtrain,xtest,ytrain,ytest, alpha = '-', l1_ratio = '-'):\n",
    "    \n",
    "    # assign 'score_card' as global variable\n",
    "    global score_card\n",
    "\n",
    "    # append the results to the dataframe 'score_card'\n",
    "    # 'ignore_index = True' do not consider the index labels\n",
    "    score_card = score_card.append({'Model_Name': algorithm_name,\n",
    "                       'Alpha (Wherever Required)': alpha, \n",
    "                       'l1-ratio': l1_ratio,\n",
    "                       'Train_RMSE':get_train_rmse(model,xtrain,ytrain), \n",
    "                       'Test_RMSE': get_test_rmse(model,xtest,ytest), \n",
    "                       'R-Squared': get_score(model,xtrain,ytrain)[0], \n",
    "                       'Adj. R-Squared': get_score(model,xtrain,ytrain)[1]}, ignore_index = True)"
   ]
  },
  {
   "cell_type": "code",
   "execution_count": 91,
   "metadata": {},
   "outputs": [],
   "source": [
    "def update_score_card1(algorithm_name, model,xtrain,xtest,ytrain,ytest, alpha = '-', l1_ratio = '-'):\n",
    "    \n",
    "    # assign 'score_card' as global variable\n",
    "    global score_card\n",
    "    linreg_with_SGD_predictions=linreg_with_SGD.predict(xtest)\n",
    "    linreg_SGD_r_squared=r2_score(ytest, linreg_with_SGD_predictions)\n",
    "    # append the results to the dataframe 'score_card'\n",
    "    # 'ignore_index = True' do not consider the index labels\n",
    "    score_card = score_card.append({'Model_Name': algorithm_name,\n",
    "                       'Alpha (Wherever Required)': alpha, \n",
    "                       'l1-ratio': l1_ratio,\n",
    "                       'Test_RMSE': get_test_rmse(model,xtest,ytest), \n",
    "                       'Train_RMSE':get_train_rmse(model,xtrain,ytrain), \n",
    "                       'R-Squared': r2_score(ytest, linreg_with_SGD_predictions), \n",
    "                       'Adj. R-Squared': 1 - (1-linreg_SGD_r_squared)*(len(ytest)-1)/(len(ytest)- xtest.shape[1]-1)}, ignore_index = True)"
   ]
  },
  {
   "cell_type": "code",
   "execution_count": 60,
   "metadata": {},
   "outputs": [
    {
     "name": "stdout",
     "output_type": "stream",
     "text": [
      "Linear Regression model using Feature Scaling \n",
      "RMSE on train set:  0.0645\n",
      "RMSE on test set:  0.0569\n",
      "Difference between RMSE on train and test set:  0.007600000000000003\n"
     ]
    }
   ],
   "source": [
    "print('Linear Regression model using Feature Scaling ')\n",
    "# print training RMSE\n",
    "print('RMSE on train set: ', get_train_rmse(mlr_model_scaled,X_train1,y_train1))\n",
    "\n",
    "# print training RMSE\n",
    "print('RMSE on test set: ', get_test_rmse(mlr_model_scaled,X_test1,y_test1))\n",
    "\n",
    "# calculate the difference between train and test set RMSE\n",
    "difference = abs(get_test_rmse(mlr_model_scaled,X_train1,y_train1) - get_train_rmse(mlr_model_scaled,X_test1,y_test1))\n",
    "\n",
    "# print the difference between train and test set RMSE\n",
    "print('Difference between RMSE on train and test set: ', difference)"
   ]
  },
  {
   "cell_type": "code",
   "execution_count": 61,
   "metadata": {},
   "outputs": [
    {
     "data": {
      "text/html": [
       "<div>\n",
       "<style scoped>\n",
       "    .dataframe tbody tr th:only-of-type {\n",
       "        vertical-align: middle;\n",
       "    }\n",
       "\n",
       "    .dataframe tbody tr th {\n",
       "        vertical-align: top;\n",
       "    }\n",
       "\n",
       "    .dataframe thead th {\n",
       "        text-align: right;\n",
       "    }\n",
       "</style>\n",
       "<table border=\"1\" class=\"dataframe\">\n",
       "  <thead>\n",
       "    <tr style=\"text-align: right;\">\n",
       "      <th></th>\n",
       "      <th>Model_Name</th>\n",
       "      <th>Alpha (Wherever Required)</th>\n",
       "      <th>l1-ratio</th>\n",
       "      <th>R-Squared</th>\n",
       "      <th>Adj. R-Squared</th>\n",
       "      <th>Train_RMSE</th>\n",
       "      <th>Test_RMSE</th>\n",
       "    </tr>\n",
       "  </thead>\n",
       "  <tbody>\n",
       "    <tr>\n",
       "      <th>0</th>\n",
       "      <td>Linear Regression using Feature Scaling</td>\n",
       "      <td>-</td>\n",
       "      <td>-</td>\n",
       "      <td>0.784622</td>\n",
       "      <td>0.778193</td>\n",
       "      <td>0.064500</td>\n",
       "      <td>0.056900</td>\n",
       "    </tr>\n",
       "  </tbody>\n",
       "</table>\n",
       "</div>"
      ],
      "text/plain": [
       "                                Model_Name Alpha (Wherever Required) l1-ratio  \\\n",
       "0  Linear Regression using Feature Scaling                         -        -   \n",
       "\n",
       "   R-Squared  Adj. R-Squared  Train_RMSE  Test_RMSE  \n",
       "0   0.784622        0.778193    0.064500   0.056900  "
      ]
     },
     "execution_count": 61,
     "metadata": {},
     "output_type": "execute_result"
    }
   ],
   "source": [
    "# update the dataframe 'score_card'\n",
    "update_score_card('Linear Regression using Feature Scaling',mlr_model_scaled,X_train1,X_test1,y_train1,y_test1)\n",
    "\n",
    "# print the dataframe\n",
    "score_card"
   ]
  },
  {
   "cell_type": "code",
   "execution_count": 62,
   "metadata": {},
   "outputs": [
    {
     "name": "stdout",
     "output_type": "stream",
     "text": [
      "Linear Regression model with significant variables\n",
      "RMSE on train set:  0.0621\n",
      "RMSE on test set:  0.0645\n",
      "Difference between RMSE on train and test set:  0.0023999999999999994\n"
     ]
    }
   ],
   "source": [
    "print('Linear Regression model with significant variables')\n",
    "# print training RMSE\n",
    "print('RMSE on train set: ', get_train_rmse(linreg_model_with_significant_scaled_vars,X_train2_significant,y_train2))\n",
    "\n",
    "# print training RMSE\n",
    "print('RMSE on test set: ', get_test_rmse(linreg_model_with_significant_scaled_vars,X_test2_significant,y_test2))\n",
    "\n",
    "# calculate the difference between train and test set RMSE\n",
    "difference = abs(get_test_rmse(linreg_model_with_significant_scaled_vars,X_train2_significant,y_train2) - get_train_rmse(linreg_model_with_significant_scaled_vars,X_test2_significant,y_test2))\n",
    "\n",
    "# print the difference between train and test set RMSE\n",
    "print('Difference between RMSE on train and test set: ', difference)"
   ]
  },
  {
   "cell_type": "code",
   "execution_count": 63,
   "metadata": {},
   "outputs": [
    {
     "data": {
      "text/html": [
       "<div>\n",
       "<style scoped>\n",
       "    .dataframe tbody tr th:only-of-type {\n",
       "        vertical-align: middle;\n",
       "    }\n",
       "\n",
       "    .dataframe tbody tr th {\n",
       "        vertical-align: top;\n",
       "    }\n",
       "\n",
       "    .dataframe thead th {\n",
       "        text-align: right;\n",
       "    }\n",
       "</style>\n",
       "<table border=\"1\" class=\"dataframe\">\n",
       "  <thead>\n",
       "    <tr style=\"text-align: right;\">\n",
       "      <th></th>\n",
       "      <th>Model_Name</th>\n",
       "      <th>Alpha (Wherever Required)</th>\n",
       "      <th>l1-ratio</th>\n",
       "      <th>R-Squared</th>\n",
       "      <th>Adj. R-Squared</th>\n",
       "      <th>Train_RMSE</th>\n",
       "      <th>Test_RMSE</th>\n",
       "    </tr>\n",
       "  </thead>\n",
       "  <tbody>\n",
       "    <tr>\n",
       "      <th>0</th>\n",
       "      <td>Linear Regression using Feature Scaling</td>\n",
       "      <td>-</td>\n",
       "      <td>-</td>\n",
       "      <td>0.784622</td>\n",
       "      <td>0.778193</td>\n",
       "      <td>0.064500</td>\n",
       "      <td>0.056900</td>\n",
       "    </tr>\n",
       "    <tr>\n",
       "      <th>1</th>\n",
       "      <td>Linear Regression with significant variables</td>\n",
       "      <td>-</td>\n",
       "      <td>-</td>\n",
       "      <td>0.790988</td>\n",
       "      <td>0.787397</td>\n",
       "      <td>0.062100</td>\n",
       "      <td>0.064500</td>\n",
       "    </tr>\n",
       "  </tbody>\n",
       "</table>\n",
       "</div>"
      ],
      "text/plain": [
       "                                     Model_Name Alpha (Wherever Required)  \\\n",
       "0       Linear Regression using Feature Scaling                         -   \n",
       "1  Linear Regression with significant variables                         -   \n",
       "\n",
       "  l1-ratio  R-Squared  Adj. R-Squared  Train_RMSE  Test_RMSE  \n",
       "0        -   0.784622        0.778193    0.064500   0.056900  \n",
       "1        -   0.790988        0.787397    0.062100   0.064500  "
      ]
     },
     "execution_count": 63,
     "metadata": {},
     "output_type": "execute_result"
    }
   ],
   "source": [
    "# update the dataframe 'score_card'\n",
    "update_score_card('Linear Regression with significant variables',linreg_model_with_significant_scaled_vars,X_train2_significant,X_test2_significant,y_train2,y_test2)\n",
    "\n",
    "# print the dataframe\n",
    "score_card"
   ]
  },
  {
   "cell_type": "code",
   "execution_count": 64,
   "metadata": {},
   "outputs": [
    {
     "name": "stdout",
     "output_type": "stream",
     "text": [
      "Linear Regression model using backward elimination\n",
      "RMSE on train set:  0.0623\n",
      "RMSE on test set:  0.0643\n",
      "Difference between RMSE on train and test set:  0.001999999999999995\n"
     ]
    }
   ],
   "source": [
    "print('Linear Regression model using backward elimination')\n",
    "# print training RMSE\n",
    "print('RMSE on train set: ', get_train_rmse(linreg_model_backforward,X_train3,y_train3))\n",
    "\n",
    "# print training RMSE\n",
    "print('RMSE on test set: ', get_test_rmse(linreg_model_backforward,X_test3,y_test3))\n",
    "\n",
    "# calculate the difference between train and test set RMSE\n",
    "difference = abs(get_test_rmse(linreg_model_backforward,X_train3,y_train3) - get_train_rmse(linreg_model_backforward,X_test3,y_test3))\n",
    "\n",
    "# print the difference between train and test set RMSE\n",
    "print('Difference between RMSE on train and test set: ', difference)"
   ]
  },
  {
   "cell_type": "code",
   "execution_count": 65,
   "metadata": {},
   "outputs": [
    {
     "data": {
      "text/html": [
       "<div>\n",
       "<style scoped>\n",
       "    .dataframe tbody tr th:only-of-type {\n",
       "        vertical-align: middle;\n",
       "    }\n",
       "\n",
       "    .dataframe tbody tr th {\n",
       "        vertical-align: top;\n",
       "    }\n",
       "\n",
       "    .dataframe thead th {\n",
       "        text-align: right;\n",
       "    }\n",
       "</style>\n",
       "<table border=\"1\" class=\"dataframe\">\n",
       "  <thead>\n",
       "    <tr style=\"text-align: right;\">\n",
       "      <th></th>\n",
       "      <th>Model_Name</th>\n",
       "      <th>Alpha (Wherever Required)</th>\n",
       "      <th>l1-ratio</th>\n",
       "      <th>R-Squared</th>\n",
       "      <th>Adj. R-Squared</th>\n",
       "      <th>Train_RMSE</th>\n",
       "      <th>Test_RMSE</th>\n",
       "    </tr>\n",
       "  </thead>\n",
       "  <tbody>\n",
       "    <tr>\n",
       "      <th>0</th>\n",
       "      <td>Linear Regression using Feature Scaling</td>\n",
       "      <td>-</td>\n",
       "      <td>-</td>\n",
       "      <td>0.784622</td>\n",
       "      <td>0.778193</td>\n",
       "      <td>0.064500</td>\n",
       "      <td>0.056900</td>\n",
       "    </tr>\n",
       "    <tr>\n",
       "      <th>1</th>\n",
       "      <td>Linear Regression with significant variables</td>\n",
       "      <td>-</td>\n",
       "      <td>-</td>\n",
       "      <td>0.790988</td>\n",
       "      <td>0.787397</td>\n",
       "      <td>0.062100</td>\n",
       "      <td>0.064500</td>\n",
       "    </tr>\n",
       "    <tr>\n",
       "      <th>2</th>\n",
       "      <td>Linear Regression using backward elimination</td>\n",
       "      <td>-</td>\n",
       "      <td>-</td>\n",
       "      <td>0.789969</td>\n",
       "      <td>0.786360</td>\n",
       "      <td>0.062300</td>\n",
       "      <td>0.064300</td>\n",
       "    </tr>\n",
       "  </tbody>\n",
       "</table>\n",
       "</div>"
      ],
      "text/plain": [
       "                                     Model_Name Alpha (Wherever Required)  \\\n",
       "0       Linear Regression using Feature Scaling                         -   \n",
       "1  Linear Regression with significant variables                         -   \n",
       "2  Linear Regression using backward elimination                         -   \n",
       "\n",
       "  l1-ratio  R-Squared  Adj. R-Squared  Train_RMSE  Test_RMSE  \n",
       "0        -   0.784622        0.778193    0.064500   0.056900  \n",
       "1        -   0.790988        0.787397    0.062100   0.064500  \n",
       "2        -   0.789969        0.786360    0.062300   0.064300  "
      ]
     },
     "execution_count": 65,
     "metadata": {},
     "output_type": "execute_result"
    }
   ],
   "source": [
    "# update the dataframe 'score_card'\n",
    "update_score_card('Linear Regression using backward elimination',linreg_model_backforward,X_train3,X_test3,y_train3,y_test3)\n",
    "\n",
    "# print the dataframe\n",
    "score_card"
   ]
  },
  {
   "cell_type": "markdown",
   "metadata": {},
   "source": [
    "<table align=\"left\">\n",
    "    <tr>\n",
    "        <td width=\"8%\">\n",
    "            <img src=\"solution.png\">\n",
    "        </td>\n",
    "        <td>\n",
    "            <div align=\"left\", style=\"font-size:120%\">\n",
    "                <font color=\"#21618C\">\n",
    "                    <b> Linear regression model using Feature Scaling is too simple.<br>\n",
    "                        Linear regression with significant variables and model using backward elimination are too complex.<br>\n",
    "                        But Linear regression model using backward elimination have less complexity compared to Linear regression model with significant variables. <br>\n",
    "                        \n",
    "</b>\n",
    "                </font>\n",
    "            </div>\n",
    "        </td>\n",
    "    </tr>\n",
    "</table>\n"
   ]
  },
  {
   "cell_type": "markdown",
   "metadata": {},
   "source": [
    "<a id='model_opt'></a>\n",
    "## 7. Model Optimization "
   ]
  },
  {
   "cell_type": "markdown",
   "metadata": {},
   "source": [
    "<a id='Model_val'></a>\n",
    "## 7.1 Model Validation(Cross Validation)\n"
   ]
  },
  {
   "cell_type": "markdown",
   "metadata": {},
   "source": [
    "<a id=\"kfold\"></a>\n",
    "### 7.1.1 K-Fold Cross Validation\n",
    "K-Fold cross validation is where a given dataset is divided into `K` folds where at some stage each fold is used as a test set."
   ]
  },
  {
   "cell_type": "code",
   "execution_count": 66,
   "metadata": {},
   "outputs": [],
   "source": [
    "# n_splits: specify the number of k folds\n",
    "kf = KFold(n_splits = 5)\n",
    "\n",
    "# create a function 'get_score' that returns the R-squared score for the training set\n",
    "# 'get_score' takes 5 input parameters\n",
    "def Get_score(model, X_train_k, X_test_k, y_train_k, y_test_k):\n",
    "    model.fit(X_train_k, y_train_k)                                   # fit the model\n",
    "    return model.score(X_test_k, y_test_k)                            # return the R-squared value"
   ]
  },
  {
   "cell_type": "code",
   "execution_count": 67,
   "metadata": {},
   "outputs": [],
   "source": [
    "# split data into train subset and test subset\n",
    "# set 'random_state' to generate the same dataset each time you run the code \n",
    "# 'test_size' returns the proportion of data to be included in the testing set\n",
    "X_train, X_test, y_train, y_test = train_test_split(X, y, random_state = 10, test_size = 0.3)"
   ]
  },
  {
   "cell_type": "code",
   "execution_count": 68,
   "metadata": {},
   "outputs": [
    {
     "name": "stdout",
     "output_type": "stream",
     "text": [
      "All scores:  [0.7918631884878431, 0.674328509106053, 0.7478345373369253, 0.8307043591369689, 0.7852802526744267]\n",
      "\n",
      "Minimum score obtained:  0.6743\n",
      "Maximum score obtained:  0.8307\n",
      "Average score obtained:  0.766\n"
     ]
    }
   ],
   "source": [
    "# create an empty list to store the scores\n",
    "scores = []\n",
    "\n",
    "# kf.split() splits the indices of X_train into train_index and test_index\n",
    "# further dividing the X_train and y_train sets into train and test sets for cross validation\n",
    "# Remember: Cross validation works on training set not on test set\n",
    "# use '\\' for stacking the code \n",
    "for train_index, test_index in kf.split(X_train):\n",
    "    X_train_k, X_test_k, y_train_k, y_test_k = X_train.iloc[train_index], X_train.iloc[test_index], y_train.iloc[train_index], y_train.iloc[test_index]\n",
    "   \n",
    "    # call the function 'get_scores()' and append the scores in the list 'scores'\n",
    "    scores.append(Get_score(LinearRegression(), X_train_k, X_test_k, y_train_k, y_test_k)) \n",
    "    \n",
    "# print all scores\n",
    "print('All scores: ', scores)\n",
    "\n",
    "# print the minimum score from the list\n",
    "# use 'round()' to round-off the minimum score upto 4 digits\n",
    "# min() returns minimum score \n",
    "print(\"\\nMinimum score obtained: \", round(min(scores), 4))\n",
    "\n",
    "# print the maximum score from the list\n",
    "# use 'round()' to round-off the maximum score upto 4 digits\n",
    "# max() returns maximum score \n",
    "print(\"Maximum score obtained: \", round(max(scores), 4))\n",
    "\n",
    "# print the average score from the list\n",
    "# use 'round()' to round-off the average score upto 4 digits\n",
    "# np.mean() returns average score \n",
    "print(\"Average score obtained: \", round(np.mean(scores), 4))"
   ]
  },
  {
   "cell_type": "markdown",
   "metadata": {},
   "source": [
    "### K-Fold Cross Validation using `cross_val_score()`"
   ]
  },
  {
   "cell_type": "markdown",
   "metadata": {},
   "source": [
    "`cross_val_score()` also does the stratified sampling internally if required"
   ]
  },
  {
   "cell_type": "code",
   "execution_count": 69,
   "metadata": {},
   "outputs": [],
   "source": [
    "# using cross_val_score() for k-fold cross validation\n",
    "# estimator: pass the machine learning function. Here we are performing linear regression\n",
    "# pass the X_train and y_train sets\n",
    "# cv: stands for number of folds. Similar to k in KFold\n",
    "# scoring: pass the scoring parameter e.g. 'r2' for r-squared, 'neg_mean_squared_error' for mean squared error (negative)\n",
    "scores = cross_val_score(estimator = LinearRegression(), \n",
    "                         X = X_train, \n",
    "                         y = y_train, \n",
    "                         cv = 5, \n",
    "                         scoring = 'r2')"
   ]
  },
  {
   "cell_type": "code",
   "execution_count": 70,
   "metadata": {},
   "outputs": [
    {
     "name": "stdout",
     "output_type": "stream",
     "text": [
      "All scores:  [0.79186319 0.67432851 0.74783454 0.83070436 0.78528025]\n",
      "\n",
      "Minimum score obtained:  0.6743\n",
      "Maximum score obtained:  0.8307\n",
      "Average score obtained:  0.766\n"
     ]
    }
   ],
   "source": [
    "# print all scores\n",
    "print('All scores: ', scores)\n",
    "\n",
    "# print the minimum score from the list\n",
    "# use 'round()' to round-off the minimum score upto 4 digits\n",
    "# min() returns minimum score \n",
    "print(\"\\nMinimum score obtained: \", round(min(scores), 4))\n",
    "\n",
    "# print the maximum score from the list\n",
    "# use 'round()' to round-off the maximum score upto 4 digits\n",
    "# max() returns maximum score \n",
    "print(\"Maximum score obtained: \", round(max(scores), 4))\n",
    "\n",
    "# print the average score from the list\n",
    "# use 'round()' to round-off the average score upto 4 digits\n",
    "# np.mean() returns average score \n",
    "print(\"Average score obtained: \", round(np.mean(scores), 4))"
   ]
  },
  {
   "cell_type": "markdown",
   "metadata": {},
   "source": [
    "<table align=\"left\">\n",
    "    <tr>\n",
    "        <td width=\"8%\">\n",
    "            <img src=\"solution.png\">\n",
    "        </td>\n",
    "        <td>\n",
    "            <div align=\"left\", style=\"font-size:120%\">\n",
    "                <font color=\"#21618C\">\n",
    "                    <b> Rsquare values for each fold are not that far away from each other so the model is able to generalize well<br>\n",
    "                        \n",
    "</b>\n",
    "                </font>\n",
    "            </div>\n",
    "        </td>\n",
    "    </tr>\n",
    "</table>\n"
   ]
  },
  {
   "cell_type": "markdown",
   "metadata": {},
   "source": [
    "<a id=\"loocv\"></a>\n",
    "### 7.1.2 Leave One Out Cross Validation (LOOCV)\n",
    "It is a process in which the model is trained on the training dataset, with the exception of only one data point, which is used to test the model. This method increases the variance, as only one data point is used for testing. LOOCV can be time consuming as k is equal to the number of observations.\n",
    "\n",
    "In LOOCV, the estimates from each fold are highly correlated and their average can have a high level of variance."
   ]
  },
  {
   "cell_type": "code",
   "execution_count": 71,
   "metadata": {},
   "outputs": [],
   "source": [
    "# split data into train subset and test subset\n",
    "# set 'random_state' to generate the same dataset each time you run the code \n",
    "# 'test_size' returns the proportion of data to be included in the testing set\n",
    "X_train, X_test, y_train, y_test = train_test_split(X, y, random_state = 10, test_size = 0.2)"
   ]
  },
  {
   "cell_type": "code",
   "execution_count": 72,
   "metadata": {},
   "outputs": [],
   "source": [
    "# creating a function 'get_score' that returns the R-squared score for the training set\n",
    "# 'get_score' takes 5 input parameters\n",
    "def Get_score(model, X_train_k, X_test_k, y_train_k, y_test_k):\n",
    "    model.fit(X_train_k, y_train_k)                               # fit the model\n",
    "    return model.score(X_test_k, y_test_k)                        # return the R-squared value"
   ]
  },
  {
   "cell_type": "code",
   "execution_count": 73,
   "metadata": {},
   "outputs": [],
   "source": [
    "# create an empty to store the MSE for each model\n",
    "loocv_rmse = []\n",
    "\n",
    "# instantiate the LOOCV method \n",
    "loocv = LeaveOneOut()\n",
    "\n",
    "# use the for loop to build the regression model for each cross validation \n",
    "# use split() to split the dataset into two subsets; one with (n-1) data points and another with 1 data point\n",
    "# where, n = total number of observations\n",
    "\n",
    "for train_index, test_index in loocv.split(X_train):\n",
    "    # create the train dataset, use iloc[] to retrieve the corresponding observations in train data\n",
    "    # create the test dataset, use iloc[] to retrieve the corresponding observations in test data\n",
    "    # # use '\\' for stacking the code \n",
    "    X_train_l, X_test_l, y_train_l, y_test_l = X_train.iloc[train_index], X_train.iloc[test_index], \\\n",
    "                                               y_train.iloc[train_index], y_train.iloc[test_index]\n",
    "    \n",
    "    # instantiate the regression model\n",
    "    linreg = LinearRegression()\n",
    "    \n",
    "    # fit the model on training dataset\n",
    "    linreg.fit(X_train_l, y_train_l)\n",
    "    \n",
    "    # calculate MSE using test dataset\n",
    "    # use predict() to predict the values of target variable\n",
    "    mse = mean_squared_error(y_test_l, linreg.predict(X_test_l))\n",
    "    \n",
    "    # calculate the RMSE\n",
    "    rmse = np.sqrt(mse)\n",
    "    \n",
    "    # use append() to add each RMSE to the list 'loocv_rmse'\n",
    "    loocv_rmse.append(rmse)"
   ]
  },
  {
   "cell_type": "code",
   "execution_count": 74,
   "metadata": {},
   "outputs": [
    {
     "name": "stdout",
     "output_type": "stream",
     "text": [
      "\n",
      "Minimum rmse obtained:  0.0001\n",
      "Maximum rmse obtained:  0.2718\n",
      "Average rmse obtained:  0.045\n"
     ]
    }
   ],
   "source": [
    "# print the minimum rmse from the list\n",
    "# use 'round()' to round-off the minimum rmse upto 4 digits\n",
    "# min() returns minimum rmse \n",
    "print(\"\\nMinimum rmse obtained: \", round(min(loocv_rmse), 4))\n",
    "\n",
    "# print the maximum rmse from the list\n",
    "# use 'round()' to round-off the maximum rmse upto 4 digits\n",
    "# max() returns maximum rmse \n",
    "print(\"Maximum rmse obtained: \", round(max(loocv_rmse), 4))\n",
    "\n",
    "# print the average rmse from the list\n",
    "# use 'round()' to round-off the average rmse upto 4 digits\n",
    "# np.mean() returns average rmse \n",
    "print(\"Average rmse obtained: \", round(np.mean(loocv_rmse), 4))"
   ]
  },
  {
   "cell_type": "markdown",
   "metadata": {},
   "source": [
    "<a id=\"sgd\"></a>\n",
    "### 7.2 Stochastic Gradient Descent - SGD"
   ]
  },
  {
   "cell_type": "markdown",
   "metadata": {},
   "source": [
    "The gradient descent method considers all the data points to calculate the values of the parameters at each step. For a very large dataset, this method becomes computationally expensive. To avoid this problem, we use Stochastic Gradient Descent (SGD) which considers a single data point (sample) to perform each iteration. Each sample is randomly selected for performing the iteration."
   ]
  },
  {
   "cell_type": "markdown",
   "metadata": {},
   "source": [
    "<table align=\"left\">\n",
    "    <tr>\n",
    "        <td width=\"8%\">\n",
    "            <img src=\"read1.png\">\n",
    "        </td>\n",
    "        <td>\n",
    "            <div align=\"left\", style=\"font-size:120%\">\n",
    "                <font color=\"#21618C\">\n",
    "                    <b> Now we perform Stochastic Gradient Descent. We start with our original data set gradually proceeding with our analysis<br><br>\n",
    "                        In order to perform Stochastic Gradient Descent, we do the following:<br>\n",
    "                        1. Fit the linear regression using the SGD <br>\n",
    "                        2. Create a generalized function to plot a barchart for the coefficients <br>\n",
    "                        3. Adding to Result table<br>\n",
    "</b>\n",
    "                </font>\n",
    "            </div>\n",
    "        </td>\n",
    "    </tr>\n",
    "</table>"
   ]
  },
  {
   "cell_type": "markdown",
   "metadata": {},
   "source": [
    "**1.Fit the linear regression using the SGD**"
   ]
  },
  {
   "cell_type": "code",
   "execution_count": 75,
   "metadata": {},
   "outputs": [
    {
     "name": "stdout",
     "output_type": "stream",
     "text": [
      "RMSE on train set: 0.0721\n",
      "RMSE on test set: 0.0703\n"
     ]
    }
   ],
   "source": [
    "# import SGDRegressor from sklearn to perform linear regression with stochastic gradient descent\n",
    "from sklearn.linear_model import SGDRegressor\n",
    "# instantiate the SGDRegressor\n",
    "# set 'random_state' to generate the same dataset each time you run the code \n",
    "sgd = SGDRegressor(random_state = 10)\n",
    "\n",
    "# build the model on train data \n",
    "# use fit() to fit the model\n",
    "linreg_with_SGD = sgd.fit(X_train3, y_train3)\n",
    "\n",
    "# print RMSE for train set\n",
    "# call the function 'get_train_rmse'\n",
    "print('RMSE on train set:', get_train_rmse(linreg_with_SGD,X_train3,y_train3))\n",
    "\n",
    "# print RMSE for test set\n",
    "# call the function 'get_test_rmse'\n",
    "print('RMSE on test set:', get_test_rmse(linreg_with_SGD,X_test3,y_test3))"
   ]
  },
  {
   "cell_type": "code",
   "execution_count": 76,
   "metadata": {},
   "outputs": [
    {
     "name": "stdout",
     "output_type": "stream",
     "text": [
      "Difference between RMSE on train and test set:  0.001799999999999996\n"
     ]
    }
   ],
   "source": [
    "# calculate the difference between train and test set RMSE\n",
    "difference = abs(get_test_rmse(linreg_with_SGD,X_train3,y_train3) - get_train_rmse(linreg_with_SGD,X_test3,y_test3))\n",
    "\n",
    "# print the difference between train and test set RMSE\n",
    "print('Difference between RMSE on train and test set: ', difference)"
   ]
  },
  {
   "cell_type": "markdown",
   "metadata": {},
   "source": [
    "**2. Create a generalized function to plot a barchart for the coefficients**"
   ]
  },
  {
   "cell_type": "code",
   "execution_count": 82,
   "metadata": {},
   "outputs": [],
   "source": [
    "# define a function to plot a barplot\n",
    "# pass the model \n",
    "def plot_coefficients(model, algorithm_name):\n",
    "    # create a dataframe of variable names and their corresponding value of coefficients obtained from model\n",
    "    # 'columns' returns the column names of the dataframe 'X'\n",
    "    # 'coef_' returns the coefficient of each variable\n",
    "    df_coeff = pd.DataFrame({'Variable': X_train3.columns, 'Coefficient': model.params})\n",
    "\n",
    "    # sort the dataframe in descending order\n",
    "    # 'sort_values' sorts the column based on the values\n",
    "    # 'ascending = False' sorts the values in the descending order\n",
    "    sorted_coeff = df_coeff.sort_values('Coefficient', ascending = False)\n",
    "\n",
    "    # plot a bar plot with Coefficient on the x-axis and Variable names on y-axis\n",
    "    # pass the data to the parameter, 'sorted_coeff' to plot the barplot\n",
    "    sns.barplot(x = \"Coefficient\", y = \"Variable\", data = sorted_coeff)\n",
    "    \n",
    "    # add x-axis label\n",
    "    # set the size of the text using 'fontsize'\n",
    "    plt.xlabel(\"Coefficients from {}\".format(algorithm_name), fontsize = 15)\n",
    "\n",
    "    # add y-axis label\n",
    "    # set the size of the text using 'fontsize'\n",
    "    plt.ylabel('Features', fontsize = 15)"
   ]
  },
  {
   "cell_type": "code",
   "execution_count": 83,
   "metadata": {},
   "outputs": [],
   "source": [
    "def plot_coefficients1(model, algorithm_name):\n",
    "    # create a dataframe of variable names and their corresponding value of coefficients obtained from model\n",
    "    # 'columns' returns the column names of the dataframe 'X'\n",
    "    # 'coef_' returns the coefficient of each variable\n",
    "    df_coeff = pd.DataFrame({'Variable': X_train3.columns, 'Coefficient': model.coef_})\n",
    "\n",
    "    # sort the dataframe in descending order\n",
    "    # 'sort_values' sorts the column based on the values\n",
    "    # 'ascending = False' sorts the values in the descending order\n",
    "    sorted_coeff = df_coeff.sort_values('Coefficient', ascending = False)\n",
    "\n",
    "    # plot a bar plot with Coefficient on the x-axis and Variable names on y-axis\n",
    "    # pass the data to the parameter, 'sorted_coeff' to plot the barplot\n",
    "    sns.barplot(x = \"Coefficient\", y = \"Variable\", data = sorted_coeff)\n",
    "    \n",
    "    # add x-axis label\n",
    "    # set the size of the text using 'fontsize'\n",
    "    plt.xlabel(\"Coefficients from {}\".format(algorithm_name), fontsize = 15)\n",
    "\n",
    "    # add y-axis label\n",
    "    # set the size of the text using 'fontsize'\n",
    "    plt.ylabel('Features', fontsize = 15)"
   ]
  },
  {
   "cell_type": "code",
   "execution_count": 87,
   "metadata": {},
   "outputs": [
    {
     "data": {
      "image/png": "[encoded data removed]",
      "text/plain": [
       "<Figure size 864x360 with 2 Axes>"
      ]
     },
     "metadata": {
      "needs_background": "light"
     },
     "output_type": "display_data"
    }
   ],
   "source": [
    "# subplot() is used to plot the multiple plots as a subplot\n",
    "# (1,2) plots a subplot of one row and two columns\n",
    "# pass the index of the plot as the third parameter of subplot()\n",
    "plt.figure(figsize=(12,5))\n",
    "plt.subplot(1,2,1)\n",
    "plot_coefficients(linreg_model_backforward, 'Linear Regression (OLS)')\n",
    "\n",
    "# pass the index of the plot as the third parameter of subplot()\n",
    "plt.subplot(1,2,2)\n",
    "plot_coefficients1(linreg_with_SGD, 'Linear Regression (SGD)')\n",
    "\n",
    "# to adjust the subplots\n",
    "plt.tight_layout()\n",
    "\n",
    "# display the plot\n",
    "plt.show()"
   ]
  },
  {
   "cell_type": "markdown",
   "metadata": {},
   "source": [
    "<table align=\"left\">\n",
    "    <tr>\n",
    "        <td width=\"8%\">\n",
    "            <img src=\"solution.png\">\n",
    "        </td>\n",
    "        <td>\n",
    "            <div align=\"left\", style=\"font-size:120%\">\n",
    "                <font color=\"#21618C\">\n",
    "                    <b>Coefficients in SGD linear regression model have been decreased.\n",
    "</b>\n",
    "                </font>\n",
    "            </div>\n",
    "        </td>\n",
    "    </tr>\n",
    "</table>"
   ]
  },
  {
   "cell_type": "markdown",
   "metadata": {},
   "source": [
    "**3.Adding to Result table**"
   ]
  },
  {
   "cell_type": "code",
   "execution_count": 93,
   "metadata": {},
   "outputs": [
    {
     "data": {
      "text/html": [
       "<div>\n",
       "<style scoped>\n",
       "    .dataframe tbody tr th:only-of-type {\n",
       "        vertical-align: middle;\n",
       "    }\n",
       "\n",
       "    .dataframe tbody tr th {\n",
       "        vertical-align: top;\n",
       "    }\n",
       "\n",
       "    .dataframe thead th {\n",
       "        text-align: right;\n",
       "    }\n",
       "</style>\n",
       "<table border=\"1\" class=\"dataframe\">\n",
       "  <thead>\n",
       "    <tr style=\"text-align: right;\">\n",
       "      <th></th>\n",
       "      <th>Model_Name</th>\n",
       "      <th>Alpha (Wherever Required)</th>\n",
       "      <th>l1-ratio</th>\n",
       "      <th>R-Squared</th>\n",
       "      <th>Adj. R-Squared</th>\n",
       "      <th>Train_RMSE</th>\n",
       "      <th>Test_RMSE</th>\n",
       "    </tr>\n",
       "  </thead>\n",
       "  <tbody>\n",
       "    <tr>\n",
       "      <th>0</th>\n",
       "      <td>Linear Regression using Feature Scaling</td>\n",
       "      <td>-</td>\n",
       "      <td>-</td>\n",
       "      <td>0.784622</td>\n",
       "      <td>0.778193</td>\n",
       "      <td>0.064500</td>\n",
       "      <td>0.056900</td>\n",
       "    </tr>\n",
       "    <tr>\n",
       "      <th>1</th>\n",
       "      <td>Linear Regression with significant variables</td>\n",
       "      <td>-</td>\n",
       "      <td>-</td>\n",
       "      <td>0.790988</td>\n",
       "      <td>0.787397</td>\n",
       "      <td>0.062100</td>\n",
       "      <td>0.064500</td>\n",
       "    </tr>\n",
       "    <tr>\n",
       "      <th>2</th>\n",
       "      <td>Linear Regression using backward elimination</td>\n",
       "      <td>-</td>\n",
       "      <td>-</td>\n",
       "      <td>0.789969</td>\n",
       "      <td>0.786360</td>\n",
       "      <td>0.062300</td>\n",
       "      <td>0.064300</td>\n",
       "    </tr>\n",
       "    <tr>\n",
       "      <th>3</th>\n",
       "      <td>Linear Regression (using SGD)</td>\n",
       "      <td>-</td>\n",
       "      <td>-</td>\n",
       "      <td>0.768092</td>\n",
       "      <td>0.755623</td>\n",
       "      <td>0.072100</td>\n",
       "      <td>0.070300</td>\n",
       "    </tr>\n",
       "    <tr>\n",
       "      <th>4</th>\n",
       "      <td>Linear Regression (using SGD)</td>\n",
       "      <td>-</td>\n",
       "      <td>-</td>\n",
       "      <td>0.768092</td>\n",
       "      <td>0.755623</td>\n",
       "      <td>0.072100</td>\n",
       "      <td>0.070300</td>\n",
       "    </tr>\n",
       "  </tbody>\n",
       "</table>\n",
       "</div>"
      ],
      "text/plain": [
       "                                     Model_Name Alpha (Wherever Required)  \\\n",
       "0       Linear Regression using Feature Scaling                         -   \n",
       "1  Linear Regression with significant variables                         -   \n",
       "2  Linear Regression using backward elimination                         -   \n",
       "3                 Linear Regression (using SGD)                         -   \n",
       "4                 Linear Regression (using SGD)                         -   \n",
       "\n",
       "  l1-ratio  R-Squared  Adj. R-Squared  Train_RMSE  Test_RMSE  \n",
       "0        -   0.784622        0.778193    0.064500   0.056900  \n",
       "1        -   0.790988        0.787397    0.062100   0.064500  \n",
       "2        -   0.789969        0.786360    0.062300   0.064300  \n",
       "3        -   0.768092        0.755623    0.072100   0.070300  \n",
       "4        -   0.768092        0.755623    0.072100   0.070300  "
      ]
     },
     "execution_count": 93,
     "metadata": {},
     "output_type": "execute_result"
    }
   ],
   "source": [
    "# update the dataframe 'score_card'\n",
    "update_score_card1('Linear Regression (using SGD)',linreg_with_SGD,X_train3,X_test3,y_train3,y_test3)\n",
    "\n",
    "# print the dataframe\n",
    "score_card"
   ]
  },
  {
   "cell_type": "markdown",
   "metadata": {},
   "source": [
    "<table align=\"left\">\n",
    "    <tr>\n",
    "        <td width=\"8%\">\n",
    "            <img src=\"solution.png\">\n",
    "        </td>\n",
    "        <td>\n",
    "            <div align=\"left\", style=\"font-size:120%\">\n",
    "                <font color=\"#21618C\">\n",
    "                    <b> R_squared value is increased. Difference of RMSE is greater compare to linear regression model using backward elimination.\n",
    "</b>\n",
    "                </font>\n",
    "            </div>\n",
    "        </td>\n",
    "    </tr>\n",
    "</table>"
   ]
  },
  {
   "cell_type": "markdown",
   "metadata": {},
   "source": [
    "<a id='regularization'></a>\n",
    "### 7.3  Regularization (OLS)\n",
    "\n",
    "Overfitting occurs when an algorithm fits the data too well.  Specifically, overfitting occurs if the algorithm shows low bias but high variance.  It is often a result of an excessively complicated model. This can be prevented by fitting multiple models and using cross-validation to compare their predictive accuracies on test data.\n",
    "\n",
    "Underfitting occurs when an algorithm cannot capture the underlying trend of the data. Intuitively, it occurs when the algorithm does not fit the data well enough. Specifically, it occurs if the model or algorithm shows low variance but high bias. It is often a result of an excessively simple model\n",
    "\n",
    "One of the challenge in machine learning is that our algorithm must perform well on new, previously unseen data - not just those on which our model was trained. This ability to perform well on previously unobserved data is called generalization. Generalization error is defined as the expected value of the error on a new data. Regularization is any modification we make to a learning algorithm that is intended to reduce it generalization error but not its training error. (Ref. Deep Learning by Ian Goodfellow, Yoshua Bengio, Aaron Courville)"
   ]
  },
  {
   "cell_type": "markdown",
   "metadata": {},
   "source": [
    "<table align=\"left\">\n",
    "    <tr>\n",
    "        <td width=\"8%\">\n",
    "            <img src=\"read1.png\">\n",
    "        </td>\n",
    "        <td>\n",
    "            <div align=\"left\", style=\"font-size:120%\">\n",
    "                <font color=\"#21618C\">\n",
    "                    <b>Now we will perform regularization to check whether this technique performs better than our linear regression models without regularization</b>\n",
    "</b>\n",
    "                </font>\n",
    "            </div>\n",
    "        </td>\n",
    "    </tr>\n",
    "</table>\n",
    "\n"
   ]
  },
  {
   "cell_type": "markdown",
   "metadata": {},
   "source": [
    "<a id='Ridge_Regression'></a>\n",
    "### 7.3.1 Ridge Regression (OLS)"
   ]
  },
  {
   "cell_type": "markdown",
   "metadata": {},
   "source": [
    "<table align=\"left\">\n",
    "    <tr>\n",
    "        <td width=\"8%\">\n",
    "            <img src=\"read1.png\">\n",
    "        </td>\n",
    "        <td>\n",
    "            <div align=\"left\", style=\"font-size:120%\">\n",
    "                <font color=\"#21618C\">\n",
    "                    <b> Now we perform ridge regression. We start with our original data set gradually proceeding with our analysis<br><br>\n",
    "                        In order to perform ridge regression, we do the following:<br>\n",
    "                        1. Split the data in the form of train and test sets <br>\n",
    "                        2. For different values of alpha create a tabular representation of parameter estimates and accuracy meterics<br>\n",
    "                        3. Find the alpha for which RMSE is minimum<br>\n",
    "                        4. Fit a ridge model by substituting the alpha value obtained in step 3<br>\n",
    "                        5. Compute accuracy measures <br>\n",
    "                        6. Graph Representation <br>\n",
    "                        7. Tabulate the results <br>\n",
    "</b>\n",
    "                </font>\n",
    "            </div>\n",
    "        </td>\n",
    "    </tr>\n",
    "</table>\n"
   ]
  },
  {
   "cell_type": "markdown",
   "metadata": {},
   "source": [
    "**1. Split the data in the form of train and test sets**"
   ]
  },
  {
   "cell_type": "markdown",
   "metadata": {},
   "source": [
    "We shall use the scaled data. The train test split is alread conducted for the scaled data."
   ]
  },
  {
   "cell_type": "markdown",
   "metadata": {},
   "source": [
    "**2. For different values of alpha create a tabular representation of parameter estimates and accuracy metrics**"
   ]
  },
  {
   "cell_type": "markdown",
   "metadata": {},
   "source": [
    "We first create a list of all the variable names and accuracy metrics whose values we want."
   ]
  },
  {
   "cell_type": "code",
   "execution_count": 94,
   "metadata": {},
   "outputs": [],
   "source": [
    "# compile the column names of the output dataframe\n",
    "# add the names of metrics used for comparing the models\n",
    "# these metrics are used for both lasso and ridge regression\n",
    "\n",
    "# create list of variable names\n",
    "col = list(X_train3.columns)\n",
    "\n",
    "# add 'Sum of square of Residuals' to the list\n",
    "col.append('ssr')\n",
    "\n",
    "# add 'R squared' to the list\n",
    "col.append('R squared')\n",
    "\n",
    "# add 'Adj. R squared' to the list\n",
    "col.append('Adj. R squared')\n",
    "\n",
    "# add 'Root mean Squared Error' to the list\n",
    "col.append('RMSE')"
   ]
  },
  {
   "cell_type": "markdown",
   "metadata": {},
   "source": [
    "Fit a linear regression model by the OLS method."
   ]
  },
  {
   "cell_type": "code",
   "execution_count": 95,
   "metadata": {},
   "outputs": [],
   "source": [
    "# build a OLS model using OLS()\n",
    "ridge_regression = sm.OLS(y_train3, X_train3)\n",
    "\n",
    "# the fitted ridge model\n",
    "results_fu = ridge_regression.fit()"
   ]
  },
  {
   "cell_type": "markdown",
   "metadata": {},
   "source": [
    "In a for loop we pass different values of alpha. We tabulate all beta coeffients."
   ]
  },
  {
   "cell_type": "code",
   "execution_count": 96,
   "metadata": {
    "scrolled": true
   },
   "outputs": [
    {
     "data": {
      "text/html": [
       "<div>\n",
       "<style scoped>\n",
       "    .dataframe tbody tr th:only-of-type {\n",
       "        vertical-align: middle;\n",
       "    }\n",
       "\n",
       "    .dataframe tbody tr th {\n",
       "        vertical-align: top;\n",
       "    }\n",
       "\n",
       "    .dataframe thead th {\n",
       "        text-align: right;\n",
       "    }\n",
       "</style>\n",
       "<table border=\"1\" class=\"dataframe\">\n",
       "  <thead>\n",
       "    <tr style=\"text-align: right;\">\n",
       "      <th></th>\n",
       "      <th>const</th>\n",
       "      <th>TOEFL Score</th>\n",
       "      <th>LOR</th>\n",
       "      <th>CGPA</th>\n",
       "      <th>Research_yes</th>\n",
       "      <th>ssr</th>\n",
       "      <th>R squared</th>\n",
       "      <th>Adj. R squared</th>\n",
       "      <th>RMSE</th>\n",
       "    </tr>\n",
       "    <tr>\n",
       "      <th>alpha*</th>\n",
       "      <th></th>\n",
       "      <th></th>\n",
       "      <th></th>\n",
       "      <th></th>\n",
       "      <th></th>\n",
       "      <th></th>\n",
       "      <th></th>\n",
       "      <th></th>\n",
       "      <th></th>\n",
       "    </tr>\n",
       "  </thead>\n",
       "  <tbody>\n",
       "    <tr>\n",
       "      <th>0.000100</th>\n",
       "      <td>0.413175</td>\n",
       "      <td>0.109165</td>\n",
       "      <td>0.073782</td>\n",
       "      <td>0.378080</td>\n",
       "      <td>0.030667</td>\n",
       "      <td>1.151118</td>\n",
       "      <td>0.789964</td>\n",
       "      <td>0.787087</td>\n",
       "      <td>0.064000</td>\n",
       "    </tr>\n",
       "    <tr>\n",
       "      <th>0.100100</th>\n",
       "      <td>0.356335</td>\n",
       "      <td>0.183848</td>\n",
       "      <td>0.161687</td>\n",
       "      <td>0.183754</td>\n",
       "      <td>0.086330</td>\n",
       "      <td>1.843644</td>\n",
       "      <td>0.663605</td>\n",
       "      <td>0.658997</td>\n",
       "      <td>0.078100</td>\n",
       "    </tr>\n",
       "    <tr>\n",
       "      <th>0.200100</th>\n",
       "      <td>0.327344</td>\n",
       "      <td>0.174482</td>\n",
       "      <td>0.163371</td>\n",
       "      <td>0.168498</td>\n",
       "      <td>0.106650</td>\n",
       "      <td>2.893776</td>\n",
       "      <td>0.471995</td>\n",
       "      <td>0.464762</td>\n",
       "      <td>0.098500</td>\n",
       "    </tr>\n",
       "    <tr>\n",
       "      <th>0.300100</th>\n",
       "      <td>0.306766</td>\n",
       "      <td>0.166559</td>\n",
       "      <td>0.159848</td>\n",
       "      <td>0.159230</td>\n",
       "      <td>0.115976</td>\n",
       "      <td>4.209726</td>\n",
       "      <td>0.231884</td>\n",
       "      <td>0.221362</td>\n",
       "      <td>0.119200</td>\n",
       "    </tr>\n",
       "    <tr>\n",
       "      <th>0.400100</th>\n",
       "      <td>0.290462</td>\n",
       "      <td>0.159637</td>\n",
       "      <td>0.155242</td>\n",
       "      <td>0.151936</td>\n",
       "      <td>0.120203</td>\n",
       "      <td>5.734113</td>\n",
       "      <td>-0.046259</td>\n",
       "      <td>-0.060591</td>\n",
       "      <td>0.139300</td>\n",
       "    </tr>\n",
       "  </tbody>\n",
       "</table>\n",
       "</div>"
      ],
      "text/plain": [
       "            const  TOEFL Score     LOR      CGPA  Research_yes      ssr  \\\n",
       "alpha*                                                                    \n",
       "0.000100 0.413175     0.109165 0.073782 0.378080      0.030667 1.151118   \n",
       "0.100100 0.356335     0.183848 0.161687 0.183754      0.086330 1.843644   \n",
       "0.200100 0.327344     0.174482 0.163371 0.168498      0.106650 2.893776   \n",
       "0.300100 0.306766     0.166559 0.159848 0.159230      0.115976 4.209726   \n",
       "0.400100 0.290462     0.159637 0.155242 0.151936      0.120203 5.734113   \n",
       "\n",
       "          R squared  Adj. R squared     RMSE  \n",
       "alpha*                                        \n",
       "0.000100   0.789964        0.787087 0.064000  \n",
       "0.100100   0.663605        0.658997 0.078100  \n",
       "0.200100   0.471995        0.464762 0.098500  \n",
       "0.300100   0.231884        0.221362 0.119200  \n",
       "0.400100  -0.046259       -0.060591 0.139300  "
      ]
     },
     "execution_count": 96,
     "metadata": {},
     "output_type": "execute_result"
    }
   ],
   "source": [
    "# create an empty list\n",
    "frames = []\n",
    "\n",
    "# a 'for' loop for values of alpha in a given range\n",
    "# the loop prepares a table of regression coefficients for different values of alpha\n",
    "# the values of alpha are given to be 0.0001, 0.1001, 0.2001, 0.3001, 0.4001, 0.5001 and 10.0001\n",
    "for n in np.arange(0.0001,10.1, 0.1).tolist():\n",
    "    \n",
    "    # fit a rigde regression to the linear model built using OLS\n",
    "    # L1_wt=0: conducts ridge regression\n",
    "    # alpha: specifies the alpha value\n",
    "    # start_params: starting values for patameters\n",
    "    results_fr = ridge_regression.fit_regularized(L1_wt=0, alpha=n, start_params=results_fu.params)\n",
    "    \n",
    "    # fit the model\n",
    "    # model: specifies the regression model\n",
    "    # params: specifies the estimated parameters\n",
    "    # normalized_cov_params: specifies the normalized covariance parameters\n",
    "    results_fr_fit = sm.regression.linear_model.OLSResults(model=ridge_regression, \n",
    "                                             params=results_fr.params, \n",
    "                                             normalized_cov_params=ridge_regression.normalized_cov_params)\n",
    "    \n",
    "    # compute the rmse\n",
    "    # calling the test data\n",
    "    results_fr_fit_predictions = results_fr_fit.predict(X_test3)\n",
    "    \n",
    "    # obtain the rmse\n",
    "    mse_test=round(mean_squared_error(y_test3,results_fr_fit_predictions),4)\n",
    "    results_fr_fit_rmse=round(np.sqrt(mse_test),4)    \n",
    "  \n",
    "    # compile the necessary metrics used for comparing the models\n",
    "    list_metric = [results_fr_fit.ssr, results_fr_fit.rsquared, results_fr_fit.rsquared_adj, results_fr_fit_rmse]\n",
    "    \n",
    "    # append the empty list \n",
    "    frames.append(np.append(results_fr.params, list_metric))\n",
    "    \n",
    "    # converting the list to a dataframe.\n",
    "    df_params = pd.DataFrame(frames, columns= col)\n",
    "\n",
    "# add column names to the dataframe  \n",
    "df_params.index=np.arange(0.0001, 10.1, 0.1).tolist()\n",
    "\n",
    "# add the first column name alpha to the data frame. \n",
    "# this column will hold the regularization parameter value which can be anything from zero to any positive number\n",
    "df_params.index.name = 'alpha*'\n",
    "\n",
    "# display the output\n",
    "df_params.head()"
   ]
  },
  {
   "cell_type": "markdown",
   "metadata": {},
   "source": [
    "Let us compare the results for low and high values of alpha"
   ]
  },
  {
   "cell_type": "code",
   "execution_count": 97,
   "metadata": {
    "scrolled": true
   },
   "outputs": [
    {
     "data": {
      "text/html": [
       "<div>\n",
       "<style scoped>\n",
       "    .dataframe tbody tr th:only-of-type {\n",
       "        vertical-align: middle;\n",
       "    }\n",
       "\n",
       "    .dataframe tbody tr th {\n",
       "        vertical-align: top;\n",
       "    }\n",
       "\n",
       "    .dataframe thead th {\n",
       "        text-align: right;\n",
       "    }\n",
       "</style>\n",
       "<table border=\"1\" class=\"dataframe\">\n",
       "  <thead>\n",
       "    <tr style=\"text-align: right;\">\n",
       "      <th></th>\n",
       "      <th>const</th>\n",
       "      <th>TOEFL Score</th>\n",
       "      <th>LOR</th>\n",
       "      <th>CGPA</th>\n",
       "      <th>Research_yes</th>\n",
       "      <th>ssr</th>\n",
       "      <th>R squared</th>\n",
       "      <th>Adj. R squared</th>\n",
       "      <th>RMSE</th>\n",
       "    </tr>\n",
       "    <tr>\n",
       "      <th>alpha*</th>\n",
       "      <th></th>\n",
       "      <th></th>\n",
       "      <th></th>\n",
       "      <th></th>\n",
       "      <th></th>\n",
       "      <th></th>\n",
       "      <th></th>\n",
       "      <th></th>\n",
       "      <th></th>\n",
       "    </tr>\n",
       "  </thead>\n",
       "  <tbody>\n",
       "    <tr>\n",
       "      <th>0.000100</th>\n",
       "      <td>0.413175</td>\n",
       "      <td>0.109165</td>\n",
       "      <td>0.073782</td>\n",
       "      <td>0.378080</td>\n",
       "      <td>0.030667</td>\n",
       "      <td>1.151118</td>\n",
       "      <td>0.789964</td>\n",
       "      <td>0.787087</td>\n",
       "      <td>0.064000</td>\n",
       "    </tr>\n",
       "    <tr>\n",
       "      <th>0.100100</th>\n",
       "      <td>0.356335</td>\n",
       "      <td>0.183848</td>\n",
       "      <td>0.161687</td>\n",
       "      <td>0.183754</td>\n",
       "      <td>0.086330</td>\n",
       "      <td>1.843644</td>\n",
       "      <td>0.663605</td>\n",
       "      <td>0.658997</td>\n",
       "      <td>0.078100</td>\n",
       "    </tr>\n",
       "    <tr>\n",
       "      <th>9.900100</th>\n",
       "      <td>0.059809</td>\n",
       "      <td>0.034806</td>\n",
       "      <td>0.035298</td>\n",
       "      <td>0.032860</td>\n",
       "      <td>0.035453</td>\n",
       "      <td>107.762189</td>\n",
       "      <td>-18.662521</td>\n",
       "      <td>-18.931871</td>\n",
       "      <td>0.605000</td>\n",
       "    </tr>\n",
       "    <tr>\n",
       "      <th>10.000100</th>\n",
       "      <td>0.059321</td>\n",
       "      <td>0.034523</td>\n",
       "      <td>0.035012</td>\n",
       "      <td>0.032593</td>\n",
       "      <td>0.035171</td>\n",
       "      <td>108.161960</td>\n",
       "      <td>-18.735464</td>\n",
       "      <td>-19.005813</td>\n",
       "      <td>0.606100</td>\n",
       "    </tr>\n",
       "  </tbody>\n",
       "</table>\n",
       "</div>"
      ],
      "text/plain": [
       "             const  TOEFL Score     LOR      CGPA  Research_yes        ssr  \\\n",
       "alpha*                                                                       \n",
       "0.000100  0.413175     0.109165 0.073782 0.378080      0.030667   1.151118   \n",
       "0.100100  0.356335     0.183848 0.161687 0.183754      0.086330   1.843644   \n",
       "9.900100  0.059809     0.034806 0.035298 0.032860      0.035453 107.762189   \n",
       "10.000100 0.059321     0.034523 0.035012 0.032593      0.035171 108.161960   \n",
       "\n",
       "           R squared  Adj. R squared     RMSE  \n",
       "alpha*                                         \n",
       "0.000100    0.789964        0.787087 0.064000  \n",
       "0.100100    0.663605        0.658997 0.078100  \n",
       "9.900100  -18.662521      -18.931871 0.605000  \n",
       "10.000100 -18.735464      -19.005813 0.606100  "
      ]
     },
     "execution_count": 97,
     "metadata": {},
     "output_type": "execute_result"
    }
   ],
   "source": [
    "# call the first two rows and last two rows\n",
    "df_params.iloc[[0,1,-2,-1]]"
   ]
  },
  {
   "cell_type": "markdown",
   "metadata": {},
   "source": [
    "<table align=\"left\">\n",
    "    <tr>\n",
    "        <td width=\"8%\">\n",
    "            <img src=\"solution.png\">\n",
    "        </td>\n",
    "        <td>\n",
    "            <div align=\"left\", style=\"font-size:120%\">\n",
    "                <font color=\"#21618C\">\n",
    "                    <b>The sum of squares of residual, increases with increase in alpha, this reduces model complexity.\n",
    "Compare the coefficients in the first and second row of this table, there is a drastic change in the magnitude of coefficients. Similar change is seen on comparing rows 2 and 3. However, there is not much change in rows 3 and 4. High alpha values can lead to significant underfitting. Note the rapid increase in residual sum of squares.<br><br>\n",
    "                      \n",
    "                   \n",
    "</b>\n",
    "                </font>\n",
    "            </div>\n",
    "        </td>\n",
    "    </tr>\n",
    "</table>"
   ]
  },
  {
   "cell_type": "markdown",
   "metadata": {},
   "source": [
    "**3. Find the alpha for which RMSE is minimum**\n",
    "\n",
    "Now, to know which model performs the best, we find the alpha value which has lowest root mean squared error."
   ]
  },
  {
   "cell_type": "code",
   "execution_count": 98,
   "metadata": {},
   "outputs": [
    {
     "name": "stdout",
     "output_type": "stream",
     "text": [
      "The required alpha is 0.0001 \n"
     ]
    }
   ],
   "source": [
    "# find the alpha value for which RMSE is minimum\n",
    "# from the column EMSE of df_params obtain the minimum value of RMSE\n",
    "# .index.tolist(): gets the corresponding index value, i.e. the alpha value\n",
    "alpha = df_params.RMSE[df_params.RMSE == df_params.loc[:,'RMSE'].min()].index.tolist()\n",
    "\n",
    "# print the conclusion\n",
    "print('The required alpha is %.4f ' % (alpha[0]))"
   ]
  },
  {
   "cell_type": "markdown",
   "metadata": {},
   "source": [
    "Thus, we may say the model obtained by alpha = 0.0001 is performing the best since has the lowest root mean squared error."
   ]
  },
  {
   "cell_type": "markdown",
   "metadata": {},
   "source": [
    "**In ridge regression, coefficients may tend to zero yet are never zero. This can be checked by the follwing code**"
   ]
  },
  {
   "cell_type": "code",
   "execution_count": 99,
   "metadata": {
    "scrolled": true
   },
   "outputs": [
    {
     "data": {
      "text/plain": [
       "alpha*\n",
       "0.000100     0\n",
       "0.100100     0\n",
       "0.200100     0\n",
       "0.300100     0\n",
       "0.400100     0\n",
       "0.500100     0\n",
       "0.600100     0\n",
       "0.700100     0\n",
       "0.800100     0\n",
       "0.900100     0\n",
       "1.000100     0\n",
       "1.100100     0\n",
       "1.200100     0\n",
       "1.300100     0\n",
       "1.400100     0\n",
       "1.500100     0\n",
       "1.600100     0\n",
       "1.700100     0\n",
       "1.800100     0\n",
       "1.900100     0\n",
       "2.000100     0\n",
       "2.100100     0\n",
       "2.200100     0\n",
       "2.300100     0\n",
       "2.400100     0\n",
       "2.500100     0\n",
       "2.600100     0\n",
       "2.700100     0\n",
       "2.800100     0\n",
       "2.900100     0\n",
       "3.000100     0\n",
       "3.100100     0\n",
       "3.200100     0\n",
       "3.300100     0\n",
       "3.400100     0\n",
       "3.500100     0\n",
       "3.600100     0\n",
       "3.700100     0\n",
       "3.800100     0\n",
       "3.900100     0\n",
       "4.000100     0\n",
       "4.100100     0\n",
       "4.200100     0\n",
       "4.300100     0\n",
       "4.400100     0\n",
       "4.500100     0\n",
       "4.600100     0\n",
       "4.700100     0\n",
       "4.800100     0\n",
       "4.900100     0\n",
       "5.000100     0\n",
       "5.100100     0\n",
       "5.200100     0\n",
       "5.300100     0\n",
       "5.400100     0\n",
       "5.500100     0\n",
       "5.600100     0\n",
       "5.700100     0\n",
       "5.800100     0\n",
       "5.900100     0\n",
       "6.000100     0\n",
       "6.100100     0\n",
       "6.200100     0\n",
       "6.300100     0\n",
       "6.400100     0\n",
       "6.500100     0\n",
       "6.600100     0\n",
       "6.700100     0\n",
       "6.800100     0\n",
       "6.900100     0\n",
       "7.000100     0\n",
       "7.100100     0\n",
       "7.200100     0\n",
       "7.300100     0\n",
       "7.400100     0\n",
       "7.500100     0\n",
       "7.600100     0\n",
       "7.700100     0\n",
       "7.800100     0\n",
       "7.900100     0\n",
       "8.000100     0\n",
       "8.100100     0\n",
       "8.200100     0\n",
       "8.300100     0\n",
       "8.400100     0\n",
       "8.500100     0\n",
       "8.600100     0\n",
       "8.700100     0\n",
       "8.800100     0\n",
       "8.900100     0\n",
       "9.000100     0\n",
       "9.100100     0\n",
       "9.200100     0\n",
       "9.300100     0\n",
       "9.400100     0\n",
       "9.500100     0\n",
       "9.600100     0\n",
       "9.700100     0\n",
       "9.800100     0\n",
       "9.900100     0\n",
       "10.000100    0\n",
       "dtype: int64"
      ]
     },
     "execution_count": 99,
     "metadata": {},
     "output_type": "execute_result"
    }
   ],
   "source": [
    "# check for zeros in the above coefficients table\n",
    "# axis=1: specifies that the apply() is to be applies column wise\n",
    "df_params.apply(lambda x: sum(x.values==0),axis=1)"
   ]
  },
  {
   "cell_type": "markdown",
   "metadata": {},
   "source": [
    "For all alpha values, the corresponding value is zero which impiles there are **no** coefficients with value zero."
   ]
  },
  {
   "cell_type": "markdown",
   "metadata": {},
   "source": [
    "**4. Fit a ridge model by substituting the alpha value obtained in step 3**\n",
    "\n",
    "We know that when aplha = 0.0001, the model performs better than other since it has the lowest RMSE and highest adjusted R- squared value. Let us now find its summary output."
   ]
  },
  {
   "cell_type": "code",
   "execution_count": 100,
   "metadata": {
    "scrolled": false
   },
   "outputs": [
    {
     "name": "stdout",
     "output_type": "stream",
     "text": [
      "                            OLS Regression Results                            \n",
      "==============================================================================\n",
      "Dep. Variable:        Chance of Admit   R-squared:                       0.790\n",
      "Model:                            OLS   Adj. R-squared:                  0.787\n",
      "Method:                 Least Squares   F-statistic:                     274.6\n",
      "Date:                Sun, 16 May 2021   Prob (F-statistic):           1.32e-97\n",
      "Time:                        19:59:11   Log-Likelihood:                 403.20\n",
      "No. Observations:                 297   AIC:                            -796.4\n",
      "Df Residuals:                     292   BIC:                            -777.9\n",
      "Df Model:                           4                                         \n",
      "Covariance Type:            nonrobust                                         \n",
      "================================================================================\n",
      "                   coef    std err          t      P>|t|      [0.025      0.975]\n",
      "--------------------------------------------------------------------------------\n",
      "const            0.4132      0.011     38.039      0.000       0.392       0.435\n",
      "TOEFL Score      0.1092      0.031      3.561      0.000       0.049       0.170\n",
      "LOR              0.0738      0.019      3.967      0.000       0.037       0.110\n",
      "CGPA             0.3781      0.034     11.040      0.000       0.311       0.445\n",
      "Research_yes     0.0307      0.008      3.608      0.000       0.014       0.047\n",
      "==============================================================================\n",
      "Omnibus:                       57.722   Durbin-Watson:                   1.778\n",
      "Prob(Omnibus):                  0.000   Jarque-Bera (JB):              105.660\n",
      "Skew:                          -1.046   Prob(JB):                     1.14e-23\n",
      "Kurtosis:                       5.040   Cond. No.                         17.9\n",
      "==============================================================================\n",
      "\n",
      "Notes:\n",
      "[1] Standard Errors assume that the covariance matrix of the errors is correctly specified.\n"
     ]
    }
   ],
   "source": [
    "# build a ridge model for the desired alpha \n",
    "# L1_wt=0: conducts ridge regression\n",
    "# alpha: specifies the alpha value\n",
    "# start_params: starting values for patameters\n",
    "results_fr = ridge_regression.fit_regularized(L1_wt=0, alpha=0.0001, start_params=results_fu.params)\n",
    "\n",
    "# fit the model \n",
    "# model: specifies the regression model\n",
    "# params: specifies the estimated parameters\n",
    "# normalized_cov_params: specifies the normalized covariance parameters\n",
    "ridge_regression_best = sm.regression.linear_model.OLSResults(model = ridge_regression, \n",
    "                                        params=results_fr.params, \n",
    "                                        normalized_cov_params=ridge_regression.normalized_cov_params)\n",
    "\n",
    "# print the summary output \n",
    "print (ridge_regression_best.summary())"
   ]
  },
  {
   "cell_type": "markdown",
   "metadata": {},
   "source": [
    "<table align=\"left\">\n",
    "    <tr>\n",
    "        <td width=\"8%\">\n",
    "            <img src=\"solution.png\">\n",
    "        </td>\n",
    "        <td>\n",
    "            <div align=\"left\", style=\"font-size:120%\">\n",
    "                <font color=\"#21618C\">\n",
    "                    <b>This model explains 79% of the variation in dependent variable chance of admission. The Durbin-Watson test statistics is  1.778 which indicates that there is no autocorrelation. The Condition Number is 17.9 suggests that there is no collinearity.\n",
    "</b>\n",
    "                </font>\n",
    "            </div>\n",
    "        </td>\n",
    "    </tr>\n",
    "</table>"
   ]
  },
  {
   "cell_type": "markdown",
   "metadata": {},
   "source": [
    "**5. Compute model accuracy measures**\n",
    "\n",
    "Now we calculate accuray measures like Root-mean-square-error (RMSE), R-squared and Adjusted R-squared."
   ]
  },
  {
   "cell_type": "code",
   "execution_count": 101,
   "metadata": {},
   "outputs": [
    {
     "name": "stdout",
     "output_type": "stream",
     "text": [
      "RMSE on train set:  0.0623\n",
      "RMSE on test set:  0.0642\n",
      "Difference between RMSE on train and test set:  0.001899999999999992\n"
     ]
    }
   ],
   "source": [
    "# print training RMSE\n",
    "print('RMSE on train set: ', get_train_rmse(ridge_regression_best,X_train3,y_train3))\n",
    "\n",
    "# print training RMSE\n",
    "print('RMSE on test set: ', get_test_rmse(ridge_regression_best,X_test3,y_test3))\n",
    "\n",
    "# calculate the difference between train and test set RMSE\n",
    "difference = abs(get_test_rmse(ridge_regression_best,X_train3,y_train3) - get_train_rmse(ridge_regression_best,X_test3,y_test3))\n",
    "\n",
    "# print the difference between train and test set RMSE\n",
    "print('Difference between RMSE on train and test set: ', difference)"
   ]
  },
  {
   "cell_type": "markdown",
   "metadata": {},
   "source": [
    "**6. Graph representation**"
   ]
  },
  {
   "cell_type": "code",
   "execution_count": 102,
   "metadata": {},
   "outputs": [],
   "source": [
    "# define a function to plot a barplot\n",
    "# pass the model \n",
    "def plot_coefficients(model, algorithm_name):\n",
    "    # create a dataframe of variable names and their corresponding value of coefficients obtained from model\n",
    "    # 'columns' returns the column names of the dataframe 'X'\n",
    "    # 'coef_' returns the coefficient of each variable\n",
    "    df_coeff = pd.DataFrame({'Variable': X_train3.columns, 'Coefficient': model.params})\n",
    "\n",
    "    # sort the dataframe in descending order\n",
    "    # 'sort_values' sorts the column based on the values\n",
    "    # 'ascending = False' sorts the values in the descending order\n",
    "    sorted_coeff = df_coeff.sort_values('Coefficient', ascending = False)\n",
    "\n",
    "    # plot a bar plot with Coefficient on the x-axis and Variable names on y-axis\n",
    "    # pass the data to the parameter, 'sorted_coeff' to plot the barplot\n",
    "    sns.barplot(x = \"Coefficient\", y = \"Variable\", data = sorted_coeff)\n",
    "    \n",
    "    # add x-axis label\n",
    "    # set the size of the text using 'fontsize'\n",
    "    plt.xlabel(\"Coefficients from {}\".format(algorithm_name), fontsize = 15)\n",
    "\n",
    "    # add y-axis label\n",
    "    # set the size of the text using 'fontsize'\n",
    "    plt.ylabel('Features', fontsize = 15)"
   ]
  },
  {
   "cell_type": "code",
   "execution_count": 103,
   "metadata": {},
   "outputs": [
    {
     "data": {
      "image/png": "[encoded data removed]",
      "text/plain": [
       "<Figure size 864x576 with 2 Axes>"
      ]
     },
     "metadata": {
      "needs_background": "light"
     },
     "output_type": "display_data"
    }
   ],
   "source": [
    "# subplot() is used to plot the multiple plots as a subplot\n",
    "# (1,2) plots a subplot of one row and two columns\n",
    "# pass the index of the plot as the third parameter of subplot()\n",
    "plt.figure(figsize=(12,8))\n",
    "plt.subplot(1,2,1)\n",
    "plot_coefficients(linreg_model_backforward, 'Linear Regression (OLS)')\n",
    "\n",
    "# pass the index of the plot as the third parameter of subplot()\n",
    "plt.subplot(1,2,2)\n",
    "plot_coefficients(ridge_regression_best, 'Ridge Regression (alpha = 0.0001)')\n",
    "\n",
    "# to adjust the subplots\n",
    "plt.tight_layout()\n",
    "\n",
    "# display the plot\n",
    "plt.show()"
   ]
  },
  {
   "cell_type": "markdown",
   "metadata": {},
   "source": [
    "**7 Tabulate the results**"
   ]
  },
  {
   "cell_type": "code",
   "execution_count": 104,
   "metadata": {},
   "outputs": [
    {
     "data": {
      "text/html": [
       "<div>\n",
       "<style scoped>\n",
       "    .dataframe tbody tr th:only-of-type {\n",
       "        vertical-align: middle;\n",
       "    }\n",
       "\n",
       "    .dataframe tbody tr th {\n",
       "        vertical-align: top;\n",
       "    }\n",
       "\n",
       "    .dataframe thead th {\n",
       "        text-align: right;\n",
       "    }\n",
       "</style>\n",
       "<table border=\"1\" class=\"dataframe\">\n",
       "  <thead>\n",
       "    <tr style=\"text-align: right;\">\n",
       "      <th></th>\n",
       "      <th>Model_Name</th>\n",
       "      <th>Alpha (Wherever Required)</th>\n",
       "      <th>l1-ratio</th>\n",
       "      <th>R-Squared</th>\n",
       "      <th>Adj. R-Squared</th>\n",
       "      <th>Train_RMSE</th>\n",
       "      <th>Test_RMSE</th>\n",
       "    </tr>\n",
       "  </thead>\n",
       "  <tbody>\n",
       "    <tr>\n",
       "      <th>0</th>\n",
       "      <td>Linear Regression using Feature Scaling</td>\n",
       "      <td>-</td>\n",
       "      <td>-</td>\n",
       "      <td>0.784622</td>\n",
       "      <td>0.778193</td>\n",
       "      <td>0.064500</td>\n",
       "      <td>0.056900</td>\n",
       "    </tr>\n",
       "    <tr>\n",
       "      <th>1</th>\n",
       "      <td>Linear Regression with significant variables</td>\n",
       "      <td>-</td>\n",
       "      <td>-</td>\n",
       "      <td>0.790988</td>\n",
       "      <td>0.787397</td>\n",
       "      <td>0.062100</td>\n",
       "      <td>0.064500</td>\n",
       "    </tr>\n",
       "    <tr>\n",
       "      <th>2</th>\n",
       "      <td>Linear Regression using backward elimination</td>\n",
       "      <td>-</td>\n",
       "      <td>-</td>\n",
       "      <td>0.789969</td>\n",
       "      <td>0.786360</td>\n",
       "      <td>0.062300</td>\n",
       "      <td>0.064300</td>\n",
       "    </tr>\n",
       "    <tr>\n",
       "      <th>3</th>\n",
       "      <td>Linear Regression (using SGD)</td>\n",
       "      <td>-</td>\n",
       "      <td>-</td>\n",
       "      <td>0.768092</td>\n",
       "      <td>0.755623</td>\n",
       "      <td>0.072100</td>\n",
       "      <td>0.070300</td>\n",
       "    </tr>\n",
       "    <tr>\n",
       "      <th>4</th>\n",
       "      <td>Linear Regression (using SGD)</td>\n",
       "      <td>-</td>\n",
       "      <td>-</td>\n",
       "      <td>0.768092</td>\n",
       "      <td>0.755623</td>\n",
       "      <td>0.072100</td>\n",
       "      <td>0.070300</td>\n",
       "    </tr>\n",
       "    <tr>\n",
       "      <th>5</th>\n",
       "      <td>Ridge Regression</td>\n",
       "      <td>0.0001</td>\n",
       "      <td>0</td>\n",
       "      <td>0.789964</td>\n",
       "      <td>0.786356</td>\n",
       "      <td>0.062300</td>\n",
       "      <td>0.064200</td>\n",
       "    </tr>\n",
       "  </tbody>\n",
       "</table>\n",
       "</div>"
      ],
      "text/plain": [
       "                                     Model_Name Alpha (Wherever Required)  \\\n",
       "0       Linear Regression using Feature Scaling                         -   \n",
       "1  Linear Regression with significant variables                         -   \n",
       "2  Linear Regression using backward elimination                         -   \n",
       "3                 Linear Regression (using SGD)                         -   \n",
       "4                 Linear Regression (using SGD)                         -   \n",
       "5                              Ridge Regression                    0.0001   \n",
       "\n",
       "  l1-ratio  R-Squared  Adj. R-Squared  Train_RMSE  Test_RMSE  \n",
       "0        -   0.784622        0.778193    0.064500   0.056900  \n",
       "1        -   0.790988        0.787397    0.062100   0.064500  \n",
       "2        -   0.789969        0.786360    0.062300   0.064300  \n",
       "3        -   0.768092        0.755623    0.072100   0.070300  \n",
       "4        -   0.768092        0.755623    0.072100   0.070300  \n",
       "5        0   0.789964        0.786356    0.062300   0.064200  "
      ]
     },
     "execution_count": 104,
     "metadata": {},
     "output_type": "execute_result"
    }
   ],
   "source": [
    "# update the dataframe 'score_card'\n",
    "update_score_card(xtrain=X_train3,ytrain=y_train3,xtest=X_test3,ytest=y_test3,algorithm_name = 'Ridge Regression', model = ridge_regression_best, alpha = '0.0001', l1_ratio = '0')\n",
    "\n",
    "# print the datarframe\n",
    "score_card"
   ]
  },
  {
   "cell_type": "markdown",
   "metadata": {},
   "source": [
    "<table align=\"left\">\n",
    "    <tr>\n",
    "        <td width=\"8%\">\n",
    "            <img src=\"solution.png\">\n",
    "        </td>\n",
    "        <td>\n",
    "            <div align=\"left\", style=\"font-size:120%\">\n",
    "                <font color=\"#21618C\">\n",
    "                    <b>Notice that R-squared and Adjusted R-squared values have decreased and there is no change in RMSE value.\n",
    "</b>\n",
    "                </font>\n",
    "            </div>\n",
    "        </td>\n",
    "    </tr>\n",
    "</table>\n"
   ]
  },
  {
   "cell_type": "markdown",
   "metadata": {},
   "source": [
    "<a id='Ridge_Regression'></a>\n",
    "### 7.3.2 Lasso Regression (OLS)\n",
    "Lasso regression shrinks the less important variable's coefficient to zero. Thus, removing some variables completely. So, this works well for feature selection in case we have a large number of features.\n",
    "For lasso regression, we follow a very similar process to ridge regression."
   ]
  },
  {
   "cell_type": "markdown",
   "metadata": {},
   "source": [
    "<table align=\"left\">\n",
    "    <tr>\n",
    "        <td width=\"8%\">\n",
    "            <img src=\"read1.png\">\n",
    "        </td>\n",
    "        <td>\n",
    "            <div align=\"left\", style=\"font-size:120%\">\n",
    "                <font color=\"#21618C\">\n",
    "                    <b> Now we perform lasso regression. We start with our original data set and gradually proceeding with our analysis<br><br>\n",
    "                        In order to perform lasso regression, we do the following:<br>\n",
    "                        1. Fit a regression model using OLS method <br>\n",
    "                        2. For different values of alpha create a tabular representation of parameter estimates and accuracy meterics<br>\n",
    "                        3. Find the alpha for which RMSE is minimum<br>\n",
    "                        4. Fit a lasso model by substituting the alpha value obtained in step 3<br>\n",
    "                        5. Compute accuracy measures <br>\n",
    "                        6. Graph Representation <br>\n",
    "                        7. Tabulate the results <br>\n",
    "</b>\n",
    "                </font>\n",
    "            </div>\n",
    "        </td>\n",
    "    </tr>\n",
    "</table>\n"
   ]
  },
  {
   "cell_type": "markdown",
   "metadata": {},
   "source": [
    "**1. Fit a regression model using OLS method**"
   ]
  },
  {
   "cell_type": "code",
   "execution_count": 105,
   "metadata": {},
   "outputs": [],
   "source": [
    "# we use the scaled data\n",
    "# build a OLS model using OLS()\n",
    "lasso_regression = sm.OLS(y_train3, X_train3)\n",
    "\n",
    "# the fitted lasso model\n",
    "results_fu = lasso_regression.fit()"
   ]
  },
  {
   "cell_type": "markdown",
   "metadata": {},
   "source": [
    "**2. For different values of alpha create a tabular representation of parameter estimates and accuracy meterics**"
   ]
  },
  {
   "cell_type": "code",
   "execution_count": 106,
   "metadata": {
    "scrolled": true
   },
   "outputs": [
    {
     "data": {
      "text/html": [
       "<div>\n",
       "<style scoped>\n",
       "    .dataframe tbody tr th:only-of-type {\n",
       "        vertical-align: middle;\n",
       "    }\n",
       "\n",
       "    .dataframe tbody tr th {\n",
       "        vertical-align: top;\n",
       "    }\n",
       "\n",
       "    .dataframe thead th {\n",
       "        text-align: right;\n",
       "    }\n",
       "</style>\n",
       "<table border=\"1\" class=\"dataframe\">\n",
       "  <thead>\n",
       "    <tr style=\"text-align: right;\">\n",
       "      <th></th>\n",
       "      <th>const</th>\n",
       "      <th>TOEFL Score</th>\n",
       "      <th>LOR</th>\n",
       "      <th>CGPA</th>\n",
       "      <th>Research_yes</th>\n",
       "      <th>ssr</th>\n",
       "      <th>R squared</th>\n",
       "      <th>Adj. R squared</th>\n",
       "      <th>RMSE</th>\n",
       "    </tr>\n",
       "    <tr>\n",
       "      <th>alpha*</th>\n",
       "      <th></th>\n",
       "      <th></th>\n",
       "      <th></th>\n",
       "      <th></th>\n",
       "      <th></th>\n",
       "      <th></th>\n",
       "      <th></th>\n",
       "      <th></th>\n",
       "      <th></th>\n",
       "    </tr>\n",
       "  </thead>\n",
       "  <tbody>\n",
       "    <tr>\n",
       "      <th>0.000100</th>\n",
       "      <td>0.413926</td>\n",
       "      <td>0.106949</td>\n",
       "      <td>0.072874</td>\n",
       "      <td>0.379962</td>\n",
       "      <td>0.030588</td>\n",
       "      <td>1.151116</td>\n",
       "      <td>0.789965</td>\n",
       "      <td>0.787088</td>\n",
       "      <td>0.064000</td>\n",
       "    </tr>\n",
       "    <tr>\n",
       "      <th>0.000200</th>\n",
       "      <td>0.414505</td>\n",
       "      <td>0.106454</td>\n",
       "      <td>0.072651</td>\n",
       "      <td>0.379335</td>\n",
       "      <td>0.030671</td>\n",
       "      <td>1.151179</td>\n",
       "      <td>0.789953</td>\n",
       "      <td>0.787076</td>\n",
       "      <td>0.064000</td>\n",
       "    </tr>\n",
       "    <tr>\n",
       "      <th>0.000300</th>\n",
       "      <td>0.415083</td>\n",
       "      <td>0.105959</td>\n",
       "      <td>0.072428</td>\n",
       "      <td>0.378708</td>\n",
       "      <td>0.030755</td>\n",
       "      <td>1.151284</td>\n",
       "      <td>0.789934</td>\n",
       "      <td>0.787057</td>\n",
       "      <td>0.064000</td>\n",
       "    </tr>\n",
       "    <tr>\n",
       "      <th>0.000400</th>\n",
       "      <td>0.415662</td>\n",
       "      <td>0.105464</td>\n",
       "      <td>0.072206</td>\n",
       "      <td>0.378081</td>\n",
       "      <td>0.030838</td>\n",
       "      <td>1.151430</td>\n",
       "      <td>0.789908</td>\n",
       "      <td>0.787030</td>\n",
       "      <td>0.064000</td>\n",
       "    </tr>\n",
       "    <tr>\n",
       "      <th>0.000500</th>\n",
       "      <td>0.416241</td>\n",
       "      <td>0.104969</td>\n",
       "      <td>0.071983</td>\n",
       "      <td>0.377454</td>\n",
       "      <td>0.030922</td>\n",
       "      <td>1.151618</td>\n",
       "      <td>0.789873</td>\n",
       "      <td>0.786995</td>\n",
       "      <td>0.064000</td>\n",
       "    </tr>\n",
       "  </tbody>\n",
       "</table>\n",
       "</div>"
      ],
      "text/plain": [
       "            const  TOEFL Score     LOR      CGPA  Research_yes      ssr  \\\n",
       "alpha*                                                                    \n",
       "0.000100 0.413926     0.106949 0.072874 0.379962      0.030588 1.151116   \n",
       "0.000200 0.414505     0.106454 0.072651 0.379335      0.030671 1.151179   \n",
       "0.000300 0.415083     0.105959 0.072428 0.378708      0.030755 1.151284   \n",
       "0.000400 0.415662     0.105464 0.072206 0.378081      0.030838 1.151430   \n",
       "0.000500 0.416241     0.104969 0.071983 0.377454      0.030922 1.151618   \n",
       "\n",
       "          R squared  Adj. R squared     RMSE  \n",
       "alpha*                                        \n",
       "0.000100   0.789965        0.787088 0.064000  \n",
       "0.000200   0.789953        0.787076 0.064000  \n",
       "0.000300   0.789934        0.787057 0.064000  \n",
       "0.000400   0.789908        0.787030 0.064000  \n",
       "0.000500   0.789873        0.786995 0.064000  "
      ]
     },
     "execution_count": 106,
     "metadata": {},
     "output_type": "execute_result"
    }
   ],
   "source": [
    "# create an empty list\n",
    "frames = []\n",
    "\n",
    "# a 'for' loop for values of alpha in a given range\n",
    "# the loop prepares a table of regression coefficients for different values of alpha\n",
    "# the values of alpha are given to be  0.0001, 0.0002 ,0.0003, 0.0004 ,0.0005 to 0.0199\n",
    "for n in np.arange(0.0001, 0.02, 0.0001).tolist():\n",
    "    \n",
    "    # fit a lasso regression to the linear model built using OLS\n",
    "    # L1_wt=1: conducts lasso regression\n",
    "    # alpha: specifies the alpha value\n",
    "    # start_params: starting values for patameters\n",
    "    results_fr = lasso_regression.fit_regularized(L1_wt=1, alpha=n, start_params=results_fu.params)\n",
    "     \n",
    "    # fit the model \n",
    "    # model: specifies the regression model\n",
    "    # params: specifies the estimated parameters\n",
    "    # normalized_cov_params: specifies the normalized covariance parameters\n",
    "    results_fr_fit = sm.regression.linear_model.OLSResults(model=lasso_regression, \n",
    "                                                params=results_fr.params, \n",
    "                                                normalized_cov_params=lasso_regression.normalized_cov_params)\n",
    "    \n",
    "    # calculate the rmse\n",
    "    # predict the claim on test data\n",
    "    results_fr_fit_predictions = results_fr_fit.predict(X_test3)\n",
    "    \n",
    "    # obtain the rmse\n",
    "    # obtain the rmse\n",
    "    mse_test=round(mean_squared_error(y_test3,results_fr_fit_predictions),4)\n",
    "    results_fr_fit_rmse=round(np.sqrt(mse_test),4)  \n",
    "  \n",
    "    # compile the necessary metrics used for comparing the models\n",
    "    list_metric = [results_fr_fit.ssr, results_fr_fit.rsquared, results_fr_fit.rsquared_adj, results_fr_fit_rmse]\n",
    "    \n",
    "    # append the empty list \n",
    "    frames.append(np.append(results_fr.params, list_metric))\n",
    "    \n",
    "    # convert the list to a dataframe\n",
    "    df_params = pd.DataFrame(frames, columns= col)\n",
    "\n",
    "# add column names to the dataframe    \n",
    "df_params.index=np.arange(0.0001, 0.02, 0.0001).tolist()\n",
    "\n",
    "# add the first column name alpha to the data frame\n",
    "# this column will hold the regularization parameter value which can be anything from zero to any positive number\n",
    "df_params.index.name = 'alpha*'\n",
    "\n",
    "# display output\n",
    "df_params.head()"
   ]
  },
  {
   "cell_type": "markdown",
   "metadata": {},
   "source": [
    "Let us compare the results for low and high values of alpha"
   ]
  },
  {
   "cell_type": "code",
   "execution_count": 107,
   "metadata": {},
   "outputs": [
    {
     "data": {
      "text/html": [
       "<div>\n",
       "<style scoped>\n",
       "    .dataframe tbody tr th:only-of-type {\n",
       "        vertical-align: middle;\n",
       "    }\n",
       "\n",
       "    .dataframe tbody tr th {\n",
       "        vertical-align: top;\n",
       "    }\n",
       "\n",
       "    .dataframe thead th {\n",
       "        text-align: right;\n",
       "    }\n",
       "</style>\n",
       "<table border=\"1\" class=\"dataframe\">\n",
       "  <thead>\n",
       "    <tr style=\"text-align: right;\">\n",
       "      <th></th>\n",
       "      <th>const</th>\n",
       "      <th>TOEFL Score</th>\n",
       "      <th>LOR</th>\n",
       "      <th>CGPA</th>\n",
       "      <th>Research_yes</th>\n",
       "      <th>ssr</th>\n",
       "      <th>R squared</th>\n",
       "      <th>Adj. R squared</th>\n",
       "      <th>RMSE</th>\n",
       "    </tr>\n",
       "    <tr>\n",
       "      <th>alpha*</th>\n",
       "      <th></th>\n",
       "      <th></th>\n",
       "      <th></th>\n",
       "      <th></th>\n",
       "      <th></th>\n",
       "      <th></th>\n",
       "      <th></th>\n",
       "      <th></th>\n",
       "      <th></th>\n",
       "    </tr>\n",
       "  </thead>\n",
       "  <tbody>\n",
       "    <tr>\n",
       "      <th>0.000100</th>\n",
       "      <td>0.413926</td>\n",
       "      <td>0.106949</td>\n",
       "      <td>0.072874</td>\n",
       "      <td>0.379962</td>\n",
       "      <td>0.030588</td>\n",
       "      <td>1.151116</td>\n",
       "      <td>0.789965</td>\n",
       "      <td>0.787088</td>\n",
       "      <td>0.064000</td>\n",
       "    </tr>\n",
       "    <tr>\n",
       "      <th>0.000200</th>\n",
       "      <td>0.414505</td>\n",
       "      <td>0.106454</td>\n",
       "      <td>0.072651</td>\n",
       "      <td>0.379335</td>\n",
       "      <td>0.030671</td>\n",
       "      <td>1.151179</td>\n",
       "      <td>0.789953</td>\n",
       "      <td>0.787076</td>\n",
       "      <td>0.064000</td>\n",
       "    </tr>\n",
       "    <tr>\n",
       "      <th>0.019800</th>\n",
       "      <td>0.525488</td>\n",
       "      <td>0.000000</td>\n",
       "      <td>0.042157</td>\n",
       "      <td>0.256987</td>\n",
       "      <td>0.046613</td>\n",
       "      <td>1.954845</td>\n",
       "      <td>0.643315</td>\n",
       "      <td>0.638429</td>\n",
       "      <td>0.084300</td>\n",
       "    </tr>\n",
       "    <tr>\n",
       "      <th>0.019900</th>\n",
       "      <td>0.525984</td>\n",
       "      <td>0.000000</td>\n",
       "      <td>0.041994</td>\n",
       "      <td>0.255933</td>\n",
       "      <td>0.046687</td>\n",
       "      <td>1.962499</td>\n",
       "      <td>0.641918</td>\n",
       "      <td>0.637013</td>\n",
       "      <td>0.084900</td>\n",
       "    </tr>\n",
       "  </tbody>\n",
       "</table>\n",
       "</div>"
      ],
      "text/plain": [
       "            const  TOEFL Score     LOR      CGPA  Research_yes      ssr  \\\n",
       "alpha*                                                                    \n",
       "0.000100 0.413926     0.106949 0.072874 0.379962      0.030588 1.151116   \n",
       "0.000200 0.414505     0.106454 0.072651 0.379335      0.030671 1.151179   \n",
       "0.019800 0.525488     0.000000 0.042157 0.256987      0.046613 1.954845   \n",
       "0.019900 0.525984     0.000000 0.041994 0.255933      0.046687 1.962499   \n",
       "\n",
       "          R squared  Adj. R squared     RMSE  \n",
       "alpha*                                        \n",
       "0.000100   0.789965        0.787088 0.064000  \n",
       "0.000200   0.789953        0.787076 0.064000  \n",
       "0.019800   0.643315        0.638429 0.084300  \n",
       "0.019900   0.641918        0.637013 0.084900  "
      ]
     },
     "execution_count": 107,
     "metadata": {},
     "output_type": "execute_result"
    }
   ],
   "source": [
    "# call the first two rows and last two rows\n",
    "df_params.iloc[[0,1,-2,-1]]"
   ]
  },
  {
   "cell_type": "markdown",
   "metadata": {},
   "source": [
    "<table align=\"left\">\n",
    "    <tr>\n",
    "        <td width=\"8%\">\n",
    "            <img src=\"solution.png\">\n",
    "        </td>\n",
    "        <td>\n",
    "            <div align=\"left\", style=\"font-size:120%\">\n",
    "                <font color=\"#21618C\">\n",
    "                    <b>The sum of squares of residual, increases with increase in alpha, this reduces model complexity. Compare the coefficients in the first to the second row of this table, there is a drastic change in the magnitude of coefficients. Similar change is seen on comparing rows 2 and 3. However, there is not much change in rows 3 and 4. High alpha values can lead to significant underfitting. Note the rapid increase in residual sum of squares<br><br>\n",
    "                                         \n",
    "</b>\n",
    "                </font>\n",
    "            </div>\n",
    "        </td>\n",
    "    </tr>\n",
    "</table>\n",
    "\n",
    "\n",
    "\n",
    "\n"
   ]
  },
  {
   "cell_type": "markdown",
   "metadata": {},
   "source": [
    "**3. Find the alpha for which RMSE is minimum**\n",
    "\n",
    "Now to know which model performs the best, we find the alpha value which has lowest root mean squared error"
   ]
  },
  {
   "cell_type": "code",
   "execution_count": 108,
   "metadata": {},
   "outputs": [
    {
     "name": "stdout",
     "output_type": "stream",
     "text": [
      "The required alpha is 0.0001 \n"
     ]
    }
   ],
   "source": [
    "# find the alpha value for which RMSE is minimum\n",
    "# from the column EMSE of df_params obtain the minimum value of RMSE\n",
    "# .index.tolist(): gets the corresponding index value, i.e. the alpha value\n",
    "alpha = df_params.RMSE[df_params.RMSE == df_params.loc[:,'RMSE'].min()].index.tolist()\n",
    "\n",
    "# print the conclusion\n",
    "print('The required alpha is %.4f ' % (alpha[0]))"
   ]
  },
  {
   "cell_type": "markdown",
   "metadata": {},
   "source": [
    "We may say the model obtained by alpha = 0.0001 is performing the best."
   ]
  },
  {
   "cell_type": "markdown",
   "metadata": {},
   "source": [
    "**In lasso regression, coefficients may be zero. This can be checked by the following code**"
   ]
  },
  {
   "cell_type": "code",
   "execution_count": 109,
   "metadata": {
    "scrolled": true
   },
   "outputs": [
    {
     "data": {
      "text/plain": [
       "alpha*\n",
       "0.000100    0\n",
       "0.000200    0\n",
       "0.000300    0\n",
       "0.000400    0\n",
       "0.000500    0\n",
       "0.000600    0\n",
       "0.000700    0\n",
       "0.000800    0\n",
       "0.000900    0\n",
       "0.001000    0\n",
       "0.001100    0\n",
       "0.001200    0\n",
       "0.001300    0\n",
       "0.001400    0\n",
       "0.001500    0\n",
       "0.001600    0\n",
       "0.001700    0\n",
       "0.001800    0\n",
       "0.001900    0\n",
       "0.002000    0\n",
       "0.002100    0\n",
       "0.002200    0\n",
       "0.002300    0\n",
       "0.002400    0\n",
       "0.002500    0\n",
       "0.002600    0\n",
       "0.002700    0\n",
       "0.002800    0\n",
       "0.002900    0\n",
       "0.003000    0\n",
       "0.003100    0\n",
       "0.003200    0\n",
       "0.003300    0\n",
       "0.003400    0\n",
       "0.003500    0\n",
       "0.003600    0\n",
       "0.003700    0\n",
       "0.003800    0\n",
       "0.003900    0\n",
       "0.004000    0\n",
       "0.004100    0\n",
       "0.004200    0\n",
       "0.004300    0\n",
       "0.004400    0\n",
       "0.004500    0\n",
       "0.004600    0\n",
       "0.004700    0\n",
       "0.004800    0\n",
       "0.004900    0\n",
       "0.005000    0\n",
       "0.005100    0\n",
       "0.005200    0\n",
       "0.005300    0\n",
       "0.005400    0\n",
       "0.005500    0\n",
       "0.005600    0\n",
       "0.005700    0\n",
       "0.005800    0\n",
       "0.005900    0\n",
       "0.006000    0\n",
       "0.006100    0\n",
       "0.006200    0\n",
       "0.006300    0\n",
       "0.006400    0\n",
       "0.006500    0\n",
       "0.006600    0\n",
       "0.006700    0\n",
       "0.006800    0\n",
       "0.006900    0\n",
       "0.007000    0\n",
       "0.007100    0\n",
       "0.007200    0\n",
       "0.007300    0\n",
       "0.007400    0\n",
       "0.007500    0\n",
       "0.007600    0\n",
       "0.007700    0\n",
       "0.007800    0\n",
       "0.007900    0\n",
       "0.008000    0\n",
       "0.008100    0\n",
       "0.008200    0\n",
       "0.008300    0\n",
       "0.008400    0\n",
       "0.008500    0\n",
       "0.008600    0\n",
       "0.008700    0\n",
       "0.008800    0\n",
       "0.008900    0\n",
       "0.009000    0\n",
       "0.009100    0\n",
       "0.009200    0\n",
       "0.009300    0\n",
       "0.009400    0\n",
       "0.009500    0\n",
       "0.009600    0\n",
       "0.009700    0\n",
       "0.009800    0\n",
       "0.009900    0\n",
       "0.010000    0\n",
       "0.010100    0\n",
       "0.010200    0\n",
       "0.010300    0\n",
       "0.010400    0\n",
       "0.010500    0\n",
       "0.010600    0\n",
       "0.010700    0\n",
       "0.010800    0\n",
       "0.010900    0\n",
       "0.011000    0\n",
       "0.011100    0\n",
       "0.011200    0\n",
       "0.011300    0\n",
       "0.011400    0\n",
       "0.011500    0\n",
       "0.011600    0\n",
       "0.011700    0\n",
       "0.011800    0\n",
       "0.011900    0\n",
       "0.012000    0\n",
       "0.012100    0\n",
       "0.012200    0\n",
       "0.012300    0\n",
       "0.012400    0\n",
       "0.012500    0\n",
       "0.012600    0\n",
       "0.012700    0\n",
       "0.012800    0\n",
       "0.012900    0\n",
       "0.013000    0\n",
       "0.013100    0\n",
       "0.013200    0\n",
       "0.013300    0\n",
       "0.013400    0\n",
       "0.013500    0\n",
       "0.013600    0\n",
       "0.013700    1\n",
       "0.013800    1\n",
       "0.013900    1\n",
       "0.014000    1\n",
       "0.014100    1\n",
       "0.014200    1\n",
       "0.014300    1\n",
       "0.014400    1\n",
       "0.014500    1\n",
       "0.014600    1\n",
       "0.014700    1\n",
       "0.014800    1\n",
       "0.014900    1\n",
       "0.015000    1\n",
       "0.015100    1\n",
       "0.015200    1\n",
       "0.015300    1\n",
       "0.015400    1\n",
       "0.015500    1\n",
       "0.015600    1\n",
       "0.015700    1\n",
       "0.015800    1\n",
       "0.015900    1\n",
       "0.016000    1\n",
       "0.016100    1\n",
       "0.016200    1\n",
       "0.016300    1\n",
       "0.016400    1\n",
       "0.016500    1\n",
       "0.016600    1\n",
       "0.016700    1\n",
       "0.016800    1\n",
       "0.016900    1\n",
       "0.017000    1\n",
       "0.017100    1\n",
       "0.017200    1\n",
       "0.017300    1\n",
       "0.017400    1\n",
       "0.017500    1\n",
       "0.017600    1\n",
       "0.017700    1\n",
       "0.017800    1\n",
       "0.017900    1\n",
       "0.018000    1\n",
       "0.018100    1\n",
       "0.018200    1\n",
       "0.018300    1\n",
       "0.018400    1\n",
       "0.018500    1\n",
       "0.018600    1\n",
       "0.018700    1\n",
       "0.018800    1\n",
       "0.018900    1\n",
       "0.019000    1\n",
       "0.019100    1\n",
       "0.019200    1\n",
       "0.019300    1\n",
       "0.019400    1\n",
       "0.019500    1\n",
       "0.019600    1\n",
       "0.019700    1\n",
       "0.019800    1\n",
       "0.019900    1\n",
       "dtype: int64"
      ]
     },
     "execution_count": 109,
     "metadata": {},
     "output_type": "execute_result"
    }
   ],
   "source": [
    "# check for zeros in the above coefficients table\n",
    "df_params.apply(lambda x: sum(x.values==0),axis=1)#.head()"
   ]
  },
  {
   "cell_type": "markdown",
   "metadata": {},
   "source": [
    "<table align=\"left\">\n",
    "    <tr>\n",
    "        <td width=\"8%\">\n",
    "            <img src=\"solution.png\">\n",
    "        </td>\n",
    "        <td>\n",
    "            <div align=\"left\", style=\"font-size:120%\">\n",
    "                <font color=\"#21618C\">\n",
    "                    <b>For all alpha values, the corresponding value is zero which implies there are no coefficients with value zero. This happened since the number of variables considered in the data are less. Also only significant variables are considered. However, if we had considered a dataset with many variables (both significant and insignificant) then lasso regression and ridge regression would have shown significant performance.\n",
    "               \n",
    "</b>\n",
    "                </font>\n",
    "            </div>\n",
    "        </td>\n",
    "    </tr>\n",
    "</table>"
   ]
  },
  {
   "cell_type": "markdown",
   "metadata": {},
   "source": [
    "**4. Fit a lasso model by substituting the alpha value obtained in step 3**"
   ]
  },
  {
   "cell_type": "code",
   "execution_count": 110,
   "metadata": {
    "scrolled": false
   },
   "outputs": [
    {
     "name": "stdout",
     "output_type": "stream",
     "text": [
      "                            OLS Regression Results                            \n",
      "==============================================================================\n",
      "Dep. Variable:        Chance of Admit   R-squared:                       0.790\n",
      "Model:                            OLS   Adj. R-squared:                  0.787\n",
      "Method:                 Least Squares   F-statistic:                     274.6\n",
      "Date:                Sun, 16 May 2021   Prob (F-statistic):           1.32e-97\n",
      "Time:                        19:59:30   Log-Likelihood:                 403.20\n",
      "No. Observations:                 297   AIC:                            -796.4\n",
      "Df Residuals:                     292   BIC:                            -777.9\n",
      "Df Model:                           4                                         \n",
      "Covariance Type:            nonrobust                                         \n",
      "================================================================================\n",
      "                   coef    std err          t      P>|t|      [0.025      0.975]\n",
      "--------------------------------------------------------------------------------\n",
      "const            0.4139      0.011     38.108      0.000       0.393       0.435\n",
      "TOEFL Score      0.1069      0.031      3.488      0.001       0.047       0.167\n",
      "LOR              0.0729      0.019      3.918      0.000       0.036       0.109\n",
      "CGPA             0.3800      0.034     11.095      0.000       0.313       0.447\n",
      "Research_yes     0.0306      0.008      3.599      0.000       0.014       0.047\n",
      "==============================================================================\n",
      "Omnibus:                       57.819   Durbin-Watson:                   1.776\n",
      "Prob(Omnibus):                  0.000   Jarque-Bera (JB):              105.747\n",
      "Skew:                          -1.048   Prob(JB):                     1.09e-23\n",
      "Kurtosis:                       5.038   Cond. No.                         17.9\n",
      "==============================================================================\n",
      "\n",
      "Notes:\n",
      "[1] Standard Errors assume that the covariance matrix of the errors is correctly specified.\n"
     ]
    }
   ],
   "source": [
    "# fit the lasso regression model\n",
    "# L1_wt=1: conducts lasso regression\n",
    "# alpha: specifies the alpha value\n",
    "# start_params: starting values for patameters\n",
    "results_fr = lasso_regression.fit_regularized(L1_wt=1, alpha=0.0001, start_params=results_fu.params)\n",
    "\n",
    "# fit the lasso regression \n",
    "# model: specifies the regression model\n",
    "# params: specifies the estimated parameters\n",
    "# normalized_cov_params: specifies the normalized covariance parameters\n",
    "lasso_regression_best = sm.regression.linear_model.OLSResults(model=lasso_regression, \n",
    "                                              params=results_fr.params, \n",
    "                                              normalized_cov_params=lasso_regression.normalized_cov_params)\n",
    "\n",
    "# print the summary output\n",
    "print (lasso_regression_best.summary())"
   ]
  },
  {
   "cell_type": "markdown",
   "metadata": {},
   "source": [
    "<table align=\"left\">\n",
    "    <tr>\n",
    "        <td width=\"8%\">\n",
    "            <img src=\"solution.png\">\n",
    "        </td>\n",
    "        <td>\n",
    "            <div align=\"left\", style=\"font-size:120%\">\n",
    "                <font color=\"#21618C\">\n",
    "                    <b>This model explains 79% of the variation in dependent variable chance of admit. The Durbin-Watson test statistics is 1.776 and indicates that there is no autocorrelation. The Condition Number is 17.9 suggests that there is no multicollinearity.\n",
    "</b>\n",
    "                </font>\n",
    "            </div>\n",
    "        </td>\n",
    "    </tr>\n",
    "</table>"
   ]
  },
  {
   "cell_type": "markdown",
   "metadata": {},
   "source": [
    "**5. Compute model accuracy measures**\n",
    "\n",
    "Now we calculate accuray measures Root-mean-square-error (RMSE)"
   ]
  },
  {
   "cell_type": "code",
   "execution_count": 111,
   "metadata": {},
   "outputs": [
    {
     "name": "stdout",
     "output_type": "stream",
     "text": [
      "RMSE on train set:  0.0623\n",
      "RMSE on test set:  0.0643\n",
      "Difference between RMSE on train and test set:  0.001999999999999995\n"
     ]
    }
   ],
   "source": [
    "# print training RMSE\n",
    "print('RMSE on train set: ', get_train_rmse(lasso_regression_best,X_train3,y_train3))\n",
    "\n",
    "# print training RMSE\n",
    "print('RMSE on test set: ', get_test_rmse(lasso_regression_best,X_test3,y_test3))\n",
    "\n",
    "# calculate the difference between train and test set RMSE\n",
    "difference = abs(get_test_rmse(lasso_regression_best,X_train3,y_train3) - get_train_rmse(lasso_regression_best,X_test3,y_test3))\n",
    "\n",
    "# print the difference between train and test set RMSE\n",
    "print('Difference between RMSE on train and test set: ', difference)"
   ]
  },
  {
   "cell_type": "markdown",
   "metadata": {},
   "source": [
    "**6. Graph Representation**"
   ]
  },
  {
   "cell_type": "code",
   "execution_count": 112,
   "metadata": {},
   "outputs": [
    {
     "data": {
      "image/png": "[encoded data removed]",
      "text/plain": [
       "<Figure size 864x360 with 2 Axes>"
      ]
     },
     "metadata": {
      "needs_background": "light"
     },
     "output_type": "display_data"
    }
   ],
   "source": [
    "# subplot() is used to plot the multiple plots as a subplot\n",
    "# (1,2) plots a subplot of one row and two columns\n",
    "# pass the index of the plot as the third parameter of subplot()\n",
    "plt.figure(figsize=(12,5))\n",
    "plt.subplot(1,2,1)\n",
    "plot_coefficients(linreg_model_backforward, 'Linear Regression (OLS)')\n",
    "\n",
    "# pass the index of the plot as the third parameter of subplot()\n",
    "plt.subplot(1,2,2)\n",
    "plot_coefficients(lasso_regression_best, 'Lasso Regression')\n",
    "\n",
    "# to adjust the subplots\n",
    "plt.tight_layout()\n",
    "\n",
    "# display the plot\n",
    "plt.show()"
   ]
  },
  {
   "cell_type": "markdown",
   "metadata": {},
   "source": [
    "**7. Tabulate the results**"
   ]
  },
  {
   "cell_type": "code",
   "execution_count": 113,
   "metadata": {},
   "outputs": [
    {
     "data": {
      "text/html": [
       "<div>\n",
       "<style scoped>\n",
       "    .dataframe tbody tr th:only-of-type {\n",
       "        vertical-align: middle;\n",
       "    }\n",
       "\n",
       "    .dataframe tbody tr th {\n",
       "        vertical-align: top;\n",
       "    }\n",
       "\n",
       "    .dataframe thead th {\n",
       "        text-align: right;\n",
       "    }\n",
       "</style>\n",
       "<table border=\"1\" class=\"dataframe\">\n",
       "  <thead>\n",
       "    <tr style=\"text-align: right;\">\n",
       "      <th></th>\n",
       "      <th>Model_Name</th>\n",
       "      <th>Alpha (Wherever Required)</th>\n",
       "      <th>l1-ratio</th>\n",
       "      <th>R-Squared</th>\n",
       "      <th>Adj. R-Squared</th>\n",
       "      <th>Train_RMSE</th>\n",
       "      <th>Test_RMSE</th>\n",
       "    </tr>\n",
       "  </thead>\n",
       "  <tbody>\n",
       "    <tr>\n",
       "      <th>0</th>\n",
       "      <td>Linear Regression using Feature Scaling</td>\n",
       "      <td>-</td>\n",
       "      <td>-</td>\n",
       "      <td>0.784622</td>\n",
       "      <td>0.778193</td>\n",
       "      <td>0.064500</td>\n",
       "      <td>0.056900</td>\n",
       "    </tr>\n",
       "    <tr>\n",
       "      <th>1</th>\n",
       "      <td>Linear Regression with significant variables</td>\n",
       "      <td>-</td>\n",
       "      <td>-</td>\n",
       "      <td>0.790988</td>\n",
       "      <td>0.787397</td>\n",
       "      <td>0.062100</td>\n",
       "      <td>0.064500</td>\n",
       "    </tr>\n",
       "    <tr>\n",
       "      <th>2</th>\n",
       "      <td>Linear Regression using backward elimination</td>\n",
       "      <td>-</td>\n",
       "      <td>-</td>\n",
       "      <td>0.789969</td>\n",
       "      <td>0.786360</td>\n",
       "      <td>0.062300</td>\n",
       "      <td>0.064300</td>\n",
       "    </tr>\n",
       "    <tr>\n",
       "      <th>3</th>\n",
       "      <td>Linear Regression (using SGD)</td>\n",
       "      <td>-</td>\n",
       "      <td>-</td>\n",
       "      <td>0.768092</td>\n",
       "      <td>0.755623</td>\n",
       "      <td>0.072100</td>\n",
       "      <td>0.070300</td>\n",
       "    </tr>\n",
       "    <tr>\n",
       "      <th>4</th>\n",
       "      <td>Linear Regression (using SGD)</td>\n",
       "      <td>-</td>\n",
       "      <td>-</td>\n",
       "      <td>0.768092</td>\n",
       "      <td>0.755623</td>\n",
       "      <td>0.072100</td>\n",
       "      <td>0.070300</td>\n",
       "    </tr>\n",
       "    <tr>\n",
       "      <th>5</th>\n",
       "      <td>Ridge Regression</td>\n",
       "      <td>0.0001</td>\n",
       "      <td>0</td>\n",
       "      <td>0.789964</td>\n",
       "      <td>0.786356</td>\n",
       "      <td>0.062300</td>\n",
       "      <td>0.064200</td>\n",
       "    </tr>\n",
       "    <tr>\n",
       "      <th>6</th>\n",
       "      <td>Lasso Regression</td>\n",
       "      <td>0.0001</td>\n",
       "      <td>1</td>\n",
       "      <td>0.789965</td>\n",
       "      <td>0.786356</td>\n",
       "      <td>0.062300</td>\n",
       "      <td>0.064300</td>\n",
       "    </tr>\n",
       "  </tbody>\n",
       "</table>\n",
       "</div>"
      ],
      "text/plain": [
       "                                     Model_Name Alpha (Wherever Required)  \\\n",
       "0       Linear Regression using Feature Scaling                         -   \n",
       "1  Linear Regression with significant variables                         -   \n",
       "2  Linear Regression using backward elimination                         -   \n",
       "3                 Linear Regression (using SGD)                         -   \n",
       "4                 Linear Regression (using SGD)                         -   \n",
       "5                              Ridge Regression                    0.0001   \n",
       "6                              Lasso Regression                    0.0001   \n",
       "\n",
       "  l1-ratio  R-Squared  Adj. R-Squared  Train_RMSE  Test_RMSE  \n",
       "0        -   0.784622        0.778193    0.064500   0.056900  \n",
       "1        -   0.790988        0.787397    0.062100   0.064500  \n",
       "2        -   0.789969        0.786360    0.062300   0.064300  \n",
       "3        -   0.768092        0.755623    0.072100   0.070300  \n",
       "4        -   0.768092        0.755623    0.072100   0.070300  \n",
       "5        0   0.789964        0.786356    0.062300   0.064200  \n",
       "6        1   0.789965        0.786356    0.062300   0.064300  "
      ]
     },
     "execution_count": 113,
     "metadata": {},
     "output_type": "execute_result"
    }
   ],
   "source": [
    "# update the dataframe 'score_card'\n",
    "update_score_card(xtrain=X_train3,ytrain=y_train3,xtest=X_test3,ytest=y_test3,algorithm_name = 'Lasso Regression', model = lasso_regression_best, alpha = '0.0001', l1_ratio = '1')\n",
    "\n",
    "# print the datarframe\n",
    "score_card"
   ]
  },
  {
   "cell_type": "markdown",
   "metadata": {},
   "source": [
    "<table align=\"left\">\n",
    "    <tr>\n",
    "        <td width=\"8%\">\n",
    "            <img src=\"solution.png\">\n",
    "        </td>\n",
    "        <td>\n",
    "            <div align=\"left\", style=\"font-size:120%\">\n",
    "                <font color=\"#21618C\">\n",
    "                    <b>Notice that RMSE, R-squared and Adjusted R-squared values are the slightly different for ridge and lasso regression.\n",
    "</b>\n",
    "                </font>\n",
    "            </div>\n",
    "        </td>\n",
    "    </tr>\n",
    "</table>"
   ]
  },
  {
   "cell_type": "markdown",
   "metadata": {},
   "source": [
    "<a id='Ridge_Regression'></a>\n",
    "### 7.3.3 Elastic net Regression (OLS)\n",
    "In statistics, fitting of linear regression models, the elastic net is a regularized regression method that linearly combines the L1 and L2 penalties of the lasso and ridge methods. The model is trained using both L1 & L2 that allows learning of sparse model where few entries are zero similar to Lasso and also maintaining the regularization properties similar to ridge regression."
   ]
  },
  {
   "cell_type": "markdown",
   "metadata": {},
   "source": [
    "<table align=\"left\">\n",
    "    <tr>\n",
    "        <td width=\"8%\">\n",
    "            <img src=\"read1.png\">\n",
    "        </td>\n",
    "        <td>\n",
    "            <div align=\"left\", style=\"font-size:120%\">\n",
    "                <font color=\"#21618C\">\n",
    "                    <b> Now we perform elastic net regression. We start with our original data set and gradually proceeding with our analysis<br><br>\n",
    "                        In order to perform elastic net regression, we do the following:<br>\n",
    "                        1. Fit a regression model using OLS method <br>\n",
    "                        2. Use GridsearchCV to find the best penalty term<br>\n",
    "                        3. For different values of alpha create a tabular representation of parameter estimates and accuracy meterics<br>\n",
    "                        4. Find the alpha for which RMSE is minimum<br>\n",
    "                        5. Fit a elastic net model by substituting the alpha value obtained in step 4<br>\n",
    "                        6. Compute accuracy measures <br>\n",
    "                        7. Graph Representation <br>\n",
    "                        8. Tabulate the results <br>\n",
    "</b>\n",
    "                </font>\n",
    "            </div>\n",
    "        </td>\n",
    "    </tr>\n",
    "</table>\n"
   ]
  },
  {
   "cell_type": "markdown",
   "metadata": {},
   "source": [
    "**1. Fit a regression model using OLS method**"
   ]
  },
  {
   "cell_type": "code",
   "execution_count": 114,
   "metadata": {},
   "outputs": [],
   "source": [
    "# build a OLS model using OLS()\n",
    "elastic_net_regression = sm.OLS(y_train3, X_train3)\n",
    "\n",
    "# the fitted elastic net model\n",
    "results_fu = elastic_net_regression.fit()"
   ]
  },
  {
   "cell_type": "markdown",
   "metadata": {},
   "source": [
    "**2. Use GridsearchCV to find the best penalty term**"
   ]
  },
  {
   "cell_type": "markdown",
   "metadata": {},
   "source": [
    "When the l1_ratio is set to 0 it is the same as ridge regression. When l1_ratio is set to 1 it is lasso. Elastic net is somewhere between 0 and 1 when setting the l1_ratio. Therefore, in our grid, we need to set several values of this argument. Below is the code."
   ]
  },
  {
   "cell_type": "code",
   "execution_count": 115,
   "metadata": {},
   "outputs": [],
   "source": [
    "# normalize the data which is required for elastic net\n",
    "elastic = ElasticNet(normalize=True)\n",
    "\n",
    "# use gridsearchCV to find best penalty term \n",
    "# estimator: the method used to estimate the parameter of regression\n",
    "# param_grid: dictionary with parameters names (string) as keys and lists of parameter settings to try as values\n",
    "# scoring: a single string or a callable to evaluate the predictions on the test set\n",
    "# n_jobs: number of jobs to run in parallel\n",
    "# refit: refit an estimator using the best found parameters on the whole dataset\n",
    "# CV: determines the cross-validation splitting strategy\n",
    "search = GridSearchCV(estimator=elastic, \n",
    "                      param_grid={'l1_ratio':[0.0001, 0.0002, 0.001, 0.01,0.1,.2,.4,.6,.8]},\n",
    "                      scoring='neg_mean_squared_error', \n",
    "                      n_jobs=1, \n",
    "                      refit=True, \n",
    "                      cv=10)"
   ]
  },
  {
   "cell_type": "code",
   "execution_count": 116,
   "metadata": {},
   "outputs": [
    {
     "data": {
      "text/plain": [
       "{'l1_ratio': 0.0001}"
      ]
     },
     "execution_count": 116,
     "metadata": {},
     "output_type": "execute_result"
    }
   ],
   "source": [
    "# fit the model to get best parameter\n",
    "search.fit(X_train3, y_train3)\n",
    "\n",
    "# get best parameter\n",
    "search.best_params_"
   ]
  },
  {
   "cell_type": "markdown",
   "metadata": {},
   "source": [
    "The best l1_ratio is 0.0001."
   ]
  },
  {
   "cell_type": "markdown",
   "metadata": {},
   "source": [
    "**3. For different values of alpha create a tabular representation of parameter estimates and accuracy metrics**"
   ]
  },
  {
   "cell_type": "code",
   "execution_count": 117,
   "metadata": {},
   "outputs": [
    {
     "data": {
      "text/html": [
       "<div>\n",
       "<style scoped>\n",
       "    .dataframe tbody tr th:only-of-type {\n",
       "        vertical-align: middle;\n",
       "    }\n",
       "\n",
       "    .dataframe tbody tr th {\n",
       "        vertical-align: top;\n",
       "    }\n",
       "\n",
       "    .dataframe thead th {\n",
       "        text-align: right;\n",
       "    }\n",
       "</style>\n",
       "<table border=\"1\" class=\"dataframe\">\n",
       "  <thead>\n",
       "    <tr style=\"text-align: right;\">\n",
       "      <th></th>\n",
       "      <th>const</th>\n",
       "      <th>TOEFL Score</th>\n",
       "      <th>LOR</th>\n",
       "      <th>CGPA</th>\n",
       "      <th>Research_yes</th>\n",
       "      <th>ssr</th>\n",
       "      <th>R squared</th>\n",
       "      <th>Adj. R squared</th>\n",
       "      <th>RMSE</th>\n",
       "    </tr>\n",
       "    <tr>\n",
       "      <th>alpha*</th>\n",
       "      <th></th>\n",
       "      <th></th>\n",
       "      <th></th>\n",
       "      <th></th>\n",
       "      <th></th>\n",
       "      <th></th>\n",
       "      <th></th>\n",
       "      <th></th>\n",
       "      <th></th>\n",
       "    </tr>\n",
       "  </thead>\n",
       "  <tbody>\n",
       "    <tr>\n",
       "      <th>0.000100</th>\n",
       "      <td>0.413237</td>\n",
       "      <td>0.109038</td>\n",
       "      <td>0.073670</td>\n",
       "      <td>0.378216</td>\n",
       "      <td>0.030675</td>\n",
       "      <td>1.151115</td>\n",
       "      <td>0.789965</td>\n",
       "      <td>0.787088</td>\n",
       "      <td>0.064000</td>\n",
       "    </tr>\n",
       "    <tr>\n",
       "      <th>0.010100</th>\n",
       "      <td>0.401906</td>\n",
       "      <td>0.175060</td>\n",
       "      <td>0.112909</td>\n",
       "      <td>0.267036</td>\n",
       "      <td>0.041823</td>\n",
       "      <td>1.207062</td>\n",
       "      <td>0.779757</td>\n",
       "      <td>0.776740</td>\n",
       "      <td>0.064000</td>\n",
       "    </tr>\n",
       "    <tr>\n",
       "      <th>0.020100</th>\n",
       "      <td>0.394578</td>\n",
       "      <td>0.184901</td>\n",
       "      <td>0.129933</td>\n",
       "      <td>0.235948</td>\n",
       "      <td>0.049827</td>\n",
       "      <td>1.263982</td>\n",
       "      <td>0.769371</td>\n",
       "      <td>0.766212</td>\n",
       "      <td>0.064800</td>\n",
       "    </tr>\n",
       "    <tr>\n",
       "      <th>0.030100</th>\n",
       "      <td>0.388562</td>\n",
       "      <td>0.187789</td>\n",
       "      <td>0.139772</td>\n",
       "      <td>0.219432</td>\n",
       "      <td>0.056473</td>\n",
       "      <td>1.321530</td>\n",
       "      <td>0.758871</td>\n",
       "      <td>0.755568</td>\n",
       "      <td>0.066300</td>\n",
       "    </tr>\n",
       "    <tr>\n",
       "      <th>0.040100</th>\n",
       "      <td>0.382885</td>\n",
       "      <td>0.188601</td>\n",
       "      <td>0.146543</td>\n",
       "      <td>0.209005</td>\n",
       "      <td>0.062190</td>\n",
       "      <td>1.382946</td>\n",
       "      <td>0.747665</td>\n",
       "      <td>0.744208</td>\n",
       "      <td>0.067800</td>\n",
       "    </tr>\n",
       "  </tbody>\n",
       "</table>\n",
       "</div>"
      ],
      "text/plain": [
       "            const  TOEFL Score     LOR      CGPA  Research_yes      ssr  \\\n",
       "alpha*                                                                    \n",
       "0.000100 0.413237     0.109038 0.073670 0.378216      0.030675 1.151115   \n",
       "0.010100 0.401906     0.175060 0.112909 0.267036      0.041823 1.207062   \n",
       "0.020100 0.394578     0.184901 0.129933 0.235948      0.049827 1.263982   \n",
       "0.030100 0.388562     0.187789 0.139772 0.219432      0.056473 1.321530   \n",
       "0.040100 0.382885     0.188601 0.146543 0.209005      0.062190 1.382946   \n",
       "\n",
       "          R squared  Adj. R squared     RMSE  \n",
       "alpha*                                        \n",
       "0.000100   0.789965        0.787088 0.064000  \n",
       "0.010100   0.779757        0.776740 0.064000  \n",
       "0.020100   0.769371        0.766212 0.064800  \n",
       "0.030100   0.758871        0.755568 0.066300  \n",
       "0.040100   0.747665        0.744208 0.067800  "
      ]
     },
     "execution_count": 117,
     "metadata": {},
     "output_type": "execute_result"
    }
   ],
   "source": [
    "# create an empty list\n",
    "frames = []\n",
    "\n",
    "# a 'for' loop for values of alpha in a given range\n",
    "# the loop prepares a table of regression coefficients for different values of alpha\n",
    "# the values of alpha are given to be 0.0001, 0.0101, 0.0201 and 1.9901\n",
    "for n in np.arange(0.0001, 1.5, 0.01).tolist():\n",
    "    \n",
    "    # fitting a elastic net regression to the elastic net model built using OLS \n",
    "    # the l1_ratio is the same as l1_wt in the below function\n",
    "    # L1_wt=0.8: conducts elastic net regression\n",
    "    # alpha: specifies the alpha value\n",
    "    # start_params: starting values for patameters\n",
    "    results_fr = elastic_net_regression.fit_regularized(method='elastic_net', \n",
    "                                                        L1_wt= 0.0001, \n",
    "                                                        alpha=n, \n",
    "                                                        start_params=results_fu.params)\n",
    "     \n",
    "    # obtaining the parameters of the fitted model \n",
    "    # model: specifies the regression model\n",
    "    # params: specifies the estimated parameters\n",
    "    # normalized_cov_params: specifies the normalized covariance parameters\n",
    "    results_fr_fit = sm.regression.linear_model.OLSResults(model=elastic_net_regression, \n",
    "                                    params=results_fr.params, \n",
    "                                    normalized_cov_params=elastic_net_regression.normalized_cov_params)\n",
    "    \n",
    "    # calculate rmse\n",
    "    # call the test data\n",
    "    results_fr_fit_predictions = results_fr_fit.predict(X_test3)\n",
    "    \n",
    "    # obtain the rmse\n",
    "    mse_test=round(mean_squared_error(y_test3,results_fr_fit_predictions),4)\n",
    "    results_fr_fit_rmse=round(np.sqrt(mse_test),4)     \n",
    "  \n",
    "    # compiling the necessary metrics used for comparing the models\n",
    "    list_metric = [results_fr_fit.ssr, results_fr_fit.rsquared, results_fr_fit.rsquared_adj, results_fr_fit_rmse]\n",
    "    \n",
    "    # appending the empty list \n",
    "    frames.append(np.append(results_fr.params, list_metric))\n",
    "    \n",
    "    # converting the list to a dataframe\n",
    "    df_params = pd.DataFrame(frames, columns= col)\n",
    "\n",
    "# add column names to the dataframe    \n",
    "df_params.index=np.arange(0.0001, 1.5, 0.01).tolist()\n",
    "\n",
    "# add the first column name alpha to the data frame\n",
    "# this column will hold the regularization parameter value which can be anything from zero to any positive number\n",
    "df_params.index.name = 'alpha*'\n",
    "\n",
    "# display output\n",
    "df_params.head()"
   ]
  },
  {
   "cell_type": "code",
   "execution_count": 118,
   "metadata": {},
   "outputs": [
    {
     "data": {
      "text/html": [
       "<div>\n",
       "<style scoped>\n",
       "    .dataframe tbody tr th:only-of-type {\n",
       "        vertical-align: middle;\n",
       "    }\n",
       "\n",
       "    .dataframe tbody tr th {\n",
       "        vertical-align: top;\n",
       "    }\n",
       "\n",
       "    .dataframe thead th {\n",
       "        text-align: right;\n",
       "    }\n",
       "</style>\n",
       "<table border=\"1\" class=\"dataframe\">\n",
       "  <thead>\n",
       "    <tr style=\"text-align: right;\">\n",
       "      <th></th>\n",
       "      <th>const</th>\n",
       "      <th>TOEFL Score</th>\n",
       "      <th>LOR</th>\n",
       "      <th>CGPA</th>\n",
       "      <th>Research_yes</th>\n",
       "      <th>ssr</th>\n",
       "      <th>R squared</th>\n",
       "      <th>Adj. R squared</th>\n",
       "      <th>RMSE</th>\n",
       "    </tr>\n",
       "    <tr>\n",
       "      <th>alpha*</th>\n",
       "      <th></th>\n",
       "      <th></th>\n",
       "      <th></th>\n",
       "      <th></th>\n",
       "      <th></th>\n",
       "      <th></th>\n",
       "      <th></th>\n",
       "      <th></th>\n",
       "      <th></th>\n",
       "    </tr>\n",
       "  </thead>\n",
       "  <tbody>\n",
       "    <tr>\n",
       "      <th>0.000100</th>\n",
       "      <td>0.413237</td>\n",
       "      <td>0.109038</td>\n",
       "      <td>0.073670</td>\n",
       "      <td>0.378216</td>\n",
       "      <td>0.030675</td>\n",
       "      <td>1.151115</td>\n",
       "      <td>0.789965</td>\n",
       "      <td>0.787088</td>\n",
       "      <td>0.064000</td>\n",
       "    </tr>\n",
       "    <tr>\n",
       "      <th>0.010100</th>\n",
       "      <td>0.401906</td>\n",
       "      <td>0.175060</td>\n",
       "      <td>0.112909</td>\n",
       "      <td>0.267036</td>\n",
       "      <td>0.041823</td>\n",
       "      <td>1.207062</td>\n",
       "      <td>0.779757</td>\n",
       "      <td>0.776740</td>\n",
       "      <td>0.064000</td>\n",
       "    </tr>\n",
       "    <tr>\n",
       "      <th>1.480100</th>\n",
       "      <td>0.196939</td>\n",
       "      <td>0.112503</td>\n",
       "      <td>0.112888</td>\n",
       "      <td>0.106315</td>\n",
       "      <td>0.105162</td>\n",
       "      <td>27.041849</td>\n",
       "      <td>-3.934114</td>\n",
       "      <td>-4.001705</td>\n",
       "      <td>0.303500</td>\n",
       "    </tr>\n",
       "    <tr>\n",
       "      <th>1.490100</th>\n",
       "      <td>0.196388</td>\n",
       "      <td>0.112203</td>\n",
       "      <td>0.112595</td>\n",
       "      <td>0.106029</td>\n",
       "      <td>0.104948</td>\n",
       "      <td>27.243058</td>\n",
       "      <td>-3.970827</td>\n",
       "      <td>-4.038921</td>\n",
       "      <td>0.304600</td>\n",
       "    </tr>\n",
       "  </tbody>\n",
       "</table>\n",
       "</div>"
      ],
      "text/plain": [
       "            const  TOEFL Score     LOR      CGPA  Research_yes       ssr  \\\n",
       "alpha*                                                                     \n",
       "0.000100 0.413237     0.109038 0.073670 0.378216      0.030675  1.151115   \n",
       "0.010100 0.401906     0.175060 0.112909 0.267036      0.041823  1.207062   \n",
       "1.480100 0.196939     0.112503 0.112888 0.106315      0.105162 27.041849   \n",
       "1.490100 0.196388     0.112203 0.112595 0.106029      0.104948 27.243058   \n",
       "\n",
       "          R squared  Adj. R squared     RMSE  \n",
       "alpha*                                        \n",
       "0.000100   0.789965        0.787088 0.064000  \n",
       "0.010100   0.779757        0.776740 0.064000  \n",
       "1.480100  -3.934114       -4.001705 0.303500  \n",
       "1.490100  -3.970827       -4.038921 0.304600  "
      ]
     },
     "execution_count": 118,
     "metadata": {},
     "output_type": "execute_result"
    }
   ],
   "source": [
    "# to call the first two rows and last two rows\n",
    "df_params.iloc[[0,1,-2,-1]]"
   ]
  },
  {
   "cell_type": "markdown",
   "metadata": {},
   "source": [
    "**4. Find the alpha for which RMSE is minimum**\n",
    "\n",
    "Now to know which model performs the best, we find the alpha value which has lowest root mean squared error."
   ]
  },
  {
   "cell_type": "code",
   "execution_count": 119,
   "metadata": {},
   "outputs": [
    {
     "name": "stdout",
     "output_type": "stream",
     "text": [
      "The required alpha is 0.0001 \n"
     ]
    }
   ],
   "source": [
    "# find the alpha value for which RMSE is minimum\n",
    "# from the column EMSE of df_params obtain the minimum value of RMSE\n",
    "# .index.tolist(): gets the corresponding index value, i.e. the alpha value\n",
    "alpha = df_params.RMSE[df_params.RMSE == df_params.loc[:,'RMSE'].min()].index.tolist()\n",
    "\n",
    "# print the conclusion\n",
    "print('The required alpha is %.4f ' % (alpha[0]))"
   ]
  },
  {
   "cell_type": "markdown",
   "metadata": {},
   "source": [
    "We may say the model obtained by alpha = 0.0001 is performing the best."
   ]
  },
  {
   "cell_type": "markdown",
   "metadata": {},
   "source": [
    "**In elastic net regression, coefficients may be zero. This can be checked by the following code.**"
   ]
  },
  {
   "cell_type": "code",
   "execution_count": 120,
   "metadata": {
    "scrolled": true
   },
   "outputs": [
    {
     "data": {
      "text/plain": [
       "alpha*\n",
       "0.000100    0\n",
       "0.010100    0\n",
       "0.020100    0\n",
       "0.030100    0\n",
       "0.040100    0\n",
       "0.050100    0\n",
       "0.060100    0\n",
       "0.070100    0\n",
       "0.080100    0\n",
       "0.090100    0\n",
       "0.100100    0\n",
       "0.110100    0\n",
       "0.120100    0\n",
       "0.130100    0\n",
       "0.140100    0\n",
       "0.150100    0\n",
       "0.160100    0\n",
       "0.170100    0\n",
       "0.180100    0\n",
       "0.190100    0\n",
       "0.200100    0\n",
       "0.210100    0\n",
       "0.220100    0\n",
       "0.230100    0\n",
       "0.240100    0\n",
       "0.250100    0\n",
       "0.260100    0\n",
       "0.270100    0\n",
       "0.280100    0\n",
       "0.290100    0\n",
       "0.300100    0\n",
       "0.310100    0\n",
       "0.320100    0\n",
       "0.330100    0\n",
       "0.340100    0\n",
       "0.350100    0\n",
       "0.360100    0\n",
       "0.370100    0\n",
       "0.380100    0\n",
       "0.390100    0\n",
       "0.400100    0\n",
       "0.410100    0\n",
       "0.420100    0\n",
       "0.430100    0\n",
       "0.440100    0\n",
       "0.450100    0\n",
       "0.460100    0\n",
       "0.470100    0\n",
       "0.480100    0\n",
       "0.490100    0\n",
       "0.500100    0\n",
       "0.510100    0\n",
       "0.520100    0\n",
       "0.530100    0\n",
       "0.540100    0\n",
       "0.550100    0\n",
       "0.560100    0\n",
       "0.570100    0\n",
       "0.580100    0\n",
       "0.590100    0\n",
       "0.600100    0\n",
       "0.610100    0\n",
       "0.620100    0\n",
       "0.630100    0\n",
       "0.640100    0\n",
       "0.650100    0\n",
       "0.660100    0\n",
       "0.670100    0\n",
       "0.680100    0\n",
       "0.690100    0\n",
       "0.700100    0\n",
       "0.710100    0\n",
       "0.720100    0\n",
       "0.730100    0\n",
       "0.740100    0\n",
       "0.750100    0\n",
       "0.760100    0\n",
       "0.770100    0\n",
       "0.780100    0\n",
       "0.790100    0\n",
       "0.800100    0\n",
       "0.810100    0\n",
       "0.820100    0\n",
       "0.830100    0\n",
       "0.840100    0\n",
       "0.850100    0\n",
       "0.860100    0\n",
       "0.870100    0\n",
       "0.880100    0\n",
       "0.890100    0\n",
       "0.900100    0\n",
       "0.910100    0\n",
       "0.920100    0\n",
       "0.930100    0\n",
       "0.940100    0\n",
       "0.950100    0\n",
       "0.960100    0\n",
       "0.970100    0\n",
       "0.980100    0\n",
       "0.990100    0\n",
       "1.000100    0\n",
       "1.010100    0\n",
       "1.020100    0\n",
       "1.030100    0\n",
       "1.040100    0\n",
       "1.050100    0\n",
       "1.060100    0\n",
       "1.070100    0\n",
       "1.080100    0\n",
       "1.090100    0\n",
       "1.100100    0\n",
       "1.110100    0\n",
       "1.120100    0\n",
       "1.130100    0\n",
       "1.140100    0\n",
       "1.150100    0\n",
       "1.160100    0\n",
       "1.170100    0\n",
       "1.180100    0\n",
       "1.190100    0\n",
       "1.200100    0\n",
       "1.210100    0\n",
       "1.220100    0\n",
       "1.230100    0\n",
       "1.240100    0\n",
       "1.250100    0\n",
       "1.260100    0\n",
       "1.270100    0\n",
       "1.280100    0\n",
       "1.290100    0\n",
       "1.300100    0\n",
       "1.310100    0\n",
       "1.320100    0\n",
       "1.330100    0\n",
       "1.340100    0\n",
       "1.350100    0\n",
       "1.360100    0\n",
       "1.370100    0\n",
       "1.380100    0\n",
       "1.390100    0\n",
       "1.400100    0\n",
       "1.410100    0\n",
       "1.420100    0\n",
       "1.430100    0\n",
       "1.440100    0\n",
       "1.450100    0\n",
       "1.460100    0\n",
       "1.470100    0\n",
       "1.480100    0\n",
       "1.490100    0\n",
       "dtype: int64"
      ]
     },
     "execution_count": 120,
     "metadata": {},
     "output_type": "execute_result"
    }
   ],
   "source": [
    "# check for zeros in the above coefficients table\n",
    "df_params.apply(lambda x: sum(x.values==0),axis=1)"
   ]
  },
  {
   "cell_type": "markdown",
   "metadata": {},
   "source": [
    "<table align=\"left\">\n",
    "    <tr>\n",
    "        <td width=\"8%\">\n",
    "            <img src=\"solution.png\">\n",
    "        </td>\n",
    "        <td>\n",
    "            <div align=\"left\", style=\"font-size:120%\">\n",
    "                <font color=\"#21618C\">\n",
    "                    <b>Apart from the expected inference of higher RMSE for higher alphas, we can see the many of the coefficients are zero even for very small values of alpha.<br>\n",
    "                    For all alpha values, the corresponding value is the number of coefficients which implies there are coefficients with value zero.\n",
    "               \n",
    "</b>\n",
    "                </font>\n",
    "            </div>\n",
    "        </td>\n",
    "    </tr>\n",
    "</table>"
   ]
  },
  {
   "cell_type": "markdown",
   "metadata": {},
   "source": [
    "**5. Fit a elastic net model by substituting the alpha value obtained in step 4**"
   ]
  },
  {
   "cell_type": "code",
   "execution_count": 121,
   "metadata": {
    "scrolled": false
   },
   "outputs": [
    {
     "name": "stdout",
     "output_type": "stream",
     "text": [
      "                            OLS Regression Results                            \n",
      "==============================================================================\n",
      "Dep. Variable:        Chance of Admit   R-squared:                       0.790\n",
      "Model:                            OLS   Adj. R-squared:                  0.787\n",
      "Method:                 Least Squares   F-statistic:                     274.6\n",
      "Date:                Sun, 16 May 2021   Prob (F-statistic):           1.32e-97\n",
      "Time:                        19:59:40   Log-Likelihood:                 403.20\n",
      "No. Observations:                 297   AIC:                            -796.4\n",
      "Df Residuals:                     292   BIC:                            -777.9\n",
      "Df Model:                           4                                         \n",
      "Covariance Type:            nonrobust                                         \n",
      "================================================================================\n",
      "                   coef    std err          t      P>|t|      [0.025      0.975]\n",
      "--------------------------------------------------------------------------------\n",
      "const            0.4132      0.011     38.045      0.000       0.392       0.435\n",
      "TOEFL Score      0.1090      0.031      3.556      0.000       0.049       0.169\n",
      "LOR              0.0737      0.019      3.961      0.000       0.037       0.110\n",
      "CGPA             0.3782      0.034     11.044      0.000       0.311       0.446\n",
      "Research_yes     0.0307      0.008      3.609      0.000       0.014       0.047\n",
      "==============================================================================\n",
      "Omnibus:                       57.729   Durbin-Watson:                   1.778\n",
      "Prob(Omnibus):                  0.000   Jarque-Bera (JB):              105.665\n",
      "Skew:                          -1.046   Prob(JB):                     1.14e-23\n",
      "Kurtosis:                       5.040   Cond. No.                         17.9\n",
      "==============================================================================\n",
      "\n",
      "Notes:\n",
      "[1] Standard Errors assume that the covariance matrix of the errors is correctly specified.\n"
     ]
    }
   ],
   "source": [
    "# fit the elastic net regression model\n",
    "results_fr = elastic_net_regression.fit_regularized(method='elastic_net', \n",
    "                                                    L1_wt=0.0001, \n",
    "                                                    alpha= 0.0001, \n",
    "                                                    start_params=results_fu.params)\n",
    "\n",
    "# fit elastic net regression\n",
    "# model: specifies the regression model\n",
    "# params: specifies the estimated parameters\n",
    "# normalized_cov_params: specifies the normalized covariance parameters\n",
    "elastic_net_regression_best = sm.regression.linear_model.OLSResults(model=elastic_net_regression, \n",
    "                                              params=results_fr.params, \n",
    "                                              normalized_cov_params=elastic_net_regression.normalized_cov_params)\n",
    "\n",
    "# print the summary output\n",
    "print (elastic_net_regression_best.summary())"
   ]
  },
  {
   "cell_type": "markdown",
   "metadata": {},
   "source": [
    "<table align=\"left\">\n",
    "    <tr>\n",
    "        <td width=\"8%\">\n",
    "            <img src=\"solution.png\">\n",
    "        </td>\n",
    "        <td>\n",
    "            <div align=\"left\", style=\"font-size:120%\">\n",
    "                <font color=\"#21618C\">\n",
    "                    <b>This model explains 79% of the variation in dependent variable chance of admit. The Durbin-Watson test statistics is 1.778 and indicates that there is no autocorrelation. The Condition Number is 17.9 suggests that there is no collinearity.\n",
    "</b>\n",
    "                </font>\n",
    "            </div>\n",
    "        </td>\n",
    "    </tr>\n",
    "</table>"
   ]
  },
  {
   "cell_type": "markdown",
   "metadata": {},
   "source": [
    "**6. Compute model accuracy measures**\n",
    "\n",
    "Now we calculate accuray measures like Root-mean-square-error (RMSE), R-squared and Adjusted R-squared."
   ]
  },
  {
   "cell_type": "code",
   "execution_count": 122,
   "metadata": {},
   "outputs": [
    {
     "name": "stdout",
     "output_type": "stream",
     "text": [
      "RMSE on train set:  0.0623\n",
      "RMSE on test set:  0.0642\n",
      "Difference between RMSE on train and test set:  0.001899999999999992\n"
     ]
    }
   ],
   "source": [
    "# print training RMSE\n",
    "print('RMSE on train set: ', get_train_rmse(elastic_net_regression_best,X_train3,y_train3))\n",
    "\n",
    "# print training RMSE\n",
    "print('RMSE on test set: ', get_test_rmse(elastic_net_regression_best,X_test3,y_test3))\n",
    "\n",
    "# calculate the difference between train and test set RMSE\n",
    "difference = abs(get_test_rmse(elastic_net_regression_best,X_train3,y_train3) - get_train_rmse(elastic_net_regression_best,X_test3,y_test3))\n",
    "\n",
    "# print the difference between train and test set RMSE\n",
    "print('Difference between RMSE on train and test set: ', difference)"
   ]
  },
  {
   "cell_type": "markdown",
   "metadata": {},
   "source": [
    "**7. Graphs Representation**"
   ]
  },
  {
   "cell_type": "code",
   "execution_count": 123,
   "metadata": {},
   "outputs": [
    {
     "data": {
      "image/png": "[encoded data removed]",
      "text/plain": [
       "<Figure size 864x360 with 2 Axes>"
      ]
     },
     "metadata": {
      "needs_background": "light"
     },
     "output_type": "display_data"
    }
   ],
   "source": [
    "# subplot() is used to plot the multiple plots as a subplot\n",
    "# (1,2) plots a subplot of one row and two columns\n",
    "# pass the index of the plot as the third parameter of subplot()\n",
    "plt.figure(figsize=(12,5))\n",
    "plt.subplot(1,2,1)\n",
    "plot_coefficients(linreg_model_backforward, 'Linear Regression (OLS)')\n",
    "\n",
    "# pass the index of the plot as the third parameter of subplot()\n",
    "plt.subplot(1,2,2)\n",
    "plot_coefficients(elastic_net_regression_best, 'Elastic Net Regression')\n",
    "\n",
    "# to adjust the subplots\n",
    "plt.tight_layout()\n",
    "\n",
    "# display the plot\n",
    "plt.show()"
   ]
  },
  {
   "cell_type": "markdown",
   "metadata": {},
   "source": [
    "**8. Tabulate the results**"
   ]
  },
  {
   "cell_type": "code",
   "execution_count": 124,
   "metadata": {
    "scrolled": true
   },
   "outputs": [
    {
     "data": {
      "text/html": [
       "<div>\n",
       "<style scoped>\n",
       "    .dataframe tbody tr th:only-of-type {\n",
       "        vertical-align: middle;\n",
       "    }\n",
       "\n",
       "    .dataframe tbody tr th {\n",
       "        vertical-align: top;\n",
       "    }\n",
       "\n",
       "    .dataframe thead th {\n",
       "        text-align: right;\n",
       "    }\n",
       "</style>\n",
       "<table border=\"1\" class=\"dataframe\">\n",
       "  <thead>\n",
       "    <tr style=\"text-align: right;\">\n",
       "      <th></th>\n",
       "      <th>Model_Name</th>\n",
       "      <th>Alpha (Wherever Required)</th>\n",
       "      <th>l1-ratio</th>\n",
       "      <th>R-Squared</th>\n",
       "      <th>Adj. R-Squared</th>\n",
       "      <th>Train_RMSE</th>\n",
       "      <th>Test_RMSE</th>\n",
       "    </tr>\n",
       "  </thead>\n",
       "  <tbody>\n",
       "    <tr>\n",
       "      <th>0</th>\n",
       "      <td>Linear Regression using Feature Scaling</td>\n",
       "      <td>-</td>\n",
       "      <td>-</td>\n",
       "      <td>0.784622</td>\n",
       "      <td>0.778193</td>\n",
       "      <td>0.064500</td>\n",
       "      <td>0.056900</td>\n",
       "    </tr>\n",
       "    <tr>\n",
       "      <th>1</th>\n",
       "      <td>Linear Regression with significant variables</td>\n",
       "      <td>-</td>\n",
       "      <td>-</td>\n",
       "      <td>0.790988</td>\n",
       "      <td>0.787397</td>\n",
       "      <td>0.062100</td>\n",
       "      <td>0.064500</td>\n",
       "    </tr>\n",
       "    <tr>\n",
       "      <th>2</th>\n",
       "      <td>Linear Regression using backward elimination</td>\n",
       "      <td>-</td>\n",
       "      <td>-</td>\n",
       "      <td>0.789969</td>\n",
       "      <td>0.786360</td>\n",
       "      <td>0.062300</td>\n",
       "      <td>0.064300</td>\n",
       "    </tr>\n",
       "    <tr>\n",
       "      <th>3</th>\n",
       "      <td>Linear Regression (using SGD)</td>\n",
       "      <td>-</td>\n",
       "      <td>-</td>\n",
       "      <td>0.768092</td>\n",
       "      <td>0.755623</td>\n",
       "      <td>0.072100</td>\n",
       "      <td>0.070300</td>\n",
       "    </tr>\n",
       "    <tr>\n",
       "      <th>4</th>\n",
       "      <td>Linear Regression (using SGD)</td>\n",
       "      <td>-</td>\n",
       "      <td>-</td>\n",
       "      <td>0.768092</td>\n",
       "      <td>0.755623</td>\n",
       "      <td>0.072100</td>\n",
       "      <td>0.070300</td>\n",
       "    </tr>\n",
       "    <tr>\n",
       "      <th>5</th>\n",
       "      <td>Ridge Regression</td>\n",
       "      <td>0.0001</td>\n",
       "      <td>0</td>\n",
       "      <td>0.789964</td>\n",
       "      <td>0.786356</td>\n",
       "      <td>0.062300</td>\n",
       "      <td>0.064200</td>\n",
       "    </tr>\n",
       "    <tr>\n",
       "      <th>6</th>\n",
       "      <td>Lasso Regression</td>\n",
       "      <td>0.0001</td>\n",
       "      <td>1</td>\n",
       "      <td>0.789965</td>\n",
       "      <td>0.786356</td>\n",
       "      <td>0.062300</td>\n",
       "      <td>0.064300</td>\n",
       "    </tr>\n",
       "    <tr>\n",
       "      <th>7</th>\n",
       "      <td>Elastic Net Regression</td>\n",
       "      <td>0.0001</td>\n",
       "      <td>0.0001</td>\n",
       "      <td>0.789965</td>\n",
       "      <td>0.786356</td>\n",
       "      <td>0.062300</td>\n",
       "      <td>0.064200</td>\n",
       "    </tr>\n",
       "  </tbody>\n",
       "</table>\n",
       "</div>"
      ],
      "text/plain": [
       "                                     Model_Name Alpha (Wherever Required)  \\\n",
       "0       Linear Regression using Feature Scaling                         -   \n",
       "1  Linear Regression with significant variables                         -   \n",
       "2  Linear Regression using backward elimination                         -   \n",
       "3                 Linear Regression (using SGD)                         -   \n",
       "4                 Linear Regression (using SGD)                         -   \n",
       "5                              Ridge Regression                    0.0001   \n",
       "6                              Lasso Regression                    0.0001   \n",
       "7                        Elastic Net Regression                    0.0001   \n",
       "\n",
       "  l1-ratio  R-Squared  Adj. R-Squared  Train_RMSE  Test_RMSE  \n",
       "0        -   0.784622        0.778193    0.064500   0.056900  \n",
       "1        -   0.790988        0.787397    0.062100   0.064500  \n",
       "2        -   0.789969        0.786360    0.062300   0.064300  \n",
       "3        -   0.768092        0.755623    0.072100   0.070300  \n",
       "4        -   0.768092        0.755623    0.072100   0.070300  \n",
       "5        0   0.789964        0.786356    0.062300   0.064200  \n",
       "6        1   0.789965        0.786356    0.062300   0.064300  \n",
       "7   0.0001   0.789965        0.786356    0.062300   0.064200  "
      ]
     },
     "execution_count": 124,
     "metadata": {},
     "output_type": "execute_result"
    }
   ],
   "source": [
    "# update the dataframe 'score_card'\n",
    "update_score_card(xtrain=X_train3,ytrain=y_train3,xtest=X_test3,ytest=y_test3,algorithm_name = 'Elastic Net Regression', model = elastic_net_regression_best, alpha = '0.0001', l1_ratio = '0.0001')\n",
    "\n",
    "# print the datarframe\n",
    "score_card"
   ]
  },
  {
   "cell_type": "markdown",
   "metadata": {},
   "source": [
    "<table align=\"left\">\n",
    "    <tr>\n",
    "        <td width=\"8%\">\n",
    "            <img src=\"solution.png\">\n",
    "        </td>\n",
    "        <td>\n",
    "            <div align=\"left\", style=\"font-size:120%\">\n",
    "                <font color=\"#21618C\">\n",
    "                    <b>Notice that RMSE, R-squared and Adjusted R-squared values are very close for the ridge, lasso, and elastic net regression.\n",
    "</b>\n",
    "                </font>\n",
    "            </div>\n",
    "        </td>\n",
    "    </tr>\n",
    "</table>"
   ]
  },
  {
   "cell_type": "markdown",
   "metadata": {},
   "source": [
    "<a id='rmse_and_r-squared'></a>\n",
    "## 8. Conclusion "
   ]
  },
  {
   "cell_type": "markdown",
   "metadata": {},
   "source": [
    "To take the final conclusion, let us recall the result table again"
   ]
  },
  {
   "cell_type": "code",
   "execution_count": 125,
   "metadata": {
    "scrolled": true
   },
   "outputs": [
    {
     "data": {
      "text/html": [
       "<div>\n",
       "<style scoped>\n",
       "    .dataframe tbody tr th:only-of-type {\n",
       "        vertical-align: middle;\n",
       "    }\n",
       "\n",
       "    .dataframe tbody tr th {\n",
       "        vertical-align: top;\n",
       "    }\n",
       "\n",
       "    .dataframe thead th {\n",
       "        text-align: right;\n",
       "    }\n",
       "</style>\n",
       "<table border=\"1\" class=\"dataframe\">\n",
       "  <thead>\n",
       "    <tr style=\"text-align: right;\">\n",
       "      <th></th>\n",
       "      <th>Model_Name</th>\n",
       "      <th>Alpha (Wherever Required)</th>\n",
       "      <th>l1-ratio</th>\n",
       "      <th>R-Squared</th>\n",
       "      <th>Adj. R-Squared</th>\n",
       "      <th>Train_RMSE</th>\n",
       "      <th>Test_RMSE</th>\n",
       "    </tr>\n",
       "  </thead>\n",
       "  <tbody>\n",
       "    <tr>\n",
       "      <th>0</th>\n",
       "      <td>Linear Regression using Feature Scaling</td>\n",
       "      <td>-</td>\n",
       "      <td>-</td>\n",
       "      <td>0.784622</td>\n",
       "      <td>0.778193</td>\n",
       "      <td>0.064500</td>\n",
       "      <td>0.056900</td>\n",
       "    </tr>\n",
       "    <tr>\n",
       "      <th>1</th>\n",
       "      <td>Linear Regression with significant variables</td>\n",
       "      <td>-</td>\n",
       "      <td>-</td>\n",
       "      <td>0.790988</td>\n",
       "      <td>0.787397</td>\n",
       "      <td>0.062100</td>\n",
       "      <td>0.064500</td>\n",
       "    </tr>\n",
       "    <tr>\n",
       "      <th>2</th>\n",
       "      <td>Linear Regression using backward elimination</td>\n",
       "      <td>-</td>\n",
       "      <td>-</td>\n",
       "      <td>0.789969</td>\n",
       "      <td>0.786360</td>\n",
       "      <td>0.062300</td>\n",
       "      <td>0.064300</td>\n",
       "    </tr>\n",
       "    <tr>\n",
       "      <th>3</th>\n",
       "      <td>Linear Regression (using SGD)</td>\n",
       "      <td>-</td>\n",
       "      <td>-</td>\n",
       "      <td>0.768092</td>\n",
       "      <td>0.755623</td>\n",
       "      <td>0.072100</td>\n",
       "      <td>0.070300</td>\n",
       "    </tr>\n",
       "    <tr>\n",
       "      <th>4</th>\n",
       "      <td>Linear Regression (using SGD)</td>\n",
       "      <td>-</td>\n",
       "      <td>-</td>\n",
       "      <td>0.768092</td>\n",
       "      <td>0.755623</td>\n",
       "      <td>0.072100</td>\n",
       "      <td>0.070300</td>\n",
       "    </tr>\n",
       "    <tr>\n",
       "      <th>5</th>\n",
       "      <td>Ridge Regression</td>\n",
       "      <td>0.0001</td>\n",
       "      <td>0</td>\n",
       "      <td>0.789964</td>\n",
       "      <td>0.786356</td>\n",
       "      <td>0.062300</td>\n",
       "      <td>0.064200</td>\n",
       "    </tr>\n",
       "    <tr>\n",
       "      <th>6</th>\n",
       "      <td>Lasso Regression</td>\n",
       "      <td>0.0001</td>\n",
       "      <td>1</td>\n",
       "      <td>0.789965</td>\n",
       "      <td>0.786356</td>\n",
       "      <td>0.062300</td>\n",
       "      <td>0.064300</td>\n",
       "    </tr>\n",
       "    <tr>\n",
       "      <th>7</th>\n",
       "      <td>Elastic Net Regression</td>\n",
       "      <td>0.0001</td>\n",
       "      <td>0.0001</td>\n",
       "      <td>0.789965</td>\n",
       "      <td>0.786356</td>\n",
       "      <td>0.062300</td>\n",
       "      <td>0.064200</td>\n",
       "    </tr>\n",
       "  </tbody>\n",
       "</table>\n",
       "</div>"
      ],
      "text/plain": [
       "                                     Model_Name Alpha (Wherever Required)  \\\n",
       "0       Linear Regression using Feature Scaling                         -   \n",
       "1  Linear Regression with significant variables                         -   \n",
       "2  Linear Regression using backward elimination                         -   \n",
       "3                 Linear Regression (using SGD)                         -   \n",
       "4                 Linear Regression (using SGD)                         -   \n",
       "5                              Ridge Regression                    0.0001   \n",
       "6                              Lasso Regression                    0.0001   \n",
       "7                        Elastic Net Regression                    0.0001   \n",
       "\n",
       "  l1-ratio  R-Squared  Adj. R-Squared  Train_RMSE  Test_RMSE  \n",
       "0        -   0.784622        0.778193    0.064500   0.056900  \n",
       "1        -   0.790988        0.787397    0.062100   0.064500  \n",
       "2        -   0.789969        0.786360    0.062300   0.064300  \n",
       "3        -   0.768092        0.755623    0.072100   0.070300  \n",
       "4        -   0.768092        0.755623    0.072100   0.070300  \n",
       "5        0   0.789964        0.786356    0.062300   0.064200  \n",
       "6        1   0.789965        0.786356    0.062300   0.064300  \n",
       "7   0.0001   0.789965        0.786356    0.062300   0.064200  "
      ]
     },
     "execution_count": 125,
     "metadata": {},
     "output_type": "execute_result"
    }
   ],
   "source": [
    "# view the result table\n",
    "score_card"
   ]
  },
  {
   "cell_type": "markdown",
   "metadata": {},
   "source": [
    "<table align=\"left\">\n",
    "    <tr>\n",
    "        <td width=\"8%\">\n",
    "            <img src=\"solution.png\">\n",
    "        </td>\n",
    "        <td>\n",
    "            <div align=\"left\", style=\"font-size:120%\">\n",
    "                <font color=\"#21618C\">\n",
    "                    <b> There is barely difference between the RMSE values of Elastic Net Regression model and Ridge Regression model. So, we conclude both these models are best.  \n",
    "</b>\n",
    "                </font>\n",
    "            </div>\n",
    "        </td>\n",
    "    </tr>\n",
    "</table>\n"
   ]
  }
 ],
 "metadata": {
  "kernelspec": {
   "display_name": "Python 3",
   "language": "python",
   "name": "python3"
  },
  "language_info": {
   "codemirror_mode": {
    "name": "ipython",
    "version": 3
   },
   "file_extension": ".py",
   "mimetype": "text/x-python",
   "name": "python",
   "nbconvert_exporter": "python",
   "pygments_lexer": "ipython3",
   "version": "3.7.4"
  }
 },
 "nbformat": 4,
 "nbformat_minor": 2
}
